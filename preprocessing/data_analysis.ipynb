{
 "cells": [
  {
   "cell_type": "code",
   "execution_count": 3,
   "metadata": {},
   "outputs": [
    {
     "name": "stdout",
     "output_type": "stream",
     "text": [
      "3.7.3\n"
     ]
    }
   ],
   "source": [
    "import os\n",
    "import json\n",
    "import pickle\n",
    "import numpy as np\n",
    "import glob\n",
    "import random \n",
    "\n",
    "import pandas as pd\n",
    "import matplotlib.pyplot as plt\n",
    "from platform import python_version\n",
    "\n",
    "print(python_version())"
   ]
  },
  {
   "cell_type": "code",
   "execution_count": 2,
   "metadata": {},
   "outputs": [
    {
     "data": {
      "text/plain": [
       "['df4.pkl',\n",
       " 'df2.pkl',\n",
       " 'df5.pkl',\n",
       " 'item_stats.pkl',\n",
       " 'df3.pkl',\n",
       " 'df0.pkl',\n",
       " 'df1.pkl',\n",
       " 'pytorch_model.bin',\n",
       " 'user_stats.pkl',\n",
       " 'df.pkl',\n",
       " 'config.json',\n",
       " 'encoded_text.pkl']"
      ]
     },
     "execution_count": 2,
     "metadata": {},
     "output_type": "execute_result"
    }
   ],
   "source": [
    "(dirpath, dirnames, filenames) = next(os.walk('../datasets/books-pickle/'), (None, None, []))\n",
    "filenames"
   ]
  },
  {
   "cell_type": "code",
   "execution_count": 3,
   "metadata": {},
   "outputs": [],
   "source": [
    "books_path = '../datasets/Books_5.json.gz'\n",
    "pkl_path = '../datasets/books-pickle/'\n",
    "\n",
    "with open(pkl_path + \"df.pkl\", 'rb') as fin:\n",
    "    df = pickle.load(fin)\n",
    "\n",
    "with open(pkl_path + \"user_stats.pkl\", 'rb') as fin:\n",
    "    user_dict = pickle.load(fin)\n",
    "    \n",
    "with open(pkl_path + \"item_stats.pkl\", 'rb') as fin:\n",
    "    item_dict = pickle.load(fin)"
   ]
  },
  {
   "cell_type": "code",
   "execution_count": 4,
   "metadata": {},
   "outputs": [],
   "source": [
    "user_df = pd.DataFrame.from_dict(user_dict, orient='index')\n",
    "item_df = pd.DataFrame.from_dict(item_dict, orient='index')"
   ]
  },
  {
   "cell_type": "code",
   "execution_count": null,
   "metadata": {},
   "outputs": [],
   "source": []
  },
  {
   "cell_type": "code",
   "execution_count": 5,
   "metadata": {},
   "outputs": [
    {
     "name": "stdout",
     "output_type": "stream",
     "text": [
      "Number of unique reviewers: 8908\n",
      "Number of unique items: 88\n"
     ]
    }
   ],
   "source": [
    "print(\"Number of unique reviewers: {}\".format(len(user_dict.keys())))\n",
    "print(\"Number of unique items: {}\".format(len(item_dict.keys())))\n"
   ]
  },
  {
   "cell_type": "code",
   "execution_count": 6,
   "metadata": {},
   "outputs": [
    {
     "data": {
      "text/plain": [
       "'A0334855HN6E38CXWXZR'"
      ]
     },
     "execution_count": 6,
     "metadata": {},
     "output_type": "execute_result"
    }
   ],
   "source": [
    "list(user_dict.keys())[0]"
   ]
  },
  {
   "cell_type": "code",
   "execution_count": 7,
   "metadata": {},
   "outputs": [
    {
     "data": {
      "text/html": [
       "<div>\n",
       "<style scoped>\n",
       "    .dataframe tbody tr th:only-of-type {\n",
       "        vertical-align: middle;\n",
       "    }\n",
       "\n",
       "    .dataframe tbody tr th {\n",
       "        vertical-align: top;\n",
       "    }\n",
       "\n",
       "    .dataframe thead th {\n",
       "        text-align: right;\n",
       "    }\n",
       "</style>\n",
       "<table border=\"1\" class=\"dataframe\">\n",
       "  <thead>\n",
       "    <tr style=\"text-align: right;\">\n",
       "      <th></th>\n",
       "      <th>n_reviews</th>\n",
       "      <th>m_rating</th>\n",
       "      <th>m_words</th>\n",
       "    </tr>\n",
       "  </thead>\n",
       "  <tbody>\n",
       "    <tr>\n",
       "      <th>A0334855HN6E38CXWXZR</th>\n",
       "      <td>1</td>\n",
       "      <td>5.0</td>\n",
       "      <td>12.0</td>\n",
       "    </tr>\n",
       "    <tr>\n",
       "      <th>A0790722OCX87RKL2J3T</th>\n",
       "      <td>1</td>\n",
       "      <td>5.0</td>\n",
       "      <td>71.0</td>\n",
       "    </tr>\n",
       "    <tr>\n",
       "      <th>A100JBBLCC0NUC</th>\n",
       "      <td>1</td>\n",
       "      <td>5.0</td>\n",
       "      <td>27.0</td>\n",
       "    </tr>\n",
       "    <tr>\n",
       "      <th>A101OKMJFCIWYH</th>\n",
       "      <td>2</td>\n",
       "      <td>5.0</td>\n",
       "      <td>26.0</td>\n",
       "    </tr>\n",
       "    <tr>\n",
       "      <th>A1022R52JDJVMA</th>\n",
       "      <td>1</td>\n",
       "      <td>5.0</td>\n",
       "      <td>58.0</td>\n",
       "    </tr>\n",
       "  </tbody>\n",
       "</table>\n",
       "</div>"
      ],
      "text/plain": [
       "                      n_reviews  m_rating  m_words\n",
       "A0334855HN6E38CXWXZR          1       5.0     12.0\n",
       "A0790722OCX87RKL2J3T          1       5.0     71.0\n",
       "A100JBBLCC0NUC                1       5.0     27.0\n",
       "A101OKMJFCIWYH                2       5.0     26.0\n",
       "A1022R52JDJVMA                1       5.0     58.0"
      ]
     },
     "execution_count": 7,
     "metadata": {},
     "output_type": "execute_result"
    }
   ],
   "source": [
    "user_df.head()"
   ]
  },
  {
   "cell_type": "code",
   "execution_count": 8,
   "metadata": {},
   "outputs": [
    {
     "data": {
      "text/html": [
       "<div>\n",
       "<style scoped>\n",
       "    .dataframe tbody tr th:only-of-type {\n",
       "        vertical-align: middle;\n",
       "    }\n",
       "\n",
       "    .dataframe tbody tr th {\n",
       "        vertical-align: top;\n",
       "    }\n",
       "\n",
       "    .dataframe thead th {\n",
       "        text-align: right;\n",
       "    }\n",
       "</style>\n",
       "<table border=\"1\" class=\"dataframe\">\n",
       "  <thead>\n",
       "    <tr style=\"text-align: right;\">\n",
       "      <th></th>\n",
       "      <th>n_reviews</th>\n",
       "      <th>m_rating</th>\n",
       "      <th>m_words</th>\n",
       "    </tr>\n",
       "  </thead>\n",
       "  <tbody>\n",
       "    <tr>\n",
       "      <th>0000013765</th>\n",
       "      <td>3</td>\n",
       "      <td>5.000000</td>\n",
       "      <td>36.666667</td>\n",
       "    </tr>\n",
       "    <tr>\n",
       "      <th>0000230022</th>\n",
       "      <td>8</td>\n",
       "      <td>5.000000</td>\n",
       "      <td>52.375000</td>\n",
       "    </tr>\n",
       "    <tr>\n",
       "      <th>0000913154</th>\n",
       "      <td>4</td>\n",
       "      <td>5.000000</td>\n",
       "      <td>89.750000</td>\n",
       "    </tr>\n",
       "    <tr>\n",
       "      <th>0001046519</th>\n",
       "      <td>15</td>\n",
       "      <td>4.866667</td>\n",
       "      <td>21.733333</td>\n",
       "    </tr>\n",
       "    <tr>\n",
       "      <th>0001047566</th>\n",
       "      <td>25</td>\n",
       "      <td>4.000000</td>\n",
       "      <td>139.120000</td>\n",
       "    </tr>\n",
       "  </tbody>\n",
       "</table>\n",
       "</div>"
      ],
      "text/plain": [
       "            n_reviews  m_rating     m_words\n",
       "0000013765          3  5.000000   36.666667\n",
       "0000230022          8  5.000000   52.375000\n",
       "0000913154          4  5.000000   89.750000\n",
       "0001046519         15  4.866667   21.733333\n",
       "0001047566         25  4.000000  139.120000"
      ]
     },
     "execution_count": 8,
     "metadata": {},
     "output_type": "execute_result"
    }
   ],
   "source": [
    "item_df.head()"
   ]
  },
  {
   "cell_type": "code",
   "execution_count": 9,
   "metadata": {
    "scrolled": true
   },
   "outputs": [
    {
     "name": "stdout",
     "output_type": "stream",
     "text": [
      "Mean: 1.12\n",
      "Median: 1.0\n",
      "Std: 0.61\n"
     ]
    },
    {
     "data": {
      "image/png": "[encoded data removed]",
      "text/plain": [
       "<Figure size 432x288 with 1 Axes>"
      ]
     },
     "metadata": {
      "needs_background": "light"
     },
     "output_type": "display_data"
    }
   ],
   "source": [
    "#reviews per user\n",
    "plt.hist(user_df['n_reviews'], bins=[1,2,3,4,6,10], density=True)\n",
    "plt.axvline(user_df['n_reviews'].mean(), color='orange', linestyle='--', label='mean')\n",
    "\n",
    "plt.xlabel('# reviews per user')\n",
    "plt.ylabel('Proportion')\n",
    "plt.title('Distribution of # reviews per user')\n",
    "\n",
    "plt.legend()\n",
    "\n",
    "print(\"Mean: %.2f\" % user_df['n_reviews'].mean())\n",
    "print(\"Median: %.1f\" % user_df['n_reviews'].median())\n",
    "print(\"Std: %.2f\" % user_df['n_reviews'].std())"
   ]
  },
  {
   "cell_type": "code",
   "execution_count": 10,
   "metadata": {},
   "outputs": [
    {
     "name": "stdout",
     "output_type": "stream",
     "text": [
      "Users with more than 3 reviews: 94\n",
      "That's only 1.055231252806466 %\n"
     ]
    }
   ],
   "source": [
    "min_reviews = 3\n",
    "print(\"Users with more than {} reviews: {}\".format(min_reviews, user_df[user_df['n_reviews'] > min_reviews]['n_reviews'].count()))\n",
    "print(\"That's only {} %\".format(user_df[user_df['n_reviews'] > min_reviews]['n_reviews'].count() / len(user_df)*100))"
   ]
  },
  {
   "cell_type": "code",
   "execution_count": 11,
   "metadata": {},
   "outputs": [
    {
     "name": "stdout",
     "output_type": "stream",
     "text": [
      "Mean: 88.84\n",
      "Std: 136.01\n",
      "Median: 41.0\n",
      "Min: 0.0\n"
     ]
    },
    {
     "data": {
      "text/plain": [
       "<matplotlib.legend.Legend at 0x7f767e75f358>"
      ]
     },
     "execution_count": 11,
     "metadata": {},
     "output_type": "execute_result"
    },
    {
     "data": {
      "image/png": "[encoded data removed]",
      "text/plain": [
       "<Figure size 432x288 with 1 Axes>"
      ]
     },
     "metadata": {
      "needs_background": "light"
     },
     "output_type": "display_data"
    }
   ],
   "source": [
    "plt.hist(user_df['m_words'], bins=[10, 20, 50, 100, 150, 200, 300, 350], density=True)\n",
    "plt.axvline(user_df['m_words'].mean(), color='orange', linestyle='--', label='mean')\n",
    "plt.axvline(user_df['m_words'].median(), color='green', linestyle='--', label='median')\n",
    "\n",
    "\n",
    "print(\"Mean: %.2f\" % user_df['m_words'].mean())\n",
    "print(\"Std: %.2f\" % user_df['m_words'].std())\n",
    "print(\"Median: %.1f\" % user_df['m_words'].median())\n",
    "print(\"Min: %.1f\" % user_df['m_words'].min())\n",
    "\n",
    "plt.xlabel('average # words per User')\n",
    "plt.ylabel('Proportion')\n",
    "plt.title('Distribution of # words per User')\n",
    "plt.legend()"
   ]
  },
  {
   "cell_type": "code",
   "execution_count": 12,
   "metadata": {},
   "outputs": [],
   "source": [
    "#m_words per user\n",
    "def plot_words_per_user(user_df, bins=[10, 20, 50, 100, 150, 200, 300, 350], density=True):\n",
    "    plt.hist(user_df['m_words'], bins=bins, density=density)\n",
    "    plt.axvline(user_df['m_words'].mean(), color='orange', linestyle='--', label='mean')\n",
    "    plt.axvline(user_df['m_words'].median(), color='green', linestyle='--', label='median')\n",
    "\n",
    "\n",
    "    print(\"Mean: %.2f\" % user_df['m_words'].mean())\n",
    "    print(\"Std: %.2f\" % user_df['m_words'].std())\n",
    "    print(\"Median: %.1f\" % user_df['m_words'].median())\n",
    "    print(\"Min: %.1f\" % user_df['m_words'].min())\n",
    "    print(\"Max: %.1f\" % user_df['m_words'].max())\n",
    "\n",
    "    plt.xlabel('average # words per User')\n",
    "    plt.ylabel('Proportion')\n",
    "    plt.title('Distribution of # words per User')\n",
    "    plt.legend()"
   ]
  },
  {
   "cell_type": "code",
   "execution_count": 13,
   "metadata": {},
   "outputs": [],
   "source": [
    "def plot_per_key(df, key, bins, density=True):\n",
    "    plt.hist(df[key], bins=bins, density=density)\n",
    "    plt.axvline(df[key].mean(), color='orange', linestyle='--', label='mean')\n",
    "    plt.axvline(df[key].median(), color='green', linestyle='--', label='median')\n",
    "\n",
    "\n",
    "    print(\"Mean: %.2f\" % df[key].mean())\n",
    "    print(\"Std: %.2f\" % df[key].std())\n",
    "    print(\"Median: %.1f\" % df[key].median())\n",
    "    print(\"Min: %.1f\" % df[key].min())\n",
    "    print(\"Max: %.1f\" % df[key].max())\n",
    "\n",
    "    plt.xlabel('{}'.format(key))\n",
    "    plt.ylabel('Proportion')\n",
    "    plt.title('Distribution of {}'.format(key))\n",
    "    plt.legend()"
   ]
  },
  {
   "cell_type": "code",
   "execution_count": 14,
   "metadata": {},
   "outputs": [
    {
     "name": "stdout",
     "output_type": "stream",
     "text": [
      "Users with more than 90 average words per review: 2395\n",
      "That's 26.88594521778177% of all users\n"
     ]
    }
   ],
   "source": [
    "min_words = 90\n",
    "print(\"Users with more than {} average words per review: {}\".format(min_words, user_df[user_df['m_words'] > min_words]['n_reviews'].count()))\n",
    "print(\"That's {}% of all users\".format(user_df[user_df['m_words'] > min_words]['n_reviews'].count() / len(user_df)*100))"
   ]
  },
  {
   "cell_type": "code",
   "execution_count": 15,
   "metadata": {},
   "outputs": [
    {
     "name": "stdout",
     "output_type": "stream",
     "text": [
      "2194\n",
      "Mean: 255.29\n",
      "Std: 190.83\n",
      "Median: 192.3\n",
      "Min: 101.0\n",
      "Max: 2116.0\n"
     ]
    },
    {
     "data": {
      "image/png": "[encoded data removed]",
      "text/plain": [
       "<Figure size 432x288 with 1 Axes>"
      ]
     },
     "metadata": {
      "needs_background": "light"
     },
     "output_type": "display_data"
    }
   ],
   "source": [
    "min_words = 100\n",
    "user_subset = user_df[user_df['m_words'] > min_words]\n",
    "print(len(user_subset))\n",
    "#bins=np.geomspace(min_words, int(user_subset['m_words'].max()), 7)\n",
    "\n",
    "plot_words_per_user(user_subset, bins=range(min_words, 400, 30), density=0)"
   ]
  },
  {
   "cell_type": "code",
   "execution_count": 16,
   "metadata": {},
   "outputs": [
    {
     "name": "stdout",
     "output_type": "stream",
     "text": [
      "32\n",
      "Mean: 7.50\n",
      "Std: 4.62\n",
      "Median: 6.0\n",
      "Min: 5.0\n",
      "Max: 27.0\n"
     ]
    },
    {
     "data": {
      "image/png": "[encoded data removed]",
      "text/plain": [
       "<Figure size 432x288 with 1 Axes>"
      ]
     },
     "metadata": {
      "needs_background": "light"
     },
     "output_type": "display_data"
    }
   ],
   "source": [
    "min_reviews = 5\n",
    "user_subset = user_df[user_df['n_reviews'] >= min_reviews]\n",
    "print(len(user_subset))\n",
    "plot_per_key(user_subset, key='n_reviews', bins=range(min_reviews, 10, 1), density=0)"
   ]
  },
  {
   "cell_type": "code",
   "execution_count": 17,
   "metadata": {},
   "outputs": [],
   "source": [
    "user_subset = user_df[user_df['n_reviews'] > min_reviews]"
   ]
  },
  {
   "cell_type": "markdown",
   "metadata": {},
   "source": [
    "## Items"
   ]
  },
  {
   "cell_type": "code",
   "execution_count": 20,
   "metadata": {},
   "outputs": [
    {
     "name": "stdout",
     "output_type": "stream",
     "text": [
      "Mean: 113.64\n",
      "Std: 328.94\n",
      "Median: 26.5\n",
      "Min: 1.0\n",
      "Max: 2753.0\n"
     ]
    },
    {
     "data": {
      "text/plain": [
       "Text(0.5, 1.0, 'Distribution of # reviews per Item')"
      ]
     },
     "execution_count": 20,
     "metadata": {},
     "output_type": "execute_result"
    },
    {
     "data": {
      "image/png": "[encoded data removed]",
      "text/plain": [
       "<Figure size 432x288 with 1 Axes>"
      ]
     },
     "metadata": {
      "needs_background": "light"
     },
     "output_type": "display_data"
    }
   ],
   "source": [
    "plot_per_key(item_df, key='n_reviews', bins=[2,5,10, 20, 50, 150, 250])\n",
    "plt.xlabel('# reviews per item')\n",
    "plt.ylabel('Proportion')\n",
    "plt.title('Distribution of # reviews per Item')"
   ]
  },
  {
   "cell_type": "code",
   "execution_count": 19,
   "metadata": {},
   "outputs": [
    {
     "name": "stdout",
     "output_type": "stream",
     "text": [
      "Mean: 103.33\n",
      "Std: 69.10\n",
      "Median: 82.0\n",
      "Min: 21.7\n",
      "Max: 427.7\n"
     ]
    },
    {
     "data": {
      "text/plain": [
       "Text(0.5, 1.0, 'Distribution of # words per Item')"
      ]
     },
     "execution_count": 19,
     "metadata": {},
     "output_type": "execute_result"
    },
    {
     "data": {
      "image/png": "[encoded data removed]",
      "text/plain": [
       "<Figure size 432x288 with 1 Axes>"
      ]
     },
     "metadata": {
      "needs_background": "light"
     },
     "output_type": "display_data"
    }
   ],
   "source": [
    "plot_per_key(item_df, key='m_words', bins=[20, 50, 75, 100, 150, 200, 300, 350], density=True)\n",
    "plt.xlabel('# words per item')\n",
    "plt.ylabel('Proportion')\n",
    "plt.title('Distribution of # words per Item')"
   ]
  }
 ],
 "metadata": {
  "kernelspec": {
   "display_name": ".venv-mt",
   "language": "python",
   "name": ".venv-mt"
  },
  "language_info": {
   "codemirror_mode": {
    "name": "ipython",
    "version": 3
   },
   "file_extension": ".py",
   "mimetype": "text/x-python",
   "name": "python",
   "nbconvert_exporter": "python",
   "pygments_lexer": "ipython3",
   "version": "3.7.3"
  }
 },
 "nbformat": 4,
 "nbformat_minor": 2
}
