{
 "cells": [
  {
   "cell_type": "code",
   "execution_count": 30,
   "metadata": {},
   "outputs": [],
   "source": [
    "import json\n",
    "import gzip\n",
    "import os\n",
    "import pickle\n",
    "from pathlib import Path\n",
    "from smart_open import open\n",
    "from transformers import BertTokenizer, BertModel\n",
    "\n",
    "\n",
    "import string\n",
    "import random\n",
    "import pandas as pd\n",
    "\n",
    "import matplotlib.pyplot as plt\n",
    "from collections import OrderedDict, defaultdict\n",
    "from tqdm import tqdm\n",
    "\n",
    "import nltk"
   ]
  },
  {
   "cell_type": "code",
   "execution_count": 31,
   "metadata": {},
   "outputs": [
    {
     "name": "stderr",
     "output_type": "stream",
     "text": [
      "[nltk_data] Downloading package punkt to /home/henning/nltk_data...\n",
      "[nltk_data]   Package punkt is already up-to-date!\n"
     ]
    },
    {
     "data": {
      "text/plain": [
       "True"
      ]
     },
     "execution_count": 31,
     "metadata": {},
     "output_type": "execute_result"
    }
   ],
   "source": [
    "nltk.download('punkt')"
   ]
  },
  {
   "cell_type": "code",
   "execution_count": 2,
   "metadata": {},
   "outputs": [
    {
     "name": "stdout",
     "output_type": "stream",
     "text": [
      "Requirement already satisfied: smart_open in /home/henning/miniconda3/lib/python3.7/site-packages (1.9.0)\n",
      "Requirement already satisfied: boto>=2.32 in /home/henning/miniconda3/lib/python3.7/site-packages (from smart_open) (2.49.0)\n",
      "Requirement already satisfied: requests in /home/henning/miniconda3/lib/python3.7/site-packages (from smart_open) (2.22.0)\n",
      "Requirement already satisfied: boto3 in /home/henning/miniconda3/lib/python3.7/site-packages (from smart_open) (1.11.7)\n",
      "Requirement already satisfied: certifi>=2017.4.17 in /home/henning/miniconda3/lib/python3.7/site-packages (from requests->smart_open) (2019.6.16)\n",
      "Requirement already satisfied: chardet<3.1.0,>=3.0.2 in /home/henning/miniconda3/lib/python3.7/site-packages (from requests->smart_open) (3.0.4)\n",
      "Requirement already satisfied: urllib3!=1.25.0,!=1.25.1,<1.26,>=1.21.1 in /home/henning/miniconda3/lib/python3.7/site-packages (from requests->smart_open) (1.24.2)\n",
      "Requirement already satisfied: idna<2.9,>=2.5 in /home/henning/miniconda3/lib/python3.7/site-packages (from requests->smart_open) (2.8)\n",
      "Requirement already satisfied: botocore<1.15.0,>=1.14.7 in /home/henning/miniconda3/lib/python3.7/site-packages (from boto3->smart_open) (1.14.15)\n",
      "Requirement already satisfied: jmespath<1.0.0,>=0.7.1 in /home/henning/miniconda3/lib/python3.7/site-packages (from boto3->smart_open) (0.9.4)\n",
      "Requirement already satisfied: s3transfer<0.4.0,>=0.3.0 in /home/henning/miniconda3/lib/python3.7/site-packages (from boto3->smart_open) (0.3.1)\n",
      "Requirement already satisfied: python-dateutil<3.0.0,>=2.1 in /home/henning/miniconda3/lib/python3.7/site-packages (from botocore<1.15.0,>=1.14.7->boto3->smart_open) (2.8.0)\n",
      "Requirement already satisfied: docutils<0.16,>=0.10 in /home/henning/miniconda3/lib/python3.7/site-packages (from botocore<1.15.0,>=1.14.7->boto3->smart_open) (0.15.2)\n",
      "Requirement already satisfied: six>=1.5 in /home/henning/miniconda3/lib/python3.7/site-packages (from python-dateutil<3.0.0,>=2.1->botocore<1.15.0,>=1.14.7->boto3->smart_open) (1.12.0)\n"
     ]
    }
   ],
   "source": [
    "!pip install smart_open"
   ]
  },
  {
   "cell_type": "code",
   "execution_count": 2,
   "metadata": {},
   "outputs": [],
   "source": [
    "def data_stream_generator(data_dir):\n",
    "    files = [file for file in Path(data_dir).iterdir() if\n",
    "             file.is_file() and file.name[0] not in '_.']\n",
    "    for file in files:\n",
    "        with open(file) as rf:\n",
    "            yield from (json.loads(line) for line in rf.read().splitlines() if line)"
   ]
  },
  {
   "cell_type": "code",
   "execution_count": 3,
   "metadata": {},
   "outputs": [],
   "source": [
    "data_dir = \"../datasets/dpg/\""
   ]
  },
  {
   "cell_type": "code",
   "execution_count": 4,
   "metadata": {},
   "outputs": [
    {
     "data": {
      "text/plain": [
       "['item_ids_10k.pkl',\n",
       " 'users5k_on_items100k.pkl',\n",
       " 'users_5k.pkl',\n",
       " 'items',\n",
       " 'item_ids_100k.pkl',\n",
       " 'data_neg_sample.pkl',\n",
       " 'item_ids.pkl',\n",
       " 'users_on_item_subset.pkl',\n",
       " 'users',\n",
       " 'users_50k.pkl']"
      ]
     },
     "execution_count": 4,
     "metadata": {},
     "output_type": "execute_result"
    }
   ],
   "source": [
    "os.listdir(data_dir)"
   ]
  },
  {
   "cell_type": "code",
   "execution_count": 46,
   "metadata": {},
   "outputs": [],
   "source": [
    "# set specifications for subset\n",
    "config = {}\n",
    "config[\"n_items\"] = 1e5\n",
    "config[\"n_users\"] = 5e3\n",
    "config[\"snippet_len\"] = 50\n",
    "config[\"name\"] = \"i100k_u50k_s50\"\n",
    "\n",
    "save_path = data_dir + config[\"name\"] + \"/\"\n",
    "\n",
    "config[\"save_path\"] = save_path\n"
   ]
  },
  {
   "cell_type": "code",
   "execution_count": 47,
   "metadata": {},
   "outputs": [],
   "source": [
    "try:\n",
    "    os.mkdir(config[\"save_path\"])\n",
    "except:\n",
    "    pass    "
   ]
  },
  {
   "cell_type": "code",
   "execution_count": 45,
   "metadata": {},
   "outputs": [],
   "source": [
    "def get_text_snippet(text, len_snippet):\n",
    "    naive_tokens = str(text).split(\" \")[:len_snippet]\n",
    "    #TODO: remove stop words            \n",
    "    return \" \".join(naive_tokens) \n",
    "\n",
    "def item_id_generator(data_dir):\n",
    "    i_ids = set()\n",
    "    for item in tqdm(data_stream_generator(data_dir + \"items\")):\n",
    "        i_ids.add(item['short_id'])\n",
    "        \n",
    "    return i_ids"
   ]
  },
  {
   "cell_type": "code",
   "execution_count": 6,
   "metadata": {},
   "outputs": [
    {
     "name": "stderr",
     "output_type": "stream",
     "text": [
      "2698562it [03:15, 13806.39it/s]\n"
     ]
    }
   ],
   "source": [
    "i_ids = item_id_generator(data_dir)"
   ]
  },
  {
   "cell_type": "code",
   "execution_count": 7,
   "metadata": {},
   "outputs": [
    {
     "data": {
      "text/plain": [
       "2698562"
      ]
     },
     "execution_count": 7,
     "metadata": {},
     "output_type": "execute_result"
    }
   ],
   "source": [
    "len(i_ids)"
   ]
  },
  {
   "cell_type": "code",
   "execution_count": 12,
   "metadata": {},
   "outputs": [],
   "source": [
    "with open(data_dir + \"item_ids.pkl\", 'wb') as fout:\n",
    "    pickle.dump(i_ids, fout)"
   ]
  },
  {
   "cell_type": "code",
   "execution_count": 13,
   "metadata": {},
   "outputs": [],
   "source": [
    "#i_ids = list(i_ids)"
   ]
  },
  {
   "cell_type": "code",
   "execution_count": 14,
   "metadata": {},
   "outputs": [],
   "source": [
    "with open(data_dir + \"item_ids_100k.pkl\", 'wb') as fout:\n",
    "    pickle.dump(list(i_ids)[:100000], fout)"
   ]
  },
  {
   "cell_type": "code",
   "execution_count": 17,
   "metadata": {},
   "outputs": [
    {
     "name": "stdout",
     "output_type": "stream",
     "text": [
      "dict_keys(['text', 'pub_date', 'author', 'url', 'short_id'])\n",
      "CPU times: user 5.96 s, sys: 204 ms, total: 6.16 s\n",
      "Wall time: 6.16 s\n"
     ]
    }
   ],
   "source": [
    "%%time\n",
    "item_dict = OrderedDict()\n",
    "#len_snippet = 20\n",
    "snippet_len = config[\"snippet_len\"]\n",
    "\n",
    "keys_to_exclude = [\"short_id\", \"url\"]\n",
    "\n",
    "for i, item in enumerate(data_stream_generator(data_dir + \"items\")):\n",
    "    #data[i] = item\n",
    "    item_dict[item['short_id']] = {key:val for (key,val) in item.items() if key not in keys_to_exclude}\n",
    "    \n",
    "    if snippet_len != None:      \n",
    "        #print(item['text'])\n",
    "        item_dict[item['short_id']]['snippet'] = get_text_snippet(item['text'], snippet_len)\n",
    "    \n",
    "    if i == config[\"n_items\"]-1:\n",
    "        break\n",
    "    elif i == 0:\n",
    "        print(item.keys())\n",
    "        #print(item_dict[item['short_id']]['snippet'])   \n"
   ]
  },
  {
   "cell_type": "code",
   "execution_count": 18,
   "metadata": {},
   "outputs": [
    {
     "data": {
      "text/plain": [
       "100000"
      ]
     },
     "execution_count": 18,
     "metadata": {},
     "output_type": "execute_result"
    }
   ],
   "source": [
    "len(item_dict.keys())"
   ]
  },
  {
   "cell_type": "code",
   "execution_count": 20,
   "metadata": {},
   "outputs": [
    {
     "data": {
      "text/plain": [
       "'Nieuw: patatje met ... snert Naast het vertrouwde patatje \\'met\\' en oorlog serveert Bram\\'s Gourmet Frites sinds vrijdag een oer-Hollandse variant: \\'Winterse Snert Stoof\\'. Het broertje van Bram Ladage is geïnspireerd door de traditionele \\'oma\\'s erwtensoep\\'. Dat gerecht is in een nieuw jasje gestoken. In de snert zitten onder meer stukken rookworst en spekjes. Om het af te maken, komt er knapperige groentechips op de bak met patat. Het frietje past volgens Rocco Ladage van BRAM\\'S goed bij het winterweer. \"Want wat is nu meer nostalgisch dan opwarmen met erwtensoep op een ijskoude winterdag?” De seizoenspatat zal de komende maanden op de kaart staan. Eerder kwam de Rotterdamse patatboer al met een topping van wild stoofvlees uit de Hoeksche Waard en patatje roti stoof. Elke ochtend up-to-date met het laatste nieuws uit Rotterdam en omstreken? Schrijf je hier gratis in!'"
      ]
     },
     "execution_count": 20,
     "metadata": {},
     "output_type": "execute_result"
    }
   ],
   "source": [
    "item_dict[next(iter(item_dict))][\"text\"]"
   ]
  },
  {
   "cell_type": "code",
   "execution_count": 49,
   "metadata": {},
   "outputs": [],
   "source": [
    "with open(config[\"save_path\"] + \"news_data.pkl\", 'wb') as fout:\n",
    "    pickle.dump(item_dict, fout)"
   ]
  },
  {
   "cell_type": "code",
   "execution_count": 21,
   "metadata": {},
   "outputs": [
    {
     "name": "stderr",
     "output_type": "stream",
     "text": [
      "1903it [00:00, 1408.72it/s]"
     ]
    },
    {
     "name": "stdout",
     "output_type": "stream",
     "text": [
      "dict_keys(['user_id', 'articles_read', 'opened_pushes', 'articles_pushed'])\n",
      "iteration 0\n",
      "iteration 100\n",
      "iteration 200\n",
      "iteration 300\n",
      "iteration 400\n",
      "iteration 500\n",
      "iteration 600\n",
      "iteration 700\n",
      "iteration 800\n",
      "iteration 900\n",
      "iteration 1000\n",
      "iteration 1100\n",
      "1000\n",
      "iteration 1200\n",
      "iteration 1300\n",
      "iteration 1400\n",
      "iteration 1500\n",
      "iteration 1600\n",
      "iteration 1700\n",
      "iteration 1800\n",
      "iteration 1900\n",
      "iteration 2000\n",
      "iteration 2100\n",
      "iteration 2200\n",
      "2000\n",
      "iteration 2300\n",
      "iteration 2400\n",
      "iteration 2500\n",
      "iteration 2600\n",
      "iteration 2700\n",
      "iteration 2800\n",
      "iteration 2900\n",
      "iteration 3000\n"
     ]
    },
    {
     "name": "stderr",
     "output_type": "stream",
     "text": [
      "5710it [00:00, 3330.92it/s]"
     ]
    },
    {
     "name": "stdout",
     "output_type": "stream",
     "text": [
      "iteration 3100\n",
      "iteration 3200\n",
      "iteration 3300\n",
      "iteration 3400\n",
      "3000\n",
      "iteration 3500\n",
      "iteration 3600\n",
      "iteration 3700\n",
      "iteration 3800\n",
      "iteration 3900\n",
      "iteration 4000\n",
      "iteration 4100\n",
      "iteration 4200\n",
      "iteration 4300\n",
      "iteration 4400\n",
      "iteration 4500\n",
      "4000\n",
      "iteration 4600\n",
      "iteration 4700\n",
      "iteration 4800\n",
      "iteration 4900\n",
      "iteration 5000\n",
      "iteration 5100\n",
      "iteration 5200\n",
      "iteration 5300\n",
      "iteration 5400\n",
      "iteration 5500\n",
      "iteration 5600\n",
      "5000\n",
      "iteration 5700\n",
      "iteration 5800\n",
      "iteration 5900\n",
      "iteration 6000\n",
      "iteration 6100\n",
      "iteration 6200\n",
      "iteration 6300\n",
      "iteration 6400\n",
      "iteration 6500\n",
      "iteration 6600\n",
      "iteration 6700\n",
      "iteration 6800\n",
      "6000\n",
      "iteration 6900\n",
      "iteration 7000\n",
      "iteration 7100\n"
     ]
    },
    {
     "name": "stderr",
     "output_type": "stream",
     "text": [
      "8627it [00:00, 5016.83it/s]"
     ]
    },
    {
     "name": "stdout",
     "output_type": "stream",
     "text": [
      "iteration 7200\n",
      "iteration 7300\n",
      "iteration 7400\n",
      "iteration 7500\n",
      "iteration 7600\n",
      "iteration 7700\n",
      "iteration 7800\n",
      "iteration 7900\n",
      "7000\n",
      "iteration 8000\n",
      "iteration 8100\n",
      "iteration 8200\n",
      "iteration 8300\n",
      "iteration 8400\n",
      "iteration 8500\n",
      "iteration 8600\n",
      "iteration 8700\n",
      "iteration 8800\n",
      "iteration 8900\n",
      "iteration 9000\n",
      "iteration 9100\n",
      "8000\n",
      "iteration 9200\n"
     ]
    },
    {
     "name": "stderr",
     "output_type": "stream",
     "text": [
      "\r",
      "10033it [00:00, 6216.16it/s]"
     ]
    },
    {
     "name": "stdout",
     "output_type": "stream",
     "text": [
      "iteration 9300\n",
      "iteration 9400\n",
      "iteration 9500\n",
      "iteration 9600\n",
      "iteration 9700\n",
      "iteration 9800\n",
      "iteration 9900\n",
      "iteration 10000\n",
      "iteration 10100\n",
      "iteration 10200\n"
     ]
    },
    {
     "name": "stderr",
     "output_type": "stream",
     "text": [
      "12804it [00:01, 5601.01it/s]"
     ]
    },
    {
     "name": "stdout",
     "output_type": "stream",
     "text": [
      "9000\n",
      "iteration 10300\n",
      "iteration 10400\n",
      "iteration 10500\n",
      "iteration 10600\n",
      "iteration 10700\n",
      "iteration 10800\n",
      "iteration 10900\n",
      "iteration 11000\n",
      "iteration 11100\n",
      "iteration 11200\n",
      "iteration 11300\n",
      "10000\n",
      "iteration 11400\n",
      "iteration 11500\n",
      "iteration 11600\n",
      "iteration 11700\n",
      "iteration 11800\n",
      "iteration 11900\n",
      "iteration 12000\n",
      "iteration 12100\n",
      "iteration 12200\n",
      "iteration 12300\n",
      "iteration 12400\n",
      "iteration 12500\n",
      "11000\n",
      "iteration 12600\n",
      "iteration 12700\n",
      "iteration 12800\n",
      "iteration 12900\n",
      "iteration 13000\n",
      "iteration 13100\n",
      "iteration 13200\n",
      "iteration 13300\n",
      "iteration 13400\n",
      "iteration 13500\n",
      "iteration 13600"
     ]
    },
    {
     "name": "stderr",
     "output_type": "stream",
     "text": [
      "15463it [00:01, 7637.87it/s]"
     ]
    },
    {
     "name": "stdout",
     "output_type": "stream",
     "text": [
      "\n",
      "12000\n",
      "iteration 13700\n",
      "iteration 13800\n",
      "iteration 13900\n",
      "iteration 14000\n",
      "iteration 14100\n",
      "iteration 14200\n",
      "iteration 14300\n",
      "iteration 14400\n",
      "iteration 14500\n",
      "iteration 14600\n",
      "iteration 14700\n",
      "iteration 14800\n",
      "13000\n",
      "iteration 14900\n",
      "iteration 15000\n",
      "iteration 15100\n",
      "iteration 15200\n",
      "iteration 15300\n",
      "iteration 15400\n",
      "iteration 15500\n",
      "iteration 15600\n",
      "iteration 15700\n",
      "iteration 15800\n",
      "iteration 15900\n",
      "14000\n",
      "iteration 16000\n",
      "iteration 16100\n",
      "iteration 16200\n",
      "iteration 16300\n",
      "iteration 16400\n",
      "iteration 16500"
     ]
    },
    {
     "name": "stderr",
     "output_type": "stream",
     "text": [
      "18324it [00:01, 9327.11it/s]"
     ]
    },
    {
     "name": "stdout",
     "output_type": "stream",
     "text": [
      "\n",
      "iteration 16600\n",
      "iteration 16700\n",
      "iteration 16800\n",
      "iteration 16900\n",
      "iteration 17000\n",
      "iteration 17100\n",
      "15000\n",
      "iteration 17200\n",
      "iteration 17300\n",
      "iteration 17400\n",
      "iteration 17500\n",
      "iteration 17600\n",
      "iteration 17700\n",
      "iteration 17800\n",
      "iteration 17900\n",
      "iteration 18000\n",
      "iteration 18100\n",
      "iteration 18200\n",
      "16000\n",
      "iteration 18300\n",
      "iteration 18400\n",
      "iteration 18500\n",
      "iteration 18600\n",
      "iteration 18700\n",
      "iteration 18800\n",
      "iteration 18900\n",
      "iteration 19000\n",
      "iteration 19100\n",
      "iteration 19200\n",
      "iteration 19300\n",
      "iteration 19400\n",
      "17000\n",
      "iteration 19500\n",
      "iteration 19600"
     ]
    },
    {
     "name": "stderr",
     "output_type": "stream",
     "text": [
      "21481it [00:02, 10247.50it/s]"
     ]
    },
    {
     "name": "stdout",
     "output_type": "stream",
     "text": [
      "\n",
      "iteration 19700\n",
      "iteration 19800\n",
      "iteration 19900\n",
      "iteration 20000\n",
      "iteration 20100\n",
      "iteration 20200\n",
      "iteration 20300\n",
      "iteration 20400\n",
      "iteration 20500\n",
      "18000\n",
      "iteration 20600\n",
      "iteration 20700\n",
      "iteration 20800\n",
      "iteration 20900\n",
      "iteration 21000\n",
      "iteration 21100\n",
      "iteration 21200\n",
      "iteration 21300\n",
      "iteration 21400\n",
      "iteration 21500\n",
      "iteration 21600\n",
      "iteration 21700\n",
      "19000\n",
      "iteration 21800\n",
      "iteration 21900\n"
     ]
    },
    {
     "name": "stderr",
     "output_type": "stream",
     "text": [
      "23889it [00:02, 9847.97it/s] "
     ]
    },
    {
     "name": "stdout",
     "output_type": "stream",
     "text": [
      "iteration 22000\n",
      "iteration 22100\n",
      "iteration 22200\n",
      "iteration 22300\n",
      "iteration 22400\n",
      "iteration 22500\n",
      "iteration 22600\n",
      "iteration 22700\n",
      "iteration 22800\n",
      "20000\n",
      "iteration 22900\n",
      "iteration 23000\n",
      "iteration 23100\n",
      "iteration 23200\n",
      "iteration 23300\n",
      "iteration 23400\n",
      "iteration 23500\n",
      "iteration 23600\n",
      "iteration 23700\n",
      "iteration 23800\n",
      "iteration 23900\n",
      "21000\n",
      "iteration 24000\n",
      "iteration 24100\n",
      "iteration 24200\n",
      "iteration 24300\n",
      "iteration 24400\n"
     ]
    },
    {
     "name": "stderr",
     "output_type": "stream",
     "text": [
      "26672it [00:02, 10943.53it/s]"
     ]
    },
    {
     "name": "stdout",
     "output_type": "stream",
     "text": [
      "iteration 24500\n",
      "iteration 24600\n",
      "iteration 24700\n",
      "iteration 24800\n",
      "iteration 24900\n",
      "iteration 25000\n",
      "iteration 25100\n",
      "22000\n",
      "iteration 25200\n",
      "iteration 25300\n",
      "iteration 25400\n",
      "iteration 25500\n",
      "iteration 25600\n",
      "iteration 25700\n",
      "iteration 25800\n",
      "iteration 25900\n",
      "iteration 26000\n",
      "iteration 26100\n",
      "iteration 26200\n",
      "23000\n",
      "iteration 26300\n",
      "iteration 26400\n",
      "iteration 26500\n",
      "iteration 26600\n",
      "iteration 26700\n",
      "iteration 26800\n",
      "iteration 26900\n",
      "iteration 27000\n",
      "iteration 27100\n"
     ]
    },
    {
     "name": "stderr",
     "output_type": "stream",
     "text": [
      "29583it [00:02, 11689.38it/s]"
     ]
    },
    {
     "name": "stdout",
     "output_type": "stream",
     "text": [
      "iteration 27200\n",
      "iteration 27300\n",
      "24000\n",
      "iteration 27400\n",
      "iteration 27500\n",
      "iteration 27600\n",
      "iteration 27700\n",
      "iteration 27800\n",
      "iteration 27900\n",
      "iteration 28000\n",
      "iteration 28100\n",
      "iteration 28200\n",
      "iteration 28300\n",
      "iteration 28400\n",
      "iteration 28500\n",
      "25000\n",
      "iteration 28600\n",
      "iteration 28700\n",
      "iteration 28800\n",
      "iteration 28900\n",
      "iteration 29000\n",
      "iteration 29100\n",
      "iteration 29200\n",
      "iteration 29300\n",
      "iteration 29400\n",
      "iteration 29500\n",
      "iteration 29600\n",
      "26000\n",
      "iteration 29700\n",
      "iteration 29800\n",
      "iteration 29900\n",
      "iteration 30000\n",
      "iteration 30100\n",
      "iteration 30200\n",
      "iteration 30300\n",
      "iteration 30400\n"
     ]
    },
    {
     "name": "stderr",
     "output_type": "stream",
     "text": [
      "32340it [00:03, 11971.37it/s]"
     ]
    },
    {
     "name": "stdout",
     "output_type": "stream",
     "text": [
      "iteration 30500\n",
      "iteration 30600\n",
      "iteration 30700\n",
      "iteration 30800\n",
      "27000\n",
      "iteration 30900\n",
      "iteration 31000\n",
      "iteration 31100\n",
      "iteration 31200\n",
      "iteration 31300\n",
      "iteration 31400\n",
      "iteration 31500\n",
      "iteration 31600\n",
      "iteration 31700\n",
      "iteration 31800\n",
      "iteration 31900\n",
      "28000\n",
      "iteration 32000\n",
      "iteration 32100\n",
      "iteration 32200\n",
      "iteration 32300\n",
      "iteration 32400\n",
      "iteration 32500\n",
      "iteration 32600\n",
      "iteration 32700\n",
      "iteration 32800\n",
      "iteration 32900\n",
      "iteration 33000\n",
      "iteration 33100\n",
      "29000\n",
      "iteration 33200\n"
     ]
    },
    {
     "name": "stderr",
     "output_type": "stream",
     "text": [
      "35004it [00:03, 11916.82it/s]"
     ]
    },
    {
     "name": "stdout",
     "output_type": "stream",
     "text": [
      "iteration 33300\n",
      "iteration 33400\n",
      "iteration 33500\n",
      "iteration 33600\n",
      "iteration 33700\n",
      "iteration 33800\n",
      "iteration 33900\n",
      "iteration 34000\n",
      "iteration 34100\n",
      "iteration 34200\n",
      "30000\n",
      "iteration 34300\n",
      "iteration 34400\n",
      "iteration 34500\n",
      "iteration 34600\n",
      "iteration 34700\n",
      "iteration 34800\n",
      "iteration 34900\n",
      "iteration 35000\n",
      "iteration 35100\n",
      "iteration 35200\n",
      "iteration 35300\n",
      "31000\n",
      "iteration 35400\n",
      "iteration 35500\n",
      "iteration 35600\n",
      "iteration 35700\n",
      "iteration 35800\n"
     ]
    },
    {
     "name": "stderr",
     "output_type": "stream",
     "text": [
      "37810it [00:03, 12247.81it/s]"
     ]
    },
    {
     "name": "stdout",
     "output_type": "stream",
     "text": [
      "iteration 35900\n",
      "iteration 36000\n",
      "iteration 36100\n",
      "iteration 36200\n",
      "iteration 36300\n",
      "iteration 36400\n",
      "iteration 36500\n",
      "32000\n",
      "iteration 36600\n",
      "iteration 36700\n",
      "iteration 36800\n",
      "iteration 36900\n",
      "iteration 37000\n",
      "iteration 37100\n",
      "iteration 37200\n",
      "iteration 37300\n",
      "iteration 37400\n",
      "iteration 37500\n",
      "iteration 37600\n",
      "33000\n",
      "iteration 37700\n",
      "iteration 37800\n",
      "iteration 37900\n",
      "iteration 38000\n",
      "iteration 38100\n",
      "iteration 38200\n",
      "iteration 38300\n",
      "iteration 38400\n"
     ]
    },
    {
     "name": "stderr",
     "output_type": "stream",
     "text": [
      "\r",
      "39077it [00:03, 11455.21it/s]"
     ]
    },
    {
     "name": "stdout",
     "output_type": "stream",
     "text": [
      "iteration 38500\n",
      "iteration 38600\n",
      "iteration 38700\n",
      "iteration 38800\n",
      "34000\n",
      "iteration 38900\n",
      "iteration 39000\n",
      "iteration 39100\n",
      "iteration 39200\n",
      "iteration 39300\n",
      "iteration 39400\n",
      "iteration 39500\n",
      "iteration 39600\n",
      "iteration 39700\n",
      "iteration 39800\n",
      "iteration 39900\n",
      "35000\n",
      "iteration 40000\n",
      "iteration 40100\n",
      "iteration 40200\n",
      "iteration 40300\n",
      "iteration 40400\n",
      "iteration 40500\n",
      "CPU times: user 3.87 s, sys: 75.9 ms, total: 3.95 s\n",
      "Wall time: 3.91 s\n"
     ]
    },
    {
     "name": "stderr",
     "output_type": "stream",
     "text": [
      "\n"
     ]
    }
   ],
   "source": [
    "%%time\n",
    "# params\n",
    "min_n_arts = 5\n",
    "remove_unk_arts = True\n",
    "replace_with_unk = False\n",
    "unk_art_id = 1\n",
    "USER_CHUNK = config[\"n_users\"]\n",
    "\n",
    "#valid_item_ids = item_dict.keys()\n",
    "i_ids_subset = list(i_ids)[:100000]\n",
    "valid_item_ids = set(i_ids_subset)\n",
    "#valid_item_ids = i_ids\n",
    "\n",
    "# init\n",
    "user_dict = OrderedDict()\n",
    "unk_arts = defaultdict(int)\n",
    "removed_users = 0\n",
    "\n",
    "for i, item in tqdm(enumerate(data_stream_generator(data_dir + \"users\"))):\n",
    "    #quick preliminary eval\n",
    "    if len(item['articles_read']) >= min_n_arts:    \n",
    "        # remove unknown articles from reading history\n",
    "        if remove_unk_arts:\n",
    "            history = []\n",
    "            #check if article ID is present in our set of valid IDs\n",
    "            for entry in item['articles_read']:\n",
    "                art_id = entry[1]\n",
    "\n",
    "                if art_id not in valid_item_ids:\n",
    "                    unk_arts[art_id] += 1\n",
    "\n",
    "                    if replace_with_unk:\n",
    "                        entry[1] = unk_art_id\n",
    "                        history.append(entry)\n",
    "                else:\n",
    "                    history.append(entry)    \n",
    "            item['articles_read'] = history\n",
    "\n",
    "        #evaluate length reading history\n",
    "        if len(item['articles_read']) < min_n_arts or len(item['articles_read']) == 0:\n",
    "            removed_users+=1   \n",
    "            if removed_users % 1e3 == 0:\n",
    "                print(removed_users)\n",
    "        else:\n",
    "            #add valid user that fulfills min read condition\n",
    "            user_dict[item['user_id']] = {key:val for (key,val) in item.items() if key != 'user_id'}    \n",
    "            user_dict[item['user_id']]['n_articles_read'] = len(user_dict[item['user_id']]['articles_read'])\n",
    "\n",
    "    #break condition\n",
    "    if len(user_dict.keys()) == USER_CHUNK or i == USER_CHUNK * 10:\n",
    "        break\n",
    "    if i == 0:\n",
    "        print(item.keys())\n",
    "    if i % 1e2 == 0:\n",
    "        print(\"iteration {}\".format(i))"
   ]
  },
  {
   "cell_type": "code",
   "execution_count": 22,
   "metadata": {},
   "outputs": [
    {
     "data": {
      "text/plain": [
       "35526"
      ]
     },
     "execution_count": 22,
     "metadata": {},
     "output_type": "execute_result"
    }
   ],
   "source": [
    "removed_users"
   ]
  },
  {
   "cell_type": "code",
   "execution_count": 23,
   "metadata": {},
   "outputs": [
    {
     "data": {
      "text/plain": [
       "5000"
      ]
     },
     "execution_count": 23,
     "metadata": {},
     "output_type": "execute_result"
    }
   ],
   "source": [
    "len(user_dict.keys())"
   ]
  },
  {
   "cell_type": "code",
   "execution_count": 24,
   "metadata": {},
   "outputs": [],
   "source": [
    "with open(data_dir + \"users5k_on_items100k.pkl\", \"wb\") as fout:\n",
    "    pickle.dump(user_dict, fout)"
   ]
  },
  {
   "cell_type": "code",
   "execution_count": 25,
   "metadata": {},
   "outputs": [
    {
     "data": {
      "text/plain": [
       "{'articles_read': [['ad', '738d607', 1576587959],\n",
       "  ['ad', 'f76be54', 1575663575],\n",
       "  ['ad', '20bfd89', 1576074081],\n",
       "  ['ad', '20bfd89', 1576091644],\n",
       "  ['ad', 'c5b4f55', 1575378563],\n",
       "  ['ad', 'c5b4f55', 1575400773],\n",
       "  ['ad', 'b06aedd', 1575234851]],\n",
       " 'opened_pushes': [],\n",
       " 'articles_pushed': [],\n",
       " 'n_articles_read': 7}"
      ]
     },
     "execution_count": 25,
     "metadata": {},
     "output_type": "execute_result"
    }
   ],
   "source": [
    "user_dict[next(iter(user_dict))]"
   ]
  },
  {
   "cell_type": "code",
   "execution_count": 18,
   "metadata": {},
   "outputs": [],
   "source": [
    "df_user = pd.DataFrame.from_dict(user_dict, orient='index')"
   ]
  },
  {
   "cell_type": "code",
   "execution_count": 19,
   "metadata": {},
   "outputs": [
    {
     "data": {
      "text/html": [
       "<div>\n",
       "<style scoped>\n",
       "    .dataframe tbody tr th:only-of-type {\n",
       "        vertical-align: middle;\n",
       "    }\n",
       "\n",
       "    .dataframe tbody tr th {\n",
       "        vertical-align: top;\n",
       "    }\n",
       "\n",
       "    .dataframe thead th {\n",
       "        text-align: right;\n",
       "    }\n",
       "</style>\n",
       "<table border=\"1\" class=\"dataframe\">\n",
       "  <thead>\n",
       "    <tr style=\"text-align: right;\">\n",
       "      <th></th>\n",
       "      <th>articles_read</th>\n",
       "      <th>opened_pushes</th>\n",
       "      <th>articles_pushed</th>\n",
       "      <th>n_articles_read</th>\n",
       "    </tr>\n",
       "  </thead>\n",
       "  <tbody>\n",
       "    <tr>\n",
       "      <th>002c6eaf-f12d-4536-8bfc-9313c84c7759</th>\n",
       "      <td>[[None, a78da5d, 1576585653], [None, fd0064c, ...</td>\n",
       "      <td>[]</td>\n",
       "      <td>[]</td>\n",
       "      <td>5</td>\n",
       "    </tr>\n",
       "    <tr>\n",
       "      <th>002cc435-31cd-4d1a-ac2d-80624f453559</th>\n",
       "      <td>[[hln, 2b3bfb8, 1575394723], [hln, d19cdc0, 15...</td>\n",
       "      <td>[]</td>\n",
       "      <td>[]</td>\n",
       "      <td>7</td>\n",
       "    </tr>\n",
       "    <tr>\n",
       "      <th>0057733f-3914-4185-ab5b-443fff7ed386</th>\n",
       "      <td>[[ad, ba25332, 1577200927], [ad, 67ee81d, 1577...</td>\n",
       "      <td>[]</td>\n",
       "      <td>[]</td>\n",
       "      <td>69</td>\n",
       "    </tr>\n",
       "    <tr>\n",
       "      <th>006ee30d-309d-4ba4-8d5f-053ed98839e9</th>\n",
       "      <td>[[hln, 86969e2, 1575441080], [hln, b879684, 15...</td>\n",
       "      <td>[]</td>\n",
       "      <td>[]</td>\n",
       "      <td>17</td>\n",
       "    </tr>\n",
       "    <tr>\n",
       "      <th>00adde41-fdb8-4728-8838-a7c882a70e39</th>\n",
       "      <td>[[ad, eeacf11, 1577694799], [ad, 5e45340, 1577...</td>\n",
       "      <td>[]</td>\n",
       "      <td>[]</td>\n",
       "      <td>16</td>\n",
       "    </tr>\n",
       "  </tbody>\n",
       "</table>\n",
       "</div>"
      ],
      "text/plain": [
       "                                                                          articles_read  \\\n",
       "002c6eaf-f12d-4536-8bfc-9313c84c7759  [[None, a78da5d, 1576585653], [None, fd0064c, ...   \n",
       "002cc435-31cd-4d1a-ac2d-80624f453559  [[hln, 2b3bfb8, 1575394723], [hln, d19cdc0, 15...   \n",
       "0057733f-3914-4185-ab5b-443fff7ed386  [[ad, ba25332, 1577200927], [ad, 67ee81d, 1577...   \n",
       "006ee30d-309d-4ba4-8d5f-053ed98839e9  [[hln, 86969e2, 1575441080], [hln, b879684, 15...   \n",
       "00adde41-fdb8-4728-8838-a7c882a70e39  [[ad, eeacf11, 1577694799], [ad, 5e45340, 1577...   \n",
       "\n",
       "                                     opened_pushes articles_pushed  \\\n",
       "002c6eaf-f12d-4536-8bfc-9313c84c7759            []              []   \n",
       "002cc435-31cd-4d1a-ac2d-80624f453559            []              []   \n",
       "0057733f-3914-4185-ab5b-443fff7ed386            []              []   \n",
       "006ee30d-309d-4ba4-8d5f-053ed98839e9            []              []   \n",
       "00adde41-fdb8-4728-8838-a7c882a70e39            []              []   \n",
       "\n",
       "                                      n_articles_read  \n",
       "002c6eaf-f12d-4536-8bfc-9313c84c7759                5  \n",
       "002cc435-31cd-4d1a-ac2d-80624f453559                7  \n",
       "0057733f-3914-4185-ab5b-443fff7ed386               69  \n",
       "006ee30d-309d-4ba4-8d5f-053ed98839e9               17  \n",
       "00adde41-fdb8-4728-8838-a7c882a70e39               16  "
      ]
     },
     "execution_count": 19,
     "metadata": {},
     "output_type": "execute_result"
    }
   ],
   "source": [
    "df_user.head()"
   ]
  },
  {
   "cell_type": "code",
   "execution_count": 22,
   "metadata": {},
   "outputs": [
    {
     "data": {
      "text/html": [
       "<div>\n",
       "<style scoped>\n",
       "    .dataframe tbody tr th:only-of-type {\n",
       "        vertical-align: middle;\n",
       "    }\n",
       "\n",
       "    .dataframe tbody tr th {\n",
       "        vertical-align: top;\n",
       "    }\n",
       "\n",
       "    .dataframe thead th {\n",
       "        text-align: right;\n",
       "    }\n",
       "</style>\n",
       "<table border=\"1\" class=\"dataframe\">\n",
       "  <thead>\n",
       "    <tr style=\"text-align: right;\">\n",
       "      <th></th>\n",
       "      <th>articles_read</th>\n",
       "      <th>opened_pushes</th>\n",
       "      <th>articles_pushed</th>\n",
       "      <th>n_articles_read</th>\n",
       "    </tr>\n",
       "  </thead>\n",
       "  <tbody>\n",
       "    <tr>\n",
       "      <th>3a13757e-4b31-491f-a8ed-67cec9ef2c65</th>\n",
       "      <td>[[ad, 4061b53, 1577791498], [ad, 47babdb, 1575...</td>\n",
       "      <td>[[1d393b49-cd7d-4bcc-8ca4-0079f35d563f, 298dac...</td>\n",
       "      <td>[[0d53887c0efb325a52427e8106e687c5ab3681677b5e...</td>\n",
       "      <td>91</td>\n",
       "    </tr>\n",
       "    <tr>\n",
       "      <th>5b85220d-2570-40ce-9e68-98ffa1207117</th>\n",
       "      <td>[[ad, c2b7a5d, 1576980043], [ad, f7cf158, 1576...</td>\n",
       "      <td>[[2cc1e5a5-4801-4a2d-9000-7e0d2486d390, 046676...</td>\n",
       "      <td>[[1179b7c55edfdfc0fe8abf467bc824ea328d26c3b11e...</td>\n",
       "      <td>94</td>\n",
       "    </tr>\n",
       "    <tr>\n",
       "      <th>72c0c491-3067-4976-8808-1ce033ad0c0d</th>\n",
       "      <td>[[ad, e70bb01, 1576856024], [ad, e70bb01, 1576...</td>\n",
       "      <td>[[7faeede9-ee2f-4231-91f0-2db8060dc39f, 080431...</td>\n",
       "      <td>[[fa7fe63dabb9c0c6ff5f061c212acbc5f36e09fbb9b7...</td>\n",
       "      <td>46</td>\n",
       "    </tr>\n",
       "    <tr>\n",
       "      <th>a357dbf1-cdce-4876-8ca5-6b4972348f2f</th>\n",
       "      <td>[[ad, 256f435, 1575990750], [ad, 14a930c, 1575...</td>\n",
       "      <td>[[9d44da34-a72b-47ab-ad6f-cd3d05c8bb29, cd4bb9...</td>\n",
       "      <td>[[86effadd06b5fb896aeee84cd1b19e772b5fde17f6e8...</td>\n",
       "      <td>16</td>\n",
       "    </tr>\n",
       "    <tr>\n",
       "      <th>ebfa508c-ee8c-4aa8-9ed7-fb052a0553bb</th>\n",
       "      <td>[[ad, 3f8da29, 1576386659], [ad, 119b6b2, 1575...</td>\n",
       "      <td>[[63e56095-8968-443a-a896-2d479c8aaca4, 196342...</td>\n",
       "      <td>[[d8BX3d2xkTE:APA91bEqCrQBhlpV6dFGArFi92QUymHL...</td>\n",
       "      <td>30</td>\n",
       "    </tr>\n",
       "  </tbody>\n",
       "</table>\n",
       "</div>"
      ],
      "text/plain": [
       "                                                                          articles_read  \\\n",
       "3a13757e-4b31-491f-a8ed-67cec9ef2c65  [[ad, 4061b53, 1577791498], [ad, 47babdb, 1575...   \n",
       "5b85220d-2570-40ce-9e68-98ffa1207117  [[ad, c2b7a5d, 1576980043], [ad, f7cf158, 1576...   \n",
       "72c0c491-3067-4976-8808-1ce033ad0c0d  [[ad, e70bb01, 1576856024], [ad, e70bb01, 1576...   \n",
       "a357dbf1-cdce-4876-8ca5-6b4972348f2f  [[ad, 256f435, 1575990750], [ad, 14a930c, 1575...   \n",
       "ebfa508c-ee8c-4aa8-9ed7-fb052a0553bb  [[ad, 3f8da29, 1576386659], [ad, 119b6b2, 1575...   \n",
       "\n",
       "                                                                          opened_pushes  \\\n",
       "3a13757e-4b31-491f-a8ed-67cec9ef2c65  [[1d393b49-cd7d-4bcc-8ca4-0079f35d563f, 298dac...   \n",
       "5b85220d-2570-40ce-9e68-98ffa1207117  [[2cc1e5a5-4801-4a2d-9000-7e0d2486d390, 046676...   \n",
       "72c0c491-3067-4976-8808-1ce033ad0c0d  [[7faeede9-ee2f-4231-91f0-2db8060dc39f, 080431...   \n",
       "a357dbf1-cdce-4876-8ca5-6b4972348f2f  [[9d44da34-a72b-47ab-ad6f-cd3d05c8bb29, cd4bb9...   \n",
       "ebfa508c-ee8c-4aa8-9ed7-fb052a0553bb  [[63e56095-8968-443a-a896-2d479c8aaca4, 196342...   \n",
       "\n",
       "                                                                        articles_pushed  \\\n",
       "3a13757e-4b31-491f-a8ed-67cec9ef2c65  [[0d53887c0efb325a52427e8106e687c5ab3681677b5e...   \n",
       "5b85220d-2570-40ce-9e68-98ffa1207117  [[1179b7c55edfdfc0fe8abf467bc824ea328d26c3b11e...   \n",
       "72c0c491-3067-4976-8808-1ce033ad0c0d  [[fa7fe63dabb9c0c6ff5f061c212acbc5f36e09fbb9b7...   \n",
       "a357dbf1-cdce-4876-8ca5-6b4972348f2f  [[86effadd06b5fb896aeee84cd1b19e772b5fde17f6e8...   \n",
       "ebfa508c-ee8c-4aa8-9ed7-fb052a0553bb  [[d8BX3d2xkTE:APA91bEqCrQBhlpV6dFGArFi92QUymHL...   \n",
       "\n",
       "                                      n_articles_read  \n",
       "3a13757e-4b31-491f-a8ed-67cec9ef2c65               91  \n",
       "5b85220d-2570-40ce-9e68-98ffa1207117               94  \n",
       "72c0c491-3067-4976-8808-1ce033ad0c0d               46  \n",
       "a357dbf1-cdce-4876-8ca5-6b4972348f2f               16  \n",
       "ebfa508c-ee8c-4aa8-9ed7-fb052a0553bb               30  "
      ]
     },
     "execution_count": 22,
     "metadata": {},
     "output_type": "execute_result"
    }
   ],
   "source": [
    "df_user[df_user['opened_pushes'].apply(lambda x: len(x)) > 0][:5]"
   ]
  },
  {
   "cell_type": "code",
   "execution_count": 134,
   "metadata": {},
   "outputs": [],
   "source": [
    "#plt.hist(df_user['n_articles_read'])"
   ]
  },
  {
   "cell_type": "code",
   "execution_count": 23,
   "metadata": {},
   "outputs": [
    {
     "data": {
      "text/plain": [
       "['002c6eaf-f12d-4536-8bfc-9313c84c7759',\n",
       " '002cc435-31cd-4d1a-ac2d-80624f453559',\n",
       " '0057733f-3914-4185-ab5b-443fff7ed386',\n",
       " '006ee30d-309d-4ba4-8d5f-053ed98839e9',\n",
       " '00adde41-fdb8-4728-8838-a7c882a70e39',\n",
       " '00b4881f-9930-4052-85ca-23fcf883a552',\n",
       " '00c14cb1-5cd2-42c3-8dae-41b1da61e057',\n",
       " '01054836-8f9e-4400-8bf8-3a7737b567c0',\n",
       " '010618df-38b9-4d4f-8f6a-a928d5cbcfa6',\n",
       " '0160ab5c-d8f1-4584-ac95-4ac04cbed850']"
      ]
     },
     "execution_count": 23,
     "metadata": {},
     "output_type": "execute_result"
    }
   ],
   "source": [
    "list(user_dict.keys())[:10]"
   ]
  },
  {
   "cell_type": "code",
   "execution_count": 25,
   "metadata": {},
   "outputs": [
    {
     "data": {
      "text/plain": [
       "[]"
      ]
     },
     "execution_count": 25,
     "metadata": {},
     "output_type": "execute_result"
    }
   ],
   "source": [
    "user_dict['002c6eaf-f12d-4536-8bfc-9313c84c7759']['opened_pushes']"
   ]
  },
  {
   "cell_type": "code",
   "execution_count": 9,
   "metadata": {},
   "outputs": [],
   "source": [
    "bert_path = \"../bert/bert-base-dutch-cased\""
   ]
  },
  {
   "cell_type": "code",
   "execution_count": 10,
   "metadata": {},
   "outputs": [],
   "source": [
    "tokenizer = BertTokenizer.from_pretrained(bert_path)"
   ]
  },
  {
   "cell_type": "code",
   "execution_count": 21,
   "metadata": {},
   "outputs": [],
   "source": [
    "sent = item_dict[next(iter(item_dict))][\"text\"]"
   ]
  },
  {
   "cell_type": "code",
   "execution_count": 22,
   "metadata": {},
   "outputs": [
    {
     "data": {
      "text/plain": [
       "['nieuw',\n",
       " ':',\n",
       " 'patat',\n",
       " '##je',\n",
       " 'met',\n",
       " '.',\n",
       " '.',\n",
       " '.',\n",
       " 'sne',\n",
       " '##r',\n",
       " '##t',\n",
       " 'naast',\n",
       " 'het',\n",
       " 'vertrouwde',\n",
       " 'patat',\n",
       " '##je',\n",
       " \"'\",\n",
       " 'met',\n",
       " \"'\",\n",
       " 'en',\n",
       " 'oorlog',\n",
       " 'serveer',\n",
       " '##t',\n",
       " 'bra',\n",
       " '##m',\n",
       " \"'\",\n",
       " '[UNK]',\n",
       " 'go',\n",
       " '##ur',\n",
       " '##met',\n",
       " 'fr',\n",
       " '##ites',\n",
       " 'sinds',\n",
       " 'vrijdag',\n",
       " 'een',\n",
       " '[UNK]',\n",
       " '-',\n",
       " 'hol',\n",
       " '##landse',\n",
       " 'variant',\n",
       " ':',\n",
       " \"'\",\n",
       " 'winter',\n",
       " '##s',\n",
       " '##e',\n",
       " 'sne',\n",
       " '##r',\n",
       " '##t',\n",
       " 'stoof',\n",
       " \"'\",\n",
       " '.',\n",
       " 'het',\n",
       " 'broertje',\n",
       " 'van',\n",
       " 'bra',\n",
       " '##m',\n",
       " 'la',\n",
       " '##dag',\n",
       " '##e',\n",
       " 'is',\n",
       " 'ge',\n",
       " '##in',\n",
       " '##spir',\n",
       " '##eerd',\n",
       " 'door',\n",
       " 'de',\n",
       " 'traditionele',\n",
       " \"'\",\n",
       " 'om',\n",
       " '##a',\n",
       " \"'\",\n",
       " '[UNK]',\n",
       " 'er',\n",
       " '##w',\n",
       " '##ten',\n",
       " '##soep',\n",
       " \"'\",\n",
       " '.',\n",
       " 'dat',\n",
       " 'gerecht',\n",
       " 'is',\n",
       " 'in',\n",
       " 'een',\n",
       " 'nieuw',\n",
       " 'jasje',\n",
       " 'gestoken',\n",
       " '.',\n",
       " 'in',\n",
       " 'de',\n",
       " 'sne',\n",
       " '##r',\n",
       " '##t',\n",
       " 'zitten',\n",
       " 'onder',\n",
       " 'meer',\n",
       " 'stukken',\n",
       " 'rook',\n",
       " '##worst',\n",
       " 'en',\n",
       " 'spek',\n",
       " '##jes',\n",
       " '.',\n",
       " 'om',\n",
       " 'het',\n",
       " 'af',\n",
       " 'te',\n",
       " 'maken',\n",
       " ',',\n",
       " 'komt',\n",
       " 'er',\n",
       " 'knappe',\n",
       " '##rig',\n",
       " '##e',\n",
       " 'groente',\n",
       " '##chi',\n",
       " '##p',\n",
       " '##s',\n",
       " 'op',\n",
       " 'de',\n",
       " 'bak',\n",
       " 'met',\n",
       " 'patat',\n",
       " '.',\n",
       " 'het',\n",
       " 'friet',\n",
       " '##je',\n",
       " 'past',\n",
       " 'volgens',\n",
       " 'ro',\n",
       " '##cco',\n",
       " 'la',\n",
       " '##dag',\n",
       " '##e',\n",
       " 'van',\n",
       " 'bra',\n",
       " '##m',\n",
       " \"'\",\n",
       " '[UNK]',\n",
       " 'goed',\n",
       " 'bij',\n",
       " 'het',\n",
       " 'winter',\n",
       " '##weer',\n",
       " '.',\n",
       " '\"',\n",
       " 'want',\n",
       " 'wat',\n",
       " 'is',\n",
       " 'nu',\n",
       " 'meer',\n",
       " 'nostalgisch',\n",
       " 'dan',\n",
       " 'op',\n",
       " '##warm',\n",
       " '##en',\n",
       " 'met',\n",
       " 'er',\n",
       " '##w',\n",
       " '##ten',\n",
       " '##soep',\n",
       " 'op',\n",
       " 'een',\n",
       " 'ijskoud',\n",
       " '##e',\n",
       " 'winter',\n",
       " '##dag',\n",
       " '?',\n",
       " '”',\n",
       " 'de',\n",
       " 'seizoen',\n",
       " '##s',\n",
       " '##pat',\n",
       " '##at',\n",
       " 'zal',\n",
       " 'de',\n",
       " 'komende',\n",
       " 'maanden',\n",
       " 'op',\n",
       " 'de',\n",
       " 'kaart',\n",
       " 'staan',\n",
       " '.',\n",
       " 'eerder',\n",
       " 'kwam',\n",
       " 'de',\n",
       " 'rot',\n",
       " '##ter',\n",
       " '##dam',\n",
       " '##s',\n",
       " '##e',\n",
       " 'patat',\n",
       " '##boer',\n",
       " 'al',\n",
       " 'met',\n",
       " 'een',\n",
       " 'top',\n",
       " '##ping',\n",
       " 'van',\n",
       " 'wild',\n",
       " 'stoof',\n",
       " '##vlees',\n",
       " 'uit',\n",
       " 'de',\n",
       " 'hoek',\n",
       " '##sche',\n",
       " 'waard',\n",
       " 'en',\n",
       " 'patat',\n",
       " '##je',\n",
       " 'rot',\n",
       " '##i',\n",
       " 'stoof',\n",
       " '.',\n",
       " 'elke',\n",
       " 'ochtend',\n",
       " 'up',\n",
       " '-',\n",
       " 'to',\n",
       " '-',\n",
       " 'dat',\n",
       " '##e',\n",
       " 'met',\n",
       " 'het',\n",
       " 'laatste',\n",
       " 'nieuws',\n",
       " 'uit',\n",
       " 'rot',\n",
       " '##ter',\n",
       " '##dam',\n",
       " 'en',\n",
       " 'om',\n",
       " '##streken',\n",
       " '?',\n",
       " 'schrijf',\n",
       " 'je',\n",
       " 'hier',\n",
       " 'gratis',\n",
       " 'in',\n",
       " '!']"
      ]
     },
     "execution_count": 22,
     "metadata": {},
     "output_type": "execute_result"
    }
   ],
   "source": [
    "tokenizer.tokenize(sent)"
   ]
  },
  {
   "cell_type": "code",
   "execution_count": 27,
   "metadata": {},
   "outputs": [],
   "source": [
    "#tokenizer.vocab"
   ]
  },
  {
   "cell_type": "code",
   "execution_count": 33,
   "metadata": {},
   "outputs": [],
   "source": [
    "from nltk.tokenize import word_tokenize"
   ]
  },
  {
   "cell_type": "code",
   "execution_count": 35,
   "metadata": {},
   "outputs": [
    {
     "data": {
      "text/plain": [
       "['Nieuw',\n",
       " ':',\n",
       " 'patatje',\n",
       " 'met',\n",
       " '...',\n",
       " 'snert',\n",
       " 'Naast',\n",
       " 'het',\n",
       " 'vertrouwde',\n",
       " 'patatje',\n",
       " \"'met\",\n",
       " \"'\",\n",
       " 'en',\n",
       " 'oorlog',\n",
       " 'serveert',\n",
       " 'Bram',\n",
       " \"'s\",\n",
       " 'Gourmet',\n",
       " 'Frites',\n",
       " 'sinds',\n",
       " 'vrijdag',\n",
       " 'een',\n",
       " 'oer-Hollandse',\n",
       " 'variant',\n",
       " ':',\n",
       " \"'Winterse\",\n",
       " 'Snert',\n",
       " 'Stoof',\n",
       " \"'\",\n",
       " '.',\n",
       " 'Het',\n",
       " 'broertje',\n",
       " 'van',\n",
       " 'Bram',\n",
       " 'Ladage',\n",
       " 'is',\n",
       " 'geïnspireerd',\n",
       " 'door',\n",
       " 'de',\n",
       " 'traditionele',\n",
       " \"'oma\",\n",
       " \"'s\",\n",
       " 'erwtensoep',\n",
       " \"'\",\n",
       " '.',\n",
       " 'Dat',\n",
       " 'gerecht',\n",
       " 'is',\n",
       " 'in',\n",
       " 'een',\n",
       " 'nieuw',\n",
       " 'jasje',\n",
       " 'gestoken',\n",
       " '.',\n",
       " 'In',\n",
       " 'de',\n",
       " 'snert',\n",
       " 'zitten',\n",
       " 'onder',\n",
       " 'meer',\n",
       " 'stukken',\n",
       " 'rookworst',\n",
       " 'en',\n",
       " 'spekjes',\n",
       " '.',\n",
       " 'Om',\n",
       " 'het',\n",
       " 'af',\n",
       " 'te',\n",
       " 'maken',\n",
       " ',',\n",
       " 'komt',\n",
       " 'er',\n",
       " 'knapperige',\n",
       " 'groentechips',\n",
       " 'op',\n",
       " 'de',\n",
       " 'bak',\n",
       " 'met',\n",
       " 'patat',\n",
       " '.',\n",
       " 'Het',\n",
       " 'frietje',\n",
       " 'past',\n",
       " 'volgens',\n",
       " 'Rocco',\n",
       " 'Ladage',\n",
       " 'van',\n",
       " 'BRAM',\n",
       " \"'S\",\n",
       " 'goed',\n",
       " 'bij',\n",
       " 'het',\n",
       " 'winterweer',\n",
       " '.',\n",
       " '``',\n",
       " 'Want',\n",
       " 'wat',\n",
       " 'is',\n",
       " 'nu',\n",
       " 'meer',\n",
       " 'nostalgisch',\n",
       " 'dan',\n",
       " 'opwarmen',\n",
       " 'met',\n",
       " 'erwtensoep',\n",
       " 'op',\n",
       " 'een',\n",
       " 'ijskoude',\n",
       " 'winterdag',\n",
       " '?',\n",
       " '”',\n",
       " 'De',\n",
       " 'seizoenspatat',\n",
       " 'zal',\n",
       " 'de',\n",
       " 'komende',\n",
       " 'maanden',\n",
       " 'op',\n",
       " 'de',\n",
       " 'kaart',\n",
       " 'staan',\n",
       " '.',\n",
       " 'Eerder',\n",
       " 'kwam',\n",
       " 'de',\n",
       " 'Rotterdamse',\n",
       " 'patatboer',\n",
       " 'al',\n",
       " 'met',\n",
       " 'een',\n",
       " 'topping',\n",
       " 'van',\n",
       " 'wild',\n",
       " 'stoofvlees',\n",
       " 'uit',\n",
       " 'de',\n",
       " 'Hoeksche',\n",
       " 'Waard',\n",
       " 'en',\n",
       " 'patatje',\n",
       " 'roti',\n",
       " 'stoof',\n",
       " '.',\n",
       " 'Elke',\n",
       " 'ochtend',\n",
       " 'up-to-date',\n",
       " 'met',\n",
       " 'het',\n",
       " 'laatste',\n",
       " 'nieuws',\n",
       " 'uit',\n",
       " 'Rotterdam',\n",
       " 'en',\n",
       " 'omstreken',\n",
       " '?',\n",
       " 'Schrijf',\n",
       " 'je',\n",
       " 'hier',\n",
       " 'gratis',\n",
       " 'in',\n",
       " '!']"
      ]
     },
     "execution_count": 35,
     "metadata": {},
     "output_type": "execute_result"
    }
   ],
   "source": [
    "word_tokenize(sent, language='dutch')"
   ]
  },
  {
   "cell_type": "code",
   "execution_count": 15,
   "metadata": {},
   "outputs": [
    {
     "name": "stdout",
     "output_type": "stream",
     "text": [
      "CPU times: user 1.87 s, sys: 629 ms, total: 2.49 s\n",
      "Wall time: 8.02 s\n"
     ]
    }
   ],
   "source": [
    "%%time\n",
    "bert_model = BertModel.from_pretrained(bert_path)"
   ]
  },
  {
   "cell_type": "code",
   "execution_count": 16,
   "metadata": {},
   "outputs": [],
   "source": [
    "del(bert_model)"
   ]
  },
  {
   "cell_type": "code",
   "execution_count": null,
   "metadata": {},
   "outputs": [],
   "source": []
  }
 ],
 "metadata": {
  "kernelspec": {
   "display_name": ".venv-mt",
   "language": "python",
   "name": ".venv-mt"
  },
  "language_info": {
   "codemirror_mode": {
    "name": "ipython",
    "version": 3
   },
   "file_extension": ".py",
   "mimetype": "text/x-python",
   "name": "python",
   "nbconvert_exporter": "python",
   "pygments_lexer": "ipython3",
   "version": "3.7.3"
  }
 },
 "nbformat": 4,
 "nbformat_minor": 2
}
