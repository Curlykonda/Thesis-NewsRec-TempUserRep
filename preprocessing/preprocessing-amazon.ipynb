{
 "cells": [
  {
   "cell_type": "code",
   "execution_count": 1,
   "metadata": {},
   "outputs": [
    {
     "name": "stderr",
     "output_type": "stream",
     "text": [
      "[nltk_data] Downloading package stopwords to\n",
      "[nltk_data]     /home/henning/nltk_data...\n",
      "[nltk_data]   Package stopwords is already up-to-date!\n",
      "[nltk_data] Downloading package punkt to /home/henning/nltk_data...\n",
      "[nltk_data]   Package punkt is already up-to-date!\n"
     ]
    },
    {
     "data": {
      "text/plain": [
       "True"
      ]
     },
     "execution_count": 1,
     "metadata": {},
     "output_type": "execute_result"
    }
   ],
   "source": [
    "import os\n",
    "import json\n",
    "import gzip\n",
    "import pickle\n",
    "import numpy as np\n",
    "\n",
    "import pandas as pd\n",
    "from urllib.request import urlopen\n",
    "import matplotlib.pyplot as plt\n",
    "from datetime import datetime\n",
    "from collections import defaultdict\n",
    "from tqdm import tqdm\n",
    "\n",
    "import nltk\n",
    "from nltk.tokenize import word_tokenize, sent_tokenize\n",
    "from nltk.corpus import stopwords\n",
    "from nltk.stem.porter import PorterStemmer\n",
    "\n",
    "#nltk.download()\n",
    "nltk.download('stopwords')\n",
    "nltk.download('punkt')\n",
    "\n",
    "\n",
    "#import more_itertools as mit\n",
    "#from keras.preprocessing.sequence import pad_sequences\n",
    "\n",
    "#from pytorch_pretrained_bert import BertTokenizer, BertModel\n",
    "#from torch.utils.data import DataLoader, Dataset"
   ]
  },
  {
   "cell_type": "code",
   "execution_count": 7,
   "metadata": {},
   "outputs": [],
   "source": [
    "def parse(path, chunk_size=20000):\n",
    "    i = 0\n",
    "    with gzip.open(path, 'rb') as f:\n",
    "        for l in f:\n",
    "            yield json.loads(l.strip())\n",
    "            i+=1\n",
    "            if i == chunk_size:\n",
    "                break\n",
    "def parse2(f):\n",
    "    for l in f:\n",
    "        yield json.loads(l.strip())        \n",
    "            \n",
    "def getDF(path, chunk_size):\n",
    "    i = 0\n",
    "    df = {}\n",
    "    for d in parse(path, chunk_size):\n",
    "        df[i] = d\n",
    "        i += 1\n",
    "    return pd.DataFrame.from_dict(df, orient='index')\n",
    "\n",
    "def getDF_chunks(path, chunk_size, pkl_path, max_chunks=4):\n",
    "    i = 0\n",
    "    df = {}\n",
    "    df_chunks = 0\n",
    "    with gzip.open(path, 'rb') as f:\n",
    "        for d in parse2(f):\n",
    "            df[i] = d\n",
    "            i+=1\n",
    "            \n",
    "            if i == chunk_size:\n",
    "                df = pd.DataFrame.from_dict(df, orient='index')\n",
    "                #preprocessing(df)\n",
    "                df.to_pickle(pkl_path + \"df\" + str(df_chunks) +\".pkl\")\n",
    "                df = {}\n",
    "                i = 0\n",
    "                df_chunks +=1\n",
    "    return df_chunks, i"
   ]
  },
  {
   "cell_type": "code",
   "execution_count": 8,
   "metadata": {},
   "outputs": [],
   "source": [
    "books_path = '../datasets/Books_5.json.gz'\n",
    "chunk_size=40000\n",
    "pkl_path = '../datasets/books-pickle/'\n",
    "\n",
    "if False:\n",
    "    df_chunks, i = getDF_chunks(books_path, chunk_size, pkl_path)\n",
    "    print(df_chunks)"
   ]
  },
  {
   "cell_type": "code",
   "execution_count": 9,
   "metadata": {},
   "outputs": [
    {
     "data": {
      "text/plain": [
       "'\\n!wget http://deepyeti.ucsd.edu/jianmo/amazon/sample/meta_Computers.json.gz\\ndf = getDF(\\'meta_Computers.json.gz\\')\\nlen(df)\\n### remove rows with unformatted title (i.e. some \\'title\\' may still contain html style content)\\n\\ndf3 = df.fillna(\\'\\')\\ndf4 = df3[df3.title.str.contains(\\'getTime\\')] # unformatted rows\\ndf5 = df3[~df3.title.str.contains(\\'getTime\\')] # filter those unformatted rows\\nprint(\"Unformatted rows: {} ({:.2f}%)\".format(len(df4), len(df4)/len(df3)*100))\\nprint(\"Remaining rows: {}\".format(len(df5)))\\n\\n'"
      ]
     },
     "execution_count": 9,
     "metadata": {},
     "output_type": "execute_result"
    }
   ],
   "source": [
    "'''\n",
    "!wget http://deepyeti.ucsd.edu/jianmo/amazon/sample/meta_Computers.json.gz\n",
    "df = getDF('meta_Computers.json.gz')\n",
    "len(df)\n",
    "### remove rows with unformatted title (i.e. some 'title' may still contain html style content)\n",
    "\n",
    "df3 = df.fillna('')\n",
    "df4 = df3[df3.title.str.contains('getTime')] # unformatted rows\n",
    "df5 = df3[~df3.title.str.contains('getTime')] # filter those unformatted rows\n",
    "print(\"Unformatted rows: {} ({:.2f}%)\".format(len(df4), len(df4)/len(df3)*100))\n",
    "print(\"Remaining rows: {}\".format(len(df5)))\n",
    "\n",
    "'''"
   ]
  },
  {
   "cell_type": "code",
   "execution_count": 10,
   "metadata": {},
   "outputs": [
    {
     "data": {
      "text/plain": [
       "['meta_Computers.json.gz',\n",
       " 'Electronics_5.json.gz',\n",
       " 'Books_5.json.gz',\n",
       " 'one_week.tar.gz',\n",
       " 'books-pickle-raw',\n",
       " 'contentdata.tar.gz',\n",
       " 'books-pickle']"
      ]
     },
     "execution_count": 10,
     "metadata": {},
     "output_type": "execute_result"
    }
   ],
   "source": [
    "os.listdir('../datasets')"
   ]
  },
  {
   "cell_type": "code",
   "execution_count": 11,
   "metadata": {},
   "outputs": [],
   "source": [
    "books_path = '../datasets/Books_5.json.gz'"
   ]
  },
  {
   "cell_type": "code",
   "execution_count": 12,
   "metadata": {},
   "outputs": [],
   "source": [
    "#g = gzip.open(books_path, 'rb')"
   ]
  },
  {
   "cell_type": "code",
   "execution_count": 13,
   "metadata": {},
   "outputs": [
    {
     "data": {
      "text/plain": [
       "10000"
      ]
     },
     "execution_count": 13,
     "metadata": {},
     "output_type": "execute_result"
    }
   ],
   "source": [
    "df_chunk = getDF(books_path, chunk_size=10000)\n",
    "len(df_chunk)"
   ]
  },
  {
   "cell_type": "code",
   "execution_count": 9,
   "metadata": {},
   "outputs": [],
   "source": [
    "#df = pd.DataFrame.from_dict(data, orient='index')\n"
   ]
  },
  {
   "cell_type": "code",
   "execution_count": 10,
   "metadata": {},
   "outputs": [
    {
     "data": {
      "text/html": [
       "<div>\n",
       "<style scoped>\n",
       "    .dataframe tbody tr th:only-of-type {\n",
       "        vertical-align: middle;\n",
       "    }\n",
       "\n",
       "    .dataframe tbody tr th {\n",
       "        vertical-align: top;\n",
       "    }\n",
       "\n",
       "    .dataframe thead th {\n",
       "        text-align: right;\n",
       "    }\n",
       "</style>\n",
       "<table border=\"1\" class=\"dataframe\">\n",
       "  <thead>\n",
       "    <tr style=\"text-align: right;\">\n",
       "      <th></th>\n",
       "      <th>overall</th>\n",
       "      <th>verified</th>\n",
       "      <th>reviewTime</th>\n",
       "      <th>reviewerID</th>\n",
       "      <th>asin</th>\n",
       "      <th>style</th>\n",
       "      <th>reviewerName</th>\n",
       "      <th>reviewText</th>\n",
       "      <th>summary</th>\n",
       "      <th>unixReviewTime</th>\n",
       "      <th>vote</th>\n",
       "      <th>image</th>\n",
       "    </tr>\n",
       "  </thead>\n",
       "  <tbody>\n",
       "    <tr>\n",
       "      <th>0</th>\n",
       "      <td>5.0</td>\n",
       "      <td>False</td>\n",
       "      <td>03 30, 2005</td>\n",
       "      <td>A1REUF3A1YCPHM</td>\n",
       "      <td>0001713353</td>\n",
       "      <td>{'Format:': ' Hardcover'}</td>\n",
       "      <td>TW Ervin II</td>\n",
       "      <td>The King, the Mice and the Cheese by Nancy Gur...</td>\n",
       "      <td>A story children will love and learn from</td>\n",
       "      <td>1112140800</td>\n",
       "      <td>NaN</td>\n",
       "      <td>NaN</td>\n",
       "    </tr>\n",
       "    <tr>\n",
       "      <th>1</th>\n",
       "      <td>5.0</td>\n",
       "      <td>True</td>\n",
       "      <td>06 20, 2016</td>\n",
       "      <td>AVP0HXC9FG790</td>\n",
       "      <td>0001713353</td>\n",
       "      <td>NaN</td>\n",
       "      <td>Amazon Customer</td>\n",
       "      <td>The kids loved it!</td>\n",
       "      <td>Five Stars</td>\n",
       "      <td>1466380800</td>\n",
       "      <td>NaN</td>\n",
       "      <td>NaN</td>\n",
       "    </tr>\n",
       "    <tr>\n",
       "      <th>2</th>\n",
       "      <td>5.0</td>\n",
       "      <td>True</td>\n",
       "      <td>01 24, 2016</td>\n",
       "      <td>A324TTUBKTN73A</td>\n",
       "      <td>0001713353</td>\n",
       "      <td>{'Format:': ' Paperback'}</td>\n",
       "      <td>Tekla Borner</td>\n",
       "      <td>My students (3 &amp; 4 year olds) loved this book!...</td>\n",
       "      <td>Five Stars</td>\n",
       "      <td>1453593600</td>\n",
       "      <td>NaN</td>\n",
       "      <td>NaN</td>\n",
       "    </tr>\n",
       "    <tr>\n",
       "      <th>3</th>\n",
       "      <td>5.0</td>\n",
       "      <td>False</td>\n",
       "      <td>07 9, 2015</td>\n",
       "      <td>A2RE7WG349NV5D</td>\n",
       "      <td>0001713353</td>\n",
       "      <td>{'Format:': ' Paperback'}</td>\n",
       "      <td>Deborah K Woroniecki</td>\n",
       "      <td>LOVE IT</td>\n",
       "      <td>Five Stars</td>\n",
       "      <td>1436400000</td>\n",
       "      <td>NaN</td>\n",
       "      <td>NaN</td>\n",
       "    </tr>\n",
       "    <tr>\n",
       "      <th>4</th>\n",
       "      <td>5.0</td>\n",
       "      <td>True</td>\n",
       "      <td>01 18, 2015</td>\n",
       "      <td>A32B7QIUDQCD0E</td>\n",
       "      <td>0001713353</td>\n",
       "      <td>NaN</td>\n",
       "      <td>E</td>\n",
       "      <td>Great!</td>\n",
       "      <td>Five Stars</td>\n",
       "      <td>1421539200</td>\n",
       "      <td>NaN</td>\n",
       "      <td>NaN</td>\n",
       "    </tr>\n",
       "  </tbody>\n",
       "</table>\n",
       "</div>"
      ],
      "text/plain": [
       "   overall  verified   reviewTime      reviewerID        asin  \\\n",
       "0      5.0     False  03 30, 2005  A1REUF3A1YCPHM  0001713353   \n",
       "1      5.0      True  06 20, 2016   AVP0HXC9FG790  0001713353   \n",
       "2      5.0      True  01 24, 2016  A324TTUBKTN73A  0001713353   \n",
       "3      5.0     False   07 9, 2015  A2RE7WG349NV5D  0001713353   \n",
       "4      5.0      True  01 18, 2015  A32B7QIUDQCD0E  0001713353   \n",
       "\n",
       "                       style          reviewerName  \\\n",
       "0  {'Format:': ' Hardcover'}           TW Ervin II   \n",
       "1                        NaN       Amazon Customer   \n",
       "2  {'Format:': ' Paperback'}          Tekla Borner   \n",
       "3  {'Format:': ' Paperback'}  Deborah K Woroniecki   \n",
       "4                        NaN                     E   \n",
       "\n",
       "                                          reviewText  \\\n",
       "0  The King, the Mice and the Cheese by Nancy Gur...   \n",
       "1                                 The kids loved it!   \n",
       "2  My students (3 & 4 year olds) loved this book!...   \n",
       "3                                            LOVE IT   \n",
       "4                                             Great!   \n",
       "\n",
       "                                     summary  unixReviewTime vote image  \n",
       "0  A story children will love and learn from      1112140800  NaN   NaN  \n",
       "1                                 Five Stars      1466380800  NaN   NaN  \n",
       "2                                 Five Stars      1453593600  NaN   NaN  \n",
       "3                                 Five Stars      1436400000  NaN   NaN  \n",
       "4                                 Five Stars      1421539200  NaN   NaN  "
      ]
     },
     "execution_count": 10,
     "metadata": {},
     "output_type": "execute_result"
    }
   ],
   "source": [
    "df_chunk.head()"
   ]
  },
  {
   "cell_type": "code",
   "execution_count": 167,
   "metadata": {},
   "outputs": [],
   "source": [
    "def clean_text(sent, remove_stop_word=False, stemming=False, stemmer=None):\n",
    "    stop_words = list(set(stopwords.words('english')))\n",
    "    #tokenise, punctuation, lower-case\n",
    "    tokens = [word.lower() for sent in sent_tokenize(sent) for word in word_tokenize(sent) if word.isalpha()]\n",
    "    \n",
    "    if remove_stop_word:\n",
    "        #filter stop words\n",
    "        tokens = [word for word in tokens if word not in stop_words]\n",
    "    \n",
    "    if stemming:\n",
    "        tokens = [stemmer.stem(token) for token in tokens]\n",
    "        \n",
    "    #locating and correcting common typos & misspellings\n",
    "        \n",
    "    return \" \".join(tokens)\n",
    "\n",
    "\n",
    "def clean_df(df, drop_org_reviews=False):\n",
    "    ### remove rows with unformatted title (i.e. some 'title' may still contain html style content)\n",
    "\n",
    "    df = df.fillna('')\n",
    "    df = df.drop(['reviewerName', 'style', 'vote', 'image'], axis=1)\n",
    "    \n",
    "    #reformat timestamp\n",
    "    df['reviewTime'] = df['unixReviewTime'].apply(lambda x: pd.Timestamp(x, unit='s'))\n",
    "    df = df.drop('unixReviewTime', axis=1)\n",
    "    \n",
    "    #rename columns\n",
    "    df = df.rename(columns={'asin':'itemID'})\n",
    "    \n",
    "    #aggregate text\n",
    "    df['reviewText'] = df['summary'] + \" \" + df['reviewText']\n",
    "    df = df.drop('summary', axis=1)\n",
    "    \n",
    "    ## convert to other (smaller) datatype\n",
    "    df['overall'] = df['overall'].astype('int32')\n",
    "    \n",
    "    #clean text\n",
    "    if 'cleanedText' not in df.columns:\n",
    "        print(\"Cleaning Text..\")\n",
    "        df['cleanedText'] = df['reviewText'].apply(lambda x: clean_text(x))\n",
    "        df['reviewWords'] = df['cleanedText'].apply(lambda x: len(x.split()))\n",
    "        if drop_org_reviews:\n",
    "            df = df.drop('reviewText', axis=1)\n",
    "        \n",
    "    return df\n",
    "\n",
    "def aggregate_info(df, user_d, items_d):\n",
    "    \n",
    "    added = 0\n",
    "    updated = 0\n",
    "    \n",
    "    print(\"Aggregating User Stats..\")\n",
    "    for u, group in tqdm(df.groupby('reviewerID')):\n",
    "        \n",
    "        if u not in user_d:\n",
    "            user_d[u] = {}\n",
    "            user_d[u]['n_reviews'] = group['itemID'].count()\n",
    "            user_d[u]['m_rating'] = group['overall'].mean()\n",
    "            user_d[u]['m_words'] = group['reviewWords'].mean()\n",
    "            added+=1\n",
    "        else:\n",
    "            user_d[u]['n_reviews'] += group['itemID'].count()\n",
    "            user_d[u]['m_rating'] = np.mean([user_d[u]['m_rating'], group['overall'].mean()])\n",
    "            user_d[u]['m_words'] = np.mean([user_d[u]['m_words'], group['reviewWords'].mean()])\n",
    "            updated+=1\n",
    "\n",
    "    print(\"Total users: %.0f\" % len(user_d.keys()))\n",
    "    print(\"Added: %.0f\" % added)\n",
    "    print(\"Updated: %.0f\" % updated)\n",
    "     \n",
    "                \n",
    "    #count reviews per item\n",
    "    added = 0\n",
    "    updated = 0\n",
    "    \n",
    "    print(\"Aggregating Item Stats..\")\n",
    "    for item, group in tqdm(df.groupby('itemID')):\n",
    "    \n",
    "        if item not in items_d:\n",
    "            items_d[item] = {}\n",
    "            items_d[item]['n_reviews'] = group['reviewerID'].count()\n",
    "            items_d[item]['m_rating'] = group['overall'].mean()\n",
    "            items_d[item]['m_words'] = group['reviewWords'].mean()\n",
    "            added+=1\n",
    "        else:\n",
    "            items_d[item]['n_reviews'] += group['reviewerID'].count()\n",
    "            items_d[item]['m_rating'] = np.mean([items_d[item]['m_rating'], group['overall'].mean()])\n",
    "            items_d[item]['m_words'] = np.mean([items_d[item]['m_words'], group['reviewWords'].mean()])\n",
    "            updated+=1\n",
    "    \n",
    "    print(\"Total items: %.0f\" % len(items_d.keys()))\n",
    "    print(\"Added: %.0f\" % added)\n",
    "    print(\"Updated: %.0f\" % updated)  \n",
    "    \n",
    "    return user_d, items_d\n",
    "\n",
    "\n",
    "def preprocessDF_chunks(path, chunk_size, pkl_path, drop_org_reviews=False, max_chunks=4):\n",
    "    i = 0\n",
    "    data = {}\n",
    "    n_chunks = 0\n",
    "    \n",
    "    #aggreated info\n",
    "    user_dict = {}\n",
    "    item_dict = {}\n",
    "    \n",
    "    with gzip.open(path, 'rb') as f:\n",
    "        print(\"Start reading: {}\".format(path))\n",
    "        for d in parse2(f):\n",
    "            data[i] = d\n",
    "            i+=1\n",
    "            \n",
    "            #if i == 10:\n",
    "            #    print(d)\n",
    "            \n",
    "            if i == chunk_size:\n",
    "                print(\"Processing Chunk {}\".format(n_chunks))\n",
    "                \n",
    "                #print(list(data.items())[:2])\n",
    "                \n",
    "                df = pd.DataFrame.from_dict(data, orient='index')\n",
    "                #preprocessing\n",
    "                df = clean_df(df, drop_org_reviews)\n",
    "                \n",
    "                #aggregate info\n",
    "                user_dict, item_dict = aggregate_info(df, user_dict, item_dict)\n",
    "                \n",
    "                #save cleaned dataframe\n",
    "                df.to_pickle(pkl_path + \"df\" + str(n_chunks) +\".pkl\")\n",
    "                \n",
    "                #save stats\n",
    "                with open(pkl_path + \"user_stats.pkl\", 'wb') as fout:\n",
    "                    pickle.dump(user_dict, fout)\n",
    "                with open(pkl_path + \"item_stats.pkl\", 'wb') as fout:\n",
    "                    pickle.dump(item_dict, fout)\n",
    "                \n",
    "                i = 0\n",
    "                data = {}\n",
    "                n_chunks +=1\n",
    "                print(\"\\n\")\n",
    "                \n",
    "            if max_chunks < n_chunks:\n",
    "                break\n",
    "                \n",
    "    return n_chunks, i, user_dict, item_dict"
   ]
  },
  {
   "cell_type": "code",
   "execution_count": 168,
   "metadata": {},
   "outputs": [
    {
     "name": "stdout",
     "output_type": "stream",
     "text": [
      "Start reading: ./datasets/Books_5.json.gz\n",
      "Processing Chunk 0\n",
      "Cleaning Text..\n",
      "Aggregating User Stats..\n"
     ]
    },
    {
     "name": "stderr",
     "output_type": "stream",
     "text": [
      "\n",
      "  0%|          | 0/17720 [00:00<?, ?it/s]\u001b[A\n",
      "  0%|          | 75/17720 [00:00<00:23, 745.70it/s]\u001b[A\n",
      "  1%|          | 174/17720 [00:00<00:21, 805.14it/s]\u001b[A\n",
      "  2%|▏         | 291/17720 [00:00<00:19, 888.07it/s]\u001b[A\n",
      "  2%|▏         | 419/17720 [00:00<00:17, 977.55it/s]\u001b[A\n",
      "  3%|▎         | 542/17720 [00:00<00:16, 1041.52it/s]\u001b[A\n",
      "  4%|▎         | 648/17720 [00:00<00:16, 1045.87it/s]\u001b[A\n",
      "  4%|▍         | 762/17720 [00:00<00:15, 1070.99it/s]\u001b[A\n",
      "  5%|▍         | 869/17720 [00:00<00:15, 1069.61it/s]\u001b[A\n",
      "  6%|▌         | 991/17720 [00:00<00:15, 1109.22it/s]\u001b[A\n",
      "  6%|▋         | 1108/17720 [00:01<00:14, 1125.04it/s]\u001b[A\n",
      "  7%|▋         | 1228/17720 [00:01<00:14, 1142.11it/s]\u001b[A\n",
      "  8%|▊         | 1342/17720 [00:01<00:14, 1131.08it/s]\u001b[A\n",
      "  8%|▊         | 1458/17720 [00:01<00:14, 1137.40it/s]\u001b[A\n",
      "  9%|▉         | 1587/17720 [00:01<00:13, 1177.29it/s]\u001b[A\n",
      " 10%|▉         | 1705/17720 [00:01<00:13, 1150.27it/s]\u001b[A\n",
      " 10%|█         | 1821/17720 [00:01<00:13, 1143.85it/s]\u001b[A\n",
      " 11%|█         | 1936/17720 [00:01<00:14, 1122.43it/s]\u001b[A\n",
      " 12%|█▏        | 2056/17720 [00:01<00:13, 1144.38it/s]\u001b[A\n",
      " 12%|█▏        | 2183/17720 [00:01<00:13, 1176.94it/s]\u001b[A\n",
      " 13%|█▎        | 2302/17720 [00:02<00:13, 1143.02it/s]\u001b[A\n",
      " 14%|█▎        | 2417/17720 [00:02<00:13, 1109.89it/s]\u001b[A\n",
      " 14%|█▍        | 2529/17720 [00:02<00:14, 1083.57it/s]\u001b[A\n",
      " 15%|█▍        | 2656/17720 [00:02<00:13, 1132.25it/s]\u001b[A\n",
      " 16%|█▌        | 2781/17720 [00:02<00:12, 1163.59it/s]\u001b[A\n",
      " 16%|█▋        | 2899/17720 [00:02<00:12, 1145.00it/s]\u001b[A\n",
      " 17%|█▋        | 3029/17720 [00:02<00:12, 1187.35it/s]\u001b[A\n",
      " 18%|█▊        | 3149/17720 [00:02<00:12, 1125.04it/s]\u001b[A\n",
      " 18%|█▊        | 3263/17720 [00:02<00:13, 1077.18it/s]\u001b[A\n",
      " 19%|█▉        | 3373/17720 [00:03<00:13, 1082.64it/s]\u001b[A\n",
      " 20%|█▉        | 3502/17720 [00:03<00:12, 1135.49it/s]\u001b[A\n",
      " 20%|██        | 3621/17720 [00:03<00:12, 1150.06it/s]\u001b[A\n",
      " 21%|██        | 3737/17720 [00:03<00:12, 1141.93it/s]\u001b[A\n",
      " 22%|██▏       | 3859/17720 [00:03<00:11, 1162.86it/s]\u001b[A\n",
      " 22%|██▏       | 3976/17720 [00:03<00:12, 1119.21it/s]\u001b[A\n",
      " 23%|██▎       | 4089/17720 [00:03<00:12, 1116.92it/s]\u001b[A\n",
      " 24%|██▍       | 4217/17720 [00:03<00:11, 1159.96it/s]\u001b[A\n",
      " 25%|██▍       | 4347/17720 [00:03<00:11, 1196.40it/s]\u001b[A\n",
      " 25%|██▌       | 4476/17720 [00:03<00:10, 1221.22it/s]\u001b[A\n",
      " 26%|██▌       | 4599/17720 [00:04<00:11, 1095.23it/s]\u001b[A\n",
      " 27%|██▋       | 4712/17720 [00:04<00:12, 1083.83it/s]\u001b[A\n",
      " 27%|██▋       | 4828/17720 [00:04<00:11, 1104.32it/s]\u001b[A\n",
      " 28%|██▊       | 4958/17720 [00:04<00:11, 1154.62it/s]\u001b[A\n",
      " 29%|██▊       | 5085/17720 [00:04<00:10, 1184.93it/s]\u001b[A\n",
      " 29%|██▉       | 5206/17720 [00:04<00:10, 1191.96it/s]\u001b[A\n",
      " 30%|███       | 5336/17720 [00:04<00:10, 1221.53it/s]\u001b[A\n",
      " 31%|███       | 5460/17720 [00:04<00:10, 1203.86it/s]\u001b[A\n",
      " 32%|███▏      | 5582/17720 [00:04<00:10, 1150.68it/s]\u001b[A\n",
      " 32%|███▏      | 5701/17720 [00:04<00:10, 1162.02it/s]\u001b[A\n",
      " 33%|███▎      | 5827/17720 [00:05<00:10, 1189.05it/s]\u001b[A\n",
      " 34%|███▎      | 5947/17720 [00:05<00:10, 1146.59it/s]\u001b[A\n",
      " 34%|███▍      | 6068/17720 [00:05<00:10, 1161.19it/s]\u001b[A\n",
      " 35%|███▍      | 6195/17720 [00:05<00:09, 1190.48it/s]\u001b[A\n",
      " 36%|███▌      | 6315/17720 [00:05<00:09, 1173.98it/s]\u001b[A\n",
      " 36%|███▋      | 6442/17720 [00:05<00:09, 1199.78it/s]\u001b[A\n",
      " 37%|███▋      | 6563/17720 [00:05<00:09, 1183.18it/s]\u001b[A\n",
      " 38%|███▊      | 6699/17720 [00:05<00:08, 1229.86it/s]\u001b[A\n",
      " 39%|███▊      | 6831/17720 [00:05<00:08, 1253.89it/s]\u001b[A\n",
      " 39%|███▉      | 6958/17720 [00:06<00:08, 1249.68it/s]\u001b[A\n",
      " 40%|███▉      | 7084/17720 [00:06<00:08, 1237.61it/s]\u001b[A\n",
      " 41%|████      | 7209/17720 [00:06<00:09, 1164.03it/s]\u001b[A\n",
      " 41%|████▏     | 7327/17720 [00:06<00:09, 1118.74it/s]\u001b[A\n",
      " 42%|████▏     | 7453/17720 [00:06<00:08, 1156.77it/s]\u001b[A\n",
      " 43%|████▎     | 7582/17720 [00:06<00:08, 1192.45it/s]\u001b[A\n",
      " 43%|████▎     | 7707/17720 [00:06<00:08, 1209.03it/s]\u001b[A\n",
      " 44%|████▍     | 7829/17720 [00:06<00:08, 1203.57it/s]\u001b[A\n",
      " 45%|████▍     | 7950/17720 [00:06<00:08, 1179.89it/s]\u001b[A\n",
      " 46%|████▌     | 8069/17720 [00:06<00:08, 1176.55it/s]\u001b[A\n",
      " 46%|████▌     | 8188/17720 [00:07<00:08, 1168.38it/s]\u001b[A\n",
      " 47%|████▋     | 8310/17720 [00:07<00:07, 1177.65it/s]\u001b[A\n",
      " 48%|████▊     | 8435/17720 [00:07<00:07, 1196.87it/s]\u001b[A\n",
      " 48%|████▊     | 8558/17720 [00:07<00:07, 1205.20it/s]\u001b[A\n",
      " 49%|████▉     | 8682/17720 [00:07<00:07, 1215.00it/s]\u001b[A\n",
      " 50%|████▉     | 8817/17720 [00:07<00:07, 1251.89it/s]\u001b[A\n",
      " 50%|█████     | 8943/17720 [00:07<00:07, 1220.03it/s]\u001b[A\n",
      " 51%|█████     | 9075/17720 [00:07<00:06, 1246.39it/s]\u001b[A\n",
      " 52%|█████▏    | 9201/17720 [00:07<00:07, 1211.08it/s]\u001b[A\n",
      " 53%|█████▎    | 9323/17720 [00:08<00:07, 1180.71it/s]\u001b[A\n",
      " 53%|█████▎    | 9450/17720 [00:08<00:06, 1205.34it/s]\u001b[A\n",
      " 54%|█████▍    | 9572/17720 [00:08<00:07, 1147.81it/s]\u001b[A\n",
      " 55%|█████▍    | 9698/17720 [00:08<00:06, 1178.56it/s]\u001b[A\n",
      " 55%|█████▌    | 9819/17720 [00:08<00:06, 1185.23it/s]\u001b[A\n",
      " 56%|█████▌    | 9939/17720 [00:08<00:06, 1174.84it/s]\u001b[A\n",
      " 57%|█████▋    | 10060/17720 [00:08<00:06, 1183.22it/s]\u001b[A\n",
      " 57%|█████▋    | 10179/17720 [00:08<00:06, 1160.22it/s]\u001b[A\n",
      " 58%|█████▊    | 10305/17720 [00:08<00:06, 1187.47it/s]\u001b[A\n",
      " 59%|█████▉    | 10425/17720 [00:08<00:06, 1166.95it/s]\u001b[A\n",
      " 59%|█████▉    | 10543/17720 [00:09<00:06, 1145.97it/s]\u001b[A\n",
      " 60%|██████    | 10658/17720 [00:09<00:06, 1127.02it/s]\u001b[A\n",
      " 61%|██████    | 10777/17720 [00:09<00:06, 1142.35it/s]\u001b[A\n",
      " 61%|██████▏   | 10892/17720 [00:09<00:06, 1136.50it/s]\u001b[A\n",
      " 62%|██████▏   | 11012/17720 [00:09<00:05, 1152.66it/s]\u001b[A\n",
      " 63%|██████▎   | 11128/17720 [00:09<00:05, 1148.12it/s]\u001b[A\n",
      " 63%|██████▎   | 11243/17720 [00:09<00:05, 1143.00it/s]\u001b[A\n",
      " 64%|██████▍   | 11370/17720 [00:09<00:05, 1177.80it/s]\u001b[A\n",
      " 65%|██████▍   | 11489/17720 [00:09<00:05, 1160.85it/s]\u001b[A\n",
      " 65%|██████▌   | 11606/17720 [00:09<00:05, 1147.70it/s]\u001b[A\n",
      " 66%|██████▌   | 11729/17720 [00:10<00:05, 1168.88it/s]\u001b[A\n",
      " 67%|██████▋   | 11847/17720 [00:10<00:05, 1136.58it/s]\u001b[A\n",
      " 68%|██████▊   | 11962/17720 [00:10<00:05, 1093.69it/s]\u001b[A\n",
      " 68%|██████▊   | 12073/17720 [00:10<00:05, 1096.60it/s]\u001b[A\n",
      " 69%|██████▉   | 12187/17720 [00:10<00:04, 1107.91it/s]\u001b[A\n",
      " 69%|██████▉   | 12299/17720 [00:10<00:05, 1049.45it/s]\u001b[A\n",
      " 70%|███████   | 12415/17720 [00:10<00:04, 1076.95it/s]\u001b[A\n",
      " 71%|███████   | 12524/17720 [00:10<00:05, 921.78it/s] \u001b[A\n",
      " 71%|███████   | 12621/17720 [00:11<00:05, 913.96it/s]\u001b[A\n",
      " 72%|███████▏  | 12719/17720 [00:11<00:05, 931.37it/s]\u001b[A\n",
      " 72%|███████▏  | 12815/17720 [00:11<00:05, 878.21it/s]\u001b[A\n",
      " 73%|███████▎  | 12906/17720 [00:11<00:05, 883.76it/s]\u001b[A\n",
      " 73%|███████▎  | 12996/17720 [00:11<00:05, 874.80it/s]\u001b[A\n",
      " 74%|███████▍  | 13085/17720 [00:11<00:05, 817.53it/s]\u001b[A\n",
      " 74%|███████▍  | 13169/17720 [00:11<00:05, 802.83it/s]\u001b[A\n",
      " 75%|███████▍  | 13255/17720 [00:11<00:05, 818.08it/s]\u001b[A\n",
      " 75%|███████▌  | 13374/17720 [00:11<00:04, 900.48it/s]\u001b[A\n",
      " 76%|███████▌  | 13468/17720 [00:11<00:04, 906.56it/s]\u001b[A\n",
      " 77%|███████▋  | 13593/17720 [00:12<00:04, 987.58it/s]\u001b[A\n",
      " 77%|███████▋  | 13718/17720 [00:12<00:03, 1053.86it/s]\u001b[A\n",
      " 78%|███████▊  | 13828/17720 [00:12<00:03, 981.33it/s] \u001b[A\n",
      " 79%|███████▊  | 13936/17720 [00:12<00:03, 1007.73it/s]\u001b[A\n",
      " 79%|███████▉  | 14066/17720 [00:12<00:03, 1079.43it/s]\u001b[A\n",
      " 80%|████████  | 14195/17720 [00:12<00:03, 1134.74it/s]\u001b[A\n",
      " 81%|████████  | 14321/17720 [00:12<00:02, 1168.74it/s]\u001b[A\n",
      " 82%|████████▏ | 14455/17720 [00:12<00:02, 1213.84it/s]\u001b[A\n",
      " 82%|████████▏ | 14579/17720 [00:12<00:02, 1210.56it/s]\u001b[A\n",
      " 83%|████████▎ | 14721/17720 [00:13<00:02, 1265.60it/s]\u001b[A\n",
      " 84%|████████▍ | 14850/17720 [00:13<00:02, 1224.95it/s]\u001b[A\n",
      " 85%|████████▍ | 14974/17720 [00:13<00:02, 1196.46it/s]\u001b[A\n",
      " 85%|████████▌ | 15107/17720 [00:13<00:02, 1232.41it/s]\u001b[A\n",
      " 86%|████████▌ | 15239/17720 [00:13<00:01, 1255.14it/s]\u001b[A\n",
      " 87%|████████▋ | 15378/17720 [00:13<00:01, 1291.73it/s]\u001b[A\n",
      " 88%|████████▊ | 15511/17720 [00:13<00:01, 1301.59it/s]\u001b[A\n",
      " 88%|████████▊ | 15642/17720 [00:13<00:01, 1301.81it/s]\u001b[A\n",
      " 89%|████████▉ | 15775/17720 [00:13<00:01, 1309.62it/s]\u001b[A\n",
      " 90%|████████▉ | 15907/17720 [00:13<00:01, 1240.24it/s]\u001b[A\n",
      " 91%|█████████ | 16042/17720 [00:14<00:01, 1269.26it/s]\u001b[A\n",
      " 91%|█████████▏| 16170/17720 [00:14<00:01, 1258.74it/s]\u001b[A\n",
      " 92%|█████████▏| 16308/17720 [00:14<00:01, 1290.83it/s]\u001b[A\n",
      " 93%|█████████▎| 16440/17720 [00:14<00:00, 1298.30it/s]\u001b[A\n",
      " 94%|█████████▎| 16571/17720 [00:14<00:00, 1301.60it/s]\u001b[A\n",
      " 94%|█████████▍| 16702/17720 [00:14<00:00, 1289.33it/s]\u001b[A\n",
      " 95%|█████████▍| 16832/17720 [00:14<00:00, 1267.99it/s]\u001b[A\n",
      " 96%|█████████▌| 16960/17720 [00:14<00:00, 1216.02it/s]\u001b[A\n",
      " 96%|█████████▋| 17083/17720 [00:14<00:00, 1116.88it/s]\u001b[A\n",
      " 97%|█████████▋| 17202/17720 [00:15<00:00, 1137.08it/s]\u001b[A\n",
      " 98%|█████████▊| 17337/17720 [00:15<00:00, 1191.96it/s]\u001b[A\n",
      " 99%|█████████▊| 17464/17720 [00:15<00:00, 1212.89it/s]\u001b[A\n",
      " 99%|█████████▉| 17587/17720 [00:15<00:00, 1060.17it/s]\u001b[A\n",
      "100%|█████████▉| 17698/17720 [00:15<00:00, 921.56it/s] \u001b[A\n",
      "100%|██████████| 17720/17720 [00:15<00:00, 1139.97it/s]\u001b[A\n",
      "  0%|          | 0/160 [00:00<?, ?it/s]\u001b[A\n",
      " 58%|█████▊    | 93/160 [00:00<00:00, 927.85it/s]\u001b[A\n",
      "100%|██████████| 160/160 [00:00<00:00, 1054.43it/s]\u001b[A"
     ]
    },
    {
     "name": "stdout",
     "output_type": "stream",
     "text": [
      "Total users: 17720\n",
      "Added: 17720\n",
      "Updated: 0\n",
      "Aggregating Item Stats..\n",
      "Total items: 160\n",
      "Added: 160\n",
      "Updated: 0\n",
      "\n",
      "\n",
      "Processing Chunk 1\n",
      "Cleaning Text..\n",
      "Aggregating User Stats..\n"
     ]
    },
    {
     "name": "stderr",
     "output_type": "stream",
     "text": [
      "\n",
      "  0%|          | 0/16818 [00:00<?, ?it/s]\u001b[A\n",
      "  1%|          | 114/16818 [00:00<00:14, 1134.39it/s]\u001b[A\n",
      "  1%|▏         | 239/16818 [00:00<00:14, 1164.86it/s]\u001b[A\n",
      "  2%|▏         | 343/16818 [00:00<00:14, 1122.61it/s]\u001b[A\n",
      "  3%|▎         | 443/16818 [00:00<00:15, 1079.77it/s]\u001b[A\n",
      "  3%|▎         | 538/16818 [00:00<00:15, 1036.01it/s]\u001b[A\n",
      "  4%|▍         | 640/16818 [00:00<00:15, 1028.39it/s]\u001b[A\n",
      "  4%|▍         | 752/16818 [00:00<00:15, 1053.85it/s]\u001b[A\n",
      "  5%|▌         | 875/16818 [00:00<00:14, 1101.01it/s]\u001b[A\n",
      "  6%|▌         | 999/16818 [00:00<00:13, 1138.90it/s]\u001b[A\n",
      "  7%|▋         | 1110/16818 [00:01<00:15, 1031.91it/s]\u001b[A\n",
      "  7%|▋         | 1226/16818 [00:01<00:14, 1065.88it/s]\u001b[A\n",
      "  8%|▊         | 1340/16818 [00:01<00:14, 1086.02it/s]\u001b[A\n",
      "  9%|▊         | 1457/16818 [00:01<00:13, 1106.20it/s]\u001b[A\n",
      "  9%|▉         | 1568/16818 [00:01<00:14, 1077.09it/s]\u001b[A\n",
      " 10%|█         | 1687/16818 [00:01<00:13, 1108.28it/s]\u001b[A\n",
      " 11%|█         | 1799/16818 [00:01<00:14, 1007.14it/s]\u001b[A\n",
      " 11%|█▏        | 1902/16818 [00:01<00:15, 994.18it/s] \u001b[A\n",
      " 12%|█▏        | 2025/16818 [00:01<00:14, 1053.93it/s]\u001b[A\n",
      " 13%|█▎        | 2149/16818 [00:01<00:13, 1102.15it/s]\u001b[A\n",
      " 13%|█▎        | 2263/16818 [00:02<00:13, 1112.74it/s]\u001b[A\n",
      " 14%|█▍        | 2376/16818 [00:02<00:13, 1099.32it/s]\u001b[A\n",
      " 15%|█▍        | 2497/16818 [00:02<00:12, 1129.21it/s]\u001b[A\n",
      " 16%|█▌        | 2611/16818 [00:02<00:12, 1117.69it/s]\u001b[A\n",
      " 16%|█▌        | 2724/16818 [00:02<00:13, 1068.65it/s]\u001b[A\n",
      " 17%|█▋        | 2832/16818 [00:02<00:13, 1002.10it/s]\u001b[A\n",
      " 17%|█▋        | 2938/16818 [00:02<00:13, 1018.37it/s]\u001b[A\n",
      " 18%|█▊        | 3056/16818 [00:02<00:12, 1061.84it/s]\u001b[A\n",
      " 19%|█▉        | 3168/16818 [00:02<00:12, 1077.89it/s]\u001b[A\n",
      " 19%|█▉        | 3277/16818 [00:03<00:12, 1057.21it/s]\u001b[A\n",
      " 20%|██        | 3384/16818 [00:03<00:13, 1008.65it/s]\u001b[A\n",
      " 21%|██        | 3499/16818 [00:03<00:12, 1046.21it/s]\u001b[A\n",
      " 21%|██▏       | 3606/16818 [00:03<00:12, 1053.15it/s]\u001b[A\n",
      " 22%|██▏       | 3728/16818 [00:03<00:11, 1097.63it/s]\u001b[A\n",
      " 23%|██▎       | 3859/16818 [00:03<00:11, 1153.20it/s]\u001b[A\n",
      " 24%|██▎       | 3986/16818 [00:03<00:10, 1185.25it/s]\u001b[A\n",
      " 24%|██▍       | 4107/16818 [00:03<00:10, 1190.87it/s]\u001b[A\n",
      " 25%|██▌       | 4239/16818 [00:03<00:10, 1225.65it/s]\u001b[A\n",
      " 26%|██▌       | 4363/16818 [00:03<00:10, 1220.01it/s]\u001b[A\n",
      " 27%|██▋       | 4486/16818 [00:04<00:10, 1192.35it/s]\u001b[A\n",
      " 27%|██▋       | 4613/16818 [00:04<00:10, 1213.18it/s]\u001b[A\n",
      " 28%|██▊       | 4735/16818 [00:04<00:10, 1193.25it/s]\u001b[A\n",
      " 29%|██▉       | 4864/16818 [00:04<00:09, 1219.36it/s]\u001b[A\n",
      " 30%|██▉       | 4987/16818 [00:04<00:09, 1199.98it/s]\u001b[A\n",
      " 30%|███       | 5118/16818 [00:04<00:09, 1228.91it/s]\u001b[A\n",
      " 31%|███       | 5242/16818 [00:04<00:09, 1231.93it/s]\u001b[A\n",
      " 32%|███▏      | 5366/16818 [00:04<00:10, 1118.55it/s]\u001b[A\n",
      " 33%|███▎      | 5481/16818 [00:04<00:10, 1123.27it/s]\u001b[A\n",
      " 33%|███▎      | 5595/16818 [00:05<00:11, 975.59it/s] \u001b[A\n",
      " 34%|███▍      | 5698/16818 [00:05<00:11, 927.61it/s]\u001b[A\n",
      " 34%|███▍      | 5797/16818 [00:05<00:11, 945.06it/s]\u001b[A\n",
      " 35%|███▌      | 5921/16818 [00:05<00:10, 1016.05it/s]\u001b[A\n",
      " 36%|███▌      | 6043/16818 [00:05<00:10, 1069.34it/s]\u001b[A\n",
      " 37%|███▋      | 6166/16818 [00:05<00:09, 1112.02it/s]\u001b[A\n",
      " 37%|███▋      | 6294/16818 [00:05<00:09, 1157.57it/s]\u001b[A\n",
      " 38%|███▊      | 6415/16818 [00:05<00:08, 1171.93it/s]\u001b[A\n",
      " 39%|███▉      | 6546/16818 [00:05<00:08, 1210.12it/s]\u001b[A\n",
      " 40%|███▉      | 6672/16818 [00:06<00:08, 1222.52it/s]\u001b[A\n",
      " 40%|████      | 6796/16818 [00:06<00:08, 1142.99it/s]\u001b[A\n",
      " 41%|████      | 6926/16818 [00:06<00:08, 1184.17it/s]\u001b[A\n",
      " 42%|████▏     | 7047/16818 [00:06<00:08, 1177.51it/s]\u001b[A\n",
      " 43%|████▎     | 7166/16818 [00:06<00:08, 1181.15it/s]\u001b[A\n",
      " 43%|████▎     | 7295/16818 [00:06<00:07, 1209.64it/s]\u001b[A\n",
      " 44%|████▍     | 7421/16818 [00:06<00:07, 1222.84it/s]\u001b[A\n",
      " 45%|████▍     | 7544/16818 [00:06<00:07, 1206.25it/s]\u001b[A\n",
      " 46%|████▌     | 7667/16818 [00:06<00:07, 1211.54it/s]\u001b[A\n",
      " 46%|████▋     | 7799/16818 [00:06<00:07, 1241.67it/s]\u001b[A\n",
      " 47%|████▋     | 7924/16818 [00:07<00:07, 1227.52it/s]\u001b[A\n",
      " 48%|████▊     | 8048/16818 [00:07<00:08, 1039.48it/s]\u001b[A\n",
      " 49%|████▊     | 8158/16818 [00:07<00:08, 1008.63it/s]\u001b[A\n",
      " 49%|████▉     | 8263/16818 [00:07<00:09, 907.76it/s] \u001b[A\n",
      " 50%|████▉     | 8366/16818 [00:07<00:08, 940.98it/s]\u001b[A\n",
      " 50%|█████     | 8493/16818 [00:07<00:08, 1020.08it/s]\u001b[A\n",
      " 51%|█████     | 8615/16818 [00:07<00:07, 1071.87it/s]\u001b[A\n",
      " 52%|█████▏    | 8726/16818 [00:07<00:07, 1081.98it/s]\u001b[A\n",
      " 53%|█████▎    | 8841/16818 [00:07<00:07, 1099.48it/s]\u001b[A\n",
      " 53%|█████▎    | 8960/16818 [00:08<00:06, 1122.71it/s]\u001b[A\n",
      " 54%|█████▍    | 9074/16818 [00:08<00:07, 1079.32it/s]\u001b[A\n",
      " 55%|█████▍    | 9194/16818 [00:08<00:06, 1110.68it/s]\u001b[A\n",
      " 55%|█████▌    | 9307/16818 [00:08<00:06, 1108.60it/s]\u001b[A\n",
      " 56%|█████▌    | 9433/16818 [00:08<00:06, 1148.94it/s]\u001b[A\n",
      " 57%|█████▋    | 9562/16818 [00:08<00:06, 1186.29it/s]\u001b[A\n",
      " 58%|█████▊    | 9682/16818 [00:08<00:06, 1149.52it/s]\u001b[A\n",
      " 58%|█████▊    | 9804/16818 [00:08<00:06, 1168.44it/s]\u001b[A\n",
      " 59%|█████▉    | 9922/16818 [00:08<00:05, 1163.50it/s]\u001b[A\n",
      " 60%|█████▉    | 10042/16818 [00:09<00:05, 1173.06it/s]\u001b[A\n",
      " 60%|██████    | 10160/16818 [00:09<00:05, 1157.93it/s]\u001b[A\n",
      " 61%|██████    | 10277/16818 [00:09<00:05, 1139.73it/s]\u001b[A\n",
      " 62%|██████▏   | 10392/16818 [00:09<00:05, 1139.92it/s]\u001b[A\n",
      " 63%|██████▎   | 10517/16818 [00:09<00:05, 1170.44it/s]\u001b[A\n",
      " 63%|██████▎   | 10638/16818 [00:09<00:05, 1180.55it/s]\u001b[A\n",
      " 64%|██████▍   | 10757/16818 [00:09<00:05, 1161.30it/s]\u001b[A\n",
      " 65%|██████▍   | 10877/16818 [00:09<00:05, 1171.70it/s]\u001b[A\n",
      " 65%|██████▌   | 11005/16818 [00:09<00:04, 1200.73it/s]\u001b[A\n",
      " 66%|██████▌   | 11130/16818 [00:09<00:04, 1213.12it/s]\u001b[A\n",
      " 67%|██████▋   | 11252/16818 [00:10<00:04, 1195.66it/s]\u001b[A\n",
      " 68%|██████▊   | 11384/16818 [00:10<00:04, 1229.01it/s]\u001b[A\n",
      " 68%|██████▊   | 11508/16818 [00:10<00:04, 1213.97it/s]\u001b[A\n",
      " 69%|██████▉   | 11636/16818 [00:10<00:04, 1230.98it/s]\u001b[A\n",
      " 70%|██████▉   | 11770/16818 [00:10<00:04, 1259.10it/s]\u001b[A\n",
      " 71%|███████   | 11897/16818 [00:10<00:03, 1241.18it/s]\u001b[A\n",
      " 71%|███████▏  | 12022/16818 [00:10<00:04, 1150.25it/s]\u001b[A\n",
      " 72%|███████▏  | 12139/16818 [00:10<00:04, 1093.12it/s]\u001b[A\n",
      " 73%|███████▎  | 12260/16818 [00:10<00:04, 1125.44it/s]\u001b[A\n",
      " 74%|███████▎  | 12374/16818 [00:11<00:04, 993.86it/s] \u001b[A\n",
      " 74%|███████▍  | 12478/16818 [00:11<00:04, 998.35it/s]\u001b[A\n",
      " 75%|███████▍  | 12581/16818 [00:11<00:04, 984.28it/s]\u001b[A\n",
      " 75%|███████▌  | 12682/16818 [00:11<00:04, 923.70it/s]\u001b[A\n",
      " 76%|███████▌  | 12786/16818 [00:11<00:04, 954.31it/s]\u001b[A\n",
      " 77%|███████▋  | 12884/16818 [00:11<00:04, 914.76it/s]\u001b[A\n",
      " 77%|███████▋  | 12978/16818 [00:11<00:04, 824.14it/s]\u001b[A\n",
      " 78%|███████▊  | 13064/16818 [00:11<00:04, 761.12it/s]\u001b[A\n",
      " 78%|███████▊  | 13152/16818 [00:11<00:04, 792.83it/s]\u001b[A\n",
      " 79%|███████▊  | 13242/16818 [00:12<00:04, 820.85it/s]\u001b[A\n",
      " 79%|███████▉  | 13330/16818 [00:12<00:04, 837.18it/s]\u001b[A\n",
      " 80%|███████▉  | 13416/16818 [00:12<00:04, 818.48it/s]\u001b[A\n",
      " 80%|████████  | 13509/16818 [00:12<00:03, 847.60it/s]\u001b[A\n",
      " 81%|████████  | 13610/16818 [00:12<00:03, 889.58it/s]\u001b[A\n",
      " 82%|████████▏ | 13715/16818 [00:12<00:03, 930.44it/s]\u001b[A\n",
      " 82%|████████▏ | 13832/16818 [00:12<00:03, 990.04it/s]\u001b[A\n",
      " 83%|████████▎ | 13946/16818 [00:12<00:02, 1030.66it/s]\u001b[A\n",
      " 84%|████████▎ | 14069/16818 [00:12<00:02, 1081.44it/s]\u001b[A\n",
      " 84%|████████▍ | 14199/16818 [00:12<00:02, 1138.49it/s]\u001b[A\n",
      " 85%|████████▌ | 14316/16818 [00:13<00:02, 1141.51it/s]\u001b[A\n",
      " 86%|████████▌ | 14432/16818 [00:13<00:02, 1122.86it/s]\u001b[A\n",
      " 87%|████████▋ | 14551/16818 [00:13<00:01, 1141.07it/s]\u001b[A\n",
      " 87%|████████▋ | 14675/16818 [00:13<00:01, 1167.86it/s]\u001b[A\n",
      " 88%|████████▊ | 14793/16818 [00:13<00:01, 1141.07it/s]\u001b[A\n",
      " 89%|████████▊ | 14912/16818 [00:13<00:01, 1152.82it/s]\u001b[A\n",
      " 89%|████████▉ | 15028/16818 [00:13<00:01, 1153.67it/s]\u001b[A\n",
      " 90%|█████████ | 15158/16818 [00:13<00:01, 1192.27it/s]\u001b[A\n",
      " 91%|█████████ | 15278/16818 [00:13<00:01, 1183.77it/s]\u001b[A\n",
      " 92%|█████████▏| 15406/16818 [00:14<00:01, 1210.87it/s]\u001b[A\n",
      " 92%|█████████▏| 15528/16818 [00:14<00:01, 1202.97it/s]\u001b[A\n",
      " 93%|█████████▎| 15649/16818 [00:14<00:00, 1187.69it/s]\u001b[A\n",
      " 94%|█████████▍| 15773/16818 [00:14<00:00, 1201.24it/s]\u001b[A\n",
      " 95%|█████████▍| 15902/16818 [00:14<00:00, 1224.57it/s]\u001b[A\n",
      " 95%|█████████▌| 16033/16818 [00:14<00:00, 1248.99it/s]\u001b[A\n",
      " 96%|█████████▌| 16162/16818 [00:14<00:00, 1259.31it/s]\u001b[A\n",
      " 97%|█████████▋| 16292/16818 [00:14<00:00, 1269.83it/s]\u001b[A\n",
      " 98%|█████████▊| 16423/16818 [00:14<00:00, 1280.10it/s]\u001b[A\n",
      " 98%|█████████▊| 16557/16818 [00:14<00:00, 1295.87it/s]\u001b[A\n",
      " 99%|█████████▉| 16687/16818 [00:15<00:00, 1274.01it/s]\u001b[A\n",
      "100%|█████████▉| 16815/16818 [00:15<00:00, 1263.23it/s]\u001b[A\n",
      "100%|██████████| 16818/16818 [00:15<00:00, 1111.66it/s]\u001b[A\n",
      "  0%|          | 0/122 [00:00<?, ?it/s]\u001b[A\n",
      " 96%|█████████▌| 117/122 [00:00<00:00, 1162.26it/s]\u001b[A\n",
      "100%|██████████| 122/122 [00:00<00:00, 1084.36it/s]\u001b[A"
     ]
    },
    {
     "name": "stdout",
     "output_type": "stream",
     "text": [
      "Total users: 31920\n",
      "Added: 14200\n",
      "Updated: 2618\n",
      "Aggregating Item Stats..\n",
      "Total items: 278\n",
      "Added: 118\n",
      "Updated: 4\n",
      "\n",
      "\n",
      "Processing Chunk 2\n",
      "Cleaning Text..\n",
      "Aggregating User Stats..\n"
     ]
    },
    {
     "name": "stderr",
     "output_type": "stream",
     "text": [
      "\n",
      "  0%|          | 0/18337 [00:00<?, ?it/s]\u001b[A\n",
      "  1%|          | 135/18337 [00:00<00:13, 1341.53it/s]\u001b[A\n",
      "  1%|▏         | 274/18337 [00:00<00:13, 1354.04it/s]\u001b[A\n",
      "  2%|▏         | 396/18337 [00:00<00:13, 1309.70it/s]\u001b[A\n",
      "  3%|▎         | 540/18337 [00:00<00:13, 1343.07it/s]\u001b[A\n",
      "  4%|▎         | 666/18337 [00:00<00:13, 1315.16it/s]\u001b[A\n",
      "  4%|▍         | 802/18337 [00:00<00:13, 1327.95it/s]\u001b[A\n",
      "  5%|▌         | 939/18337 [00:00<00:12, 1340.03it/s]\u001b[A\n",
      "  6%|▌         | 1077/18337 [00:00<00:12, 1350.67it/s]\u001b[A\n",
      "  7%|▋         | 1219/18337 [00:00<00:12, 1370.48it/s]\u001b[A\n",
      "  7%|▋         | 1358/18337 [00:01<00:12, 1374.98it/s]\u001b[A\n",
      "  8%|▊         | 1498/18337 [00:01<00:12, 1380.75it/s]\u001b[A\n",
      "  9%|▉         | 1634/18337 [00:01<00:12, 1369.99it/s]\u001b[A\n",
      " 10%|▉         | 1770/18337 [00:01<00:12, 1335.91it/s]\u001b[A\n",
      " 10%|█         | 1916/18337 [00:01<00:11, 1369.41it/s]\u001b[A\n",
      " 11%|█         | 2053/18337 [00:01<00:11, 1361.06it/s]\u001b[A\n",
      " 12%|█▏        | 2189/18337 [00:01<00:12, 1338.34it/s]\u001b[A\n",
      " 13%|█▎        | 2323/18337 [00:01<00:11, 1335.90it/s]\u001b[A\n",
      " 13%|█▎        | 2457/18337 [00:01<00:12, 1306.52it/s]\u001b[A\n",
      " 14%|█▍        | 2589/18337 [00:01<00:12, 1309.29it/s]\u001b[A\n",
      " 15%|█▍        | 2732/18337 [00:02<00:11, 1342.28it/s]\u001b[A\n",
      " 16%|█▌        | 2867/18337 [00:02<00:11, 1326.30it/s]\u001b[A\n",
      " 16%|█▋        | 3000/18337 [00:02<00:11, 1317.49it/s]\u001b[A\n",
      " 17%|█▋        | 3136/18337 [00:02<00:11, 1327.77it/s]\u001b[A\n",
      " 18%|█▊        | 3275/18337 [00:02<00:11, 1345.03it/s]\u001b[A\n",
      " 19%|█▊        | 3410/18337 [00:02<00:12, 1223.46it/s]\u001b[A\n",
      " 19%|█▉        | 3535/18337 [00:02<00:12, 1222.16it/s]\u001b[A\n",
      " 20%|█▉        | 3659/18337 [00:02<00:15, 962.56it/s] \u001b[A\n",
      " 21%|██        | 3765/18337 [00:03<00:16, 879.20it/s]\u001b[A\n",
      " 21%|██        | 3862/18337 [00:03<00:17, 816.83it/s]\u001b[A\n",
      " 22%|██▏       | 3951/18337 [00:03<00:18, 792.63it/s]\u001b[A\n",
      " 22%|██▏       | 4036/18337 [00:03<00:18, 792.31it/s]\u001b[A\n",
      " 23%|██▎       | 4141/18337 [00:03<00:16, 855.13it/s]\u001b[A\n",
      " 23%|██▎       | 4238/18337 [00:03<00:15, 884.82it/s]\u001b[A\n",
      " 24%|██▎       | 4330/18337 [00:03<00:16, 845.96it/s]\u001b[A\n",
      " 24%|██▍       | 4451/18337 [00:03<00:14, 928.52it/s]\u001b[A\n",
      " 25%|██▍       | 4555/18337 [00:03<00:14, 958.47it/s]\u001b[A\n",
      " 25%|██▌       | 4656/18337 [00:03<00:14, 972.98it/s]\u001b[A\n",
      " 26%|██▌       | 4779/18337 [00:04<00:13, 1037.21it/s]\u001b[A\n",
      " 27%|██▋       | 4907/18337 [00:04<00:12, 1098.41it/s]\u001b[A\n",
      " 28%|██▊       | 5044/18337 [00:04<00:11, 1166.60it/s]\u001b[A\n",
      " 28%|██▊       | 5190/18337 [00:04<00:10, 1238.50it/s]\u001b[A\n",
      " 29%|██▉       | 5330/18337 [00:04<00:10, 1281.82it/s]\u001b[A\n",
      " 30%|██▉       | 5463/18337 [00:04<00:09, 1294.96it/s]\u001b[A\n",
      " 31%|███       | 5595/18337 [00:04<00:10, 1253.70it/s]\u001b[A\n",
      " 31%|███       | 5723/18337 [00:04<00:11, 1062.25it/s]\u001b[A\n",
      " 32%|███▏      | 5836/18337 [00:04<00:11, 1067.00it/s]\u001b[A\n",
      " 32%|███▏      | 5959/18337 [00:05<00:11, 1109.33it/s]\u001b[A\n",
      " 33%|███▎      | 6074/18337 [00:05<00:11, 1090.68it/s]\u001b[A\n",
      " 34%|███▎      | 6186/18337 [00:05<00:12, 987.66it/s] \u001b[A\n",
      " 34%|███▍      | 6289/18337 [00:05<00:12, 995.19it/s]\u001b[A\n",
      " 35%|███▍      | 6416/18337 [00:05<00:11, 1062.21it/s]\u001b[A\n",
      " 36%|███▌      | 6540/18337 [00:05<00:10, 1109.70it/s]\u001b[A\n",
      " 36%|███▋      | 6654/18337 [00:05<00:10, 1066.49it/s]\u001b[A\n",
      " 37%|███▋      | 6786/18337 [00:05<00:10, 1131.65it/s]\u001b[A\n",
      " 38%|███▊      | 6912/18337 [00:05<00:09, 1166.24it/s]\u001b[A\n",
      " 38%|███▊      | 7031/18337 [00:06<00:09, 1170.57it/s]\u001b[A\n",
      " 39%|███▉      | 7153/18337 [00:06<00:09, 1181.81it/s]\u001b[A\n",
      " 40%|███▉      | 7273/18337 [00:06<00:10, 1027.45it/s]\u001b[A\n",
      " 40%|████      | 7397/18337 [00:06<00:10, 1082.97it/s]\u001b[A\n",
      " 41%|████      | 7513/18337 [00:06<00:09, 1103.46it/s]\u001b[A\n",
      " 42%|████▏     | 7635/18337 [00:06<00:09, 1132.71it/s]\u001b[A\n",
      " 42%|████▏     | 7751/18337 [00:06<00:09, 1119.86it/s]\u001b[A\n",
      " 43%|████▎     | 7874/18337 [00:06<00:09, 1149.43it/s]\u001b[A\n",
      " 44%|████▎     | 7996/18337 [00:06<00:08, 1167.55it/s]\u001b[A\n",
      " 44%|████▍     | 8114/18337 [00:07<00:09, 1121.72it/s]\u001b[A\n",
      " 45%|████▍     | 8228/18337 [00:07<00:09, 1054.31it/s]\u001b[A\n",
      " 45%|████▌     | 8342/18337 [00:07<00:09, 1078.22it/s]\u001b[A\n",
      " 46%|████▌     | 8452/18337 [00:07<00:10, 979.17it/s] \u001b[A\n",
      " 47%|████▋     | 8553/18337 [00:07<00:10, 897.65it/s]\u001b[A\n",
      " 47%|████▋     | 8655/18337 [00:07<00:10, 930.59it/s]\u001b[A\n",
      " 48%|████▊     | 8777/18337 [00:07<00:09, 1000.89it/s]\u001b[A\n",
      " 48%|████▊     | 8881/18337 [00:07<00:09, 1011.62it/s]\u001b[A\n",
      " 49%|████▉     | 8988/18337 [00:07<00:09, 1027.71it/s]\u001b[A\n",
      " 50%|████▉     | 9102/18337 [00:08<00:08, 1057.69it/s]\u001b[A\n",
      " 50%|█████     | 9231/18337 [00:08<00:08, 1117.58it/s]\u001b[A\n",
      " 51%|█████     | 9345/18337 [00:08<00:08, 1090.77it/s]\u001b[A\n",
      " 52%|█████▏    | 9456/18337 [00:08<00:08, 1091.15it/s]\u001b[A\n",
      " 52%|█████▏    | 9569/18337 [00:08<00:07, 1101.18it/s]\u001b[A\n",
      " 53%|█████▎    | 9683/18337 [00:08<00:07, 1111.58it/s]\u001b[A\n",
      " 53%|█████▎    | 9795/18337 [00:08<00:08, 995.27it/s] \u001b[A\n",
      " 54%|█████▍    | 9898/18337 [00:08<00:08, 973.79it/s]\u001b[A\n",
      " 55%|█████▍    | 10017/18337 [00:08<00:08, 1028.93it/s]\u001b[A\n",
      " 55%|█████▌    | 10130/18337 [00:08<00:07, 1054.93it/s]\u001b[A\n",
      " 56%|█████▌    | 10241/18337 [00:09<00:07, 1070.10it/s]\u001b[A\n",
      " 56%|█████▋    | 10350/18337 [00:09<00:08, 971.12it/s] \u001b[A\n",
      " 57%|█████▋    | 10450/18337 [00:09<00:08, 978.83it/s]\u001b[A\n",
      " 58%|█████▊    | 10568/18337 [00:09<00:07, 1031.40it/s]\u001b[A\n",
      " 58%|█████▊    | 10676/18337 [00:09<00:07, 1045.48it/s]\u001b[A\n",
      " 59%|█████▉    | 10783/18337 [00:09<00:07, 1011.90it/s]\u001b[A\n",
      " 59%|█████▉    | 10898/18337 [00:09<00:07, 1048.90it/s]\u001b[A\n",
      " 60%|██████    | 11005/18337 [00:09<00:07, 1042.54it/s]\u001b[A\n",
      " 61%|██████    | 11111/18337 [00:09<00:07, 967.93it/s] \u001b[A\n",
      " 61%|██████    | 11210/18337 [00:10<00:07, 909.87it/s]\u001b[A\n",
      " 62%|██████▏   | 11303/18337 [00:10<00:07, 881.75it/s]\u001b[A\n",
      " 62%|██████▏   | 11393/18337 [00:10<00:08, 833.82it/s]\u001b[A\n",
      " 63%|██████▎   | 11491/18337 [00:10<00:07, 870.39it/s]\u001b[A\n",
      " 63%|██████▎   | 11597/18337 [00:10<00:07, 919.14it/s]\u001b[A\n",
      " 64%|██████▍   | 11731/18337 [00:10<00:06, 1012.76it/s]\u001b[A\n",
      " 65%|██████▍   | 11837/18337 [00:10<00:06, 1024.06it/s]\u001b[A\n",
      " 65%|██████▌   | 11951/18337 [00:10<00:06, 1053.85it/s]\u001b[A\n",
      " 66%|██████▌   | 12059/18337 [00:10<00:06, 1040.12it/s]\u001b[A\n",
      " 66%|██████▋   | 12165/18337 [00:11<00:05, 1031.10it/s]\u001b[A\n",
      " 67%|██████▋   | 12270/18337 [00:11<00:05, 1030.51it/s]\u001b[A\n",
      " 67%|██████▋   | 12374/18337 [00:11<00:05, 1029.62it/s]\u001b[A\n",
      " 68%|██████▊   | 12478/18337 [00:11<00:05, 1031.17it/s]\u001b[A\n",
      " 69%|██████▊   | 12604/18337 [00:11<00:05, 1089.64it/s]\u001b[A\n",
      " 69%|██████▉   | 12715/18337 [00:11<00:05, 1070.00it/s]\u001b[A\n",
      " 70%|██████▉   | 12823/18337 [00:11<00:05, 1051.65it/s]\u001b[A\n",
      " 71%|███████   | 12929/18337 [00:11<00:05, 941.89it/s] \u001b[A\n",
      " 71%|███████   | 13026/18337 [00:11<00:05, 922.62it/s]\u001b[A\n",
      " 72%|███████▏  | 13121/18337 [00:12<00:05, 877.12it/s]\u001b[A\n",
      " 72%|███████▏  | 13229/18337 [00:12<00:05, 928.16it/s]\u001b[A\n",
      " 73%|███████▎  | 13324/18337 [00:12<00:05, 901.74it/s]\u001b[A\n",
      " 73%|███████▎  | 13416/18337 [00:12<00:05, 874.13it/s]\u001b[A\n",
      " 74%|███████▎  | 13510/18337 [00:12<00:05, 891.47it/s]\u001b[A\n",
      " 74%|███████▍  | 13622/18337 [00:12<00:04, 948.95it/s]\u001b[A\n",
      " 75%|███████▍  | 13738/18337 [00:12<00:04, 1002.58it/s]\u001b[A\n",
      " 76%|███████▌  | 13851/18337 [00:12<00:04, 1037.07it/s]\u001b[A\n",
      " 76%|███████▌  | 13957/18337 [00:12<00:04, 1002.92it/s]\u001b[A\n",
      " 77%|███████▋  | 14059/18337 [00:13<00:04, 924.33it/s] \u001b[A\n",
      " 77%|███████▋  | 14165/18337 [00:13<00:04, 960.85it/s]\u001b[A\n",
      " 78%|███████▊  | 14264/18337 [00:13<00:04, 935.74it/s]\u001b[A\n",
      " 78%|███████▊  | 14360/18337 [00:13<00:04, 936.55it/s]\u001b[A\n",
      " 79%|███████▉  | 14455/18337 [00:13<00:04, 913.76it/s]\u001b[A\n",
      " 79%|███████▉  | 14576/18337 [00:13<00:03, 984.94it/s]\u001b[A\n",
      " 80%|████████  | 14679/18337 [00:13<00:03, 997.59it/s]\u001b[A\n",
      " 81%|████████  | 14800/18337 [00:13<00:03, 1052.72it/s]\u001b[A\n",
      " 81%|████████▏ | 14916/18337 [00:13<00:03, 1081.72it/s]\u001b[A\n",
      " 82%|████████▏ | 15026/18337 [00:13<00:03, 991.03it/s] \u001b[A\n",
      " 82%|████████▏ | 15128/18337 [00:14<00:03, 965.95it/s]\u001b[A\n",
      " 83%|████████▎ | 15259/18337 [00:14<00:02, 1048.16it/s]\u001b[A\n",
      " 84%|████████▍ | 15368/18337 [00:14<00:02, 1058.11it/s]\u001b[A\n",
      " 84%|████████▍ | 15477/18337 [00:14<00:02, 1033.86it/s]\u001b[A\n",
      " 85%|████████▍ | 15583/18337 [00:14<00:02, 991.48it/s] \u001b[A\n",
      " 86%|████████▌ | 15697/18337 [00:14<00:02, 1030.71it/s]\u001b[A\n",
      " 86%|████████▌ | 15802/18337 [00:14<00:02, 1033.64it/s]\u001b[A\n",
      " 87%|████████▋ | 15912/18337 [00:14<00:02, 1052.40it/s]\u001b[A\n",
      " 87%|████████▋ | 16019/18337 [00:14<00:02, 1026.66it/s]\u001b[A\n",
      " 88%|████████▊ | 16141/18337 [00:15<00:02, 1077.17it/s]\u001b[A\n",
      " 89%|████████▊ | 16250/18337 [00:15<00:01, 1069.26it/s]\u001b[A\n",
      " 89%|████████▉ | 16358/18337 [00:15<00:02, 976.93it/s] \u001b[A\n",
      " 90%|████████▉ | 16461/18337 [00:15<00:01, 991.25it/s]\u001b[A\n",
      " 90%|█████████ | 16566/18337 [00:15<00:01, 1008.11it/s]\u001b[A\n",
      " 91%|█████████ | 16668/18337 [00:15<00:01, 930.78it/s] \u001b[A\n",
      " 91%|█████████▏| 16776/18337 [00:15<00:01, 969.73it/s]\u001b[A\n",
      " 92%|█████████▏| 16897/18337 [00:15<00:01, 1029.38it/s]\u001b[A\n",
      " 93%|█████████▎| 17009/18337 [00:15<00:01, 1053.52it/s]\u001b[A\n",
      " 93%|█████████▎| 17119/18337 [00:15<00:01, 1065.80it/s]\u001b[A\n",
      " 94%|█████████▍| 17241/18337 [00:16<00:00, 1106.97it/s]\u001b[A\n",
      " 95%|█████████▍| 17353/18337 [00:16<00:00, 1081.71it/s]\u001b[A\n",
      " 95%|█████████▌| 17463/18337 [00:16<00:00, 1083.24it/s]\u001b[A\n",
      " 96%|█████████▌| 17584/18337 [00:16<00:00, 1116.41it/s]\u001b[A\n",
      " 97%|█████████▋| 17702/18337 [00:16<00:00, 1133.42it/s]\u001b[A\n",
      " 97%|█████████▋| 17818/18337 [00:16<00:00, 1141.27it/s]\u001b[A\n",
      " 98%|█████████▊| 17937/18337 [00:16<00:00, 1155.43it/s]\u001b[A\n",
      " 98%|█████████▊| 18057/18337 [00:16<00:00, 1168.43it/s]\u001b[A\n",
      " 99%|█████████▉| 18179/18337 [00:16<00:00, 1180.81it/s]\u001b[A\n",
      "100%|█████████▉| 18298/18337 [00:17<00:00, 1148.67it/s]\u001b[A\n",
      "100%|██████████| 18337/18337 [00:17<00:00, 1074.96it/s]\u001b[A\n",
      "  0%|          | 0/144 [00:00<?, ?it/s]\u001b[A\n",
      " 84%|████████▍ | 121/144 [00:00<00:00, 1203.93it/s]\u001b[A\n",
      "100%|██████████| 144/144 [00:00<00:00, 1153.63it/s]\u001b[A"
     ]
    },
    {
     "name": "stdout",
     "output_type": "stream",
     "text": [
      "Total users: 47970\n",
      "Added: 16050\n",
      "Updated: 2287\n",
      "Aggregating Item Stats..\n",
      "Total items: 421\n",
      "Added: 143\n",
      "Updated: 1\n",
      "\n",
      "\n",
      "Processing Chunk 3\n",
      "Cleaning Text..\n",
      "Aggregating User Stats..\n"
     ]
    },
    {
     "name": "stderr",
     "output_type": "stream",
     "text": [
      "\n",
      "  0%|          | 0/17539 [00:00<?, ?it/s]\u001b[A\n",
      "  1%|          | 97/17539 [00:00<00:18, 963.33it/s]\u001b[A\n",
      "  1%|▏         | 226/17539 [00:00<00:16, 1040.88it/s]\u001b[A\n",
      "  2%|▏         | 352/17539 [00:00<00:15, 1094.71it/s]\u001b[A\n",
      "  3%|▎         | 451/17539 [00:00<00:16, 1059.56it/s]\u001b[A\n",
      "  3%|▎         | 576/17539 [00:00<00:15, 1108.28it/s]\u001b[A\n",
      "  4%|▍         | 679/17539 [00:00<00:15, 1081.84it/s]\u001b[A\n",
      "  5%|▍         | 809/17539 [00:00<00:14, 1136.91it/s]\u001b[A\n",
      "  5%|▌         | 935/17539 [00:00<00:14, 1170.27it/s]\u001b[A\n",
      "  6%|▌         | 1065/17539 [00:00<00:13, 1204.14it/s]\u001b[A\n",
      "  7%|▋         | 1188/17539 [00:01<00:13, 1210.78it/s]\u001b[A\n",
      "  7%|▋         | 1308/17539 [00:01<00:13, 1189.92it/s]\u001b[A\n",
      "  8%|▊         | 1444/17539 [00:01<00:13, 1234.84it/s]\u001b[A\n",
      "  9%|▉         | 1568/17539 [00:01<00:13, 1218.23it/s]\u001b[A\n",
      " 10%|▉         | 1692/17539 [00:01<00:12, 1224.66it/s]\u001b[A\n",
      " 10%|█         | 1815/17539 [00:01<00:12, 1214.78it/s]\u001b[A\n",
      " 11%|█         | 1937/17539 [00:01<00:13, 1180.82it/s]\u001b[A\n",
      " 12%|█▏        | 2070/17539 [00:01<00:12, 1220.44it/s]\u001b[A\n",
      " 13%|█▎        | 2193/17539 [00:01<00:13, 1175.82it/s]\u001b[A\n",
      " 13%|█▎        | 2314/17539 [00:01<00:12, 1185.14it/s]\u001b[A\n",
      " 14%|█▍        | 2433/17539 [00:02<00:12, 1184.77it/s]\u001b[A\n",
      " 15%|█▍        | 2553/17539 [00:02<00:12, 1188.91it/s]\u001b[A\n",
      " 15%|█▌        | 2673/17539 [00:02<00:12, 1183.98it/s]\u001b[A\n",
      " 16%|█▌        | 2796/17539 [00:02<00:12, 1196.69it/s]\u001b[A\n",
      " 17%|█▋        | 2926/17539 [00:02<00:11, 1224.73it/s]\u001b[A\n",
      " 17%|█▋        | 3059/17539 [00:02<00:11, 1253.16it/s]\u001b[A\n",
      " 18%|█▊        | 3185/17539 [00:02<00:12, 1194.16it/s]\u001b[A\n",
      " 19%|█▉        | 3312/17539 [00:02<00:11, 1213.89it/s]\u001b[A\n",
      " 20%|█▉        | 3435/17539 [00:02<00:11, 1212.07it/s]\u001b[A\n",
      " 20%|██        | 3558/17539 [00:02<00:11, 1216.05it/s]\u001b[A\n",
      " 21%|██        | 3680/17539 [00:03<00:11, 1216.96it/s]\u001b[A\n",
      " 22%|██▏       | 3807/17539 [00:03<00:11, 1231.47it/s]\u001b[A\n",
      " 22%|██▏       | 3931/17539 [00:03<00:11, 1149.86it/s]\u001b[A\n",
      " 23%|██▎       | 4053/17539 [00:03<00:11, 1169.45it/s]\u001b[A\n",
      " 24%|██▍       | 4171/17539 [00:03<00:11, 1151.76it/s]\u001b[A\n",
      " 25%|██▍       | 4303/17539 [00:03<00:11, 1196.08it/s]\u001b[A\n",
      " 25%|██▌       | 4432/17539 [00:03<00:10, 1221.58it/s]\u001b[A\n",
      " 26%|██▌       | 4555/17539 [00:03<00:10, 1211.98it/s]\u001b[A\n",
      " 27%|██▋       | 4681/17539 [00:03<00:10, 1225.77it/s]\u001b[A\n",
      " 27%|██▋       | 4805/17539 [00:04<00:10, 1181.99it/s]\u001b[A\n",
      " 28%|██▊       | 4926/17539 [00:04<00:10, 1189.34it/s]\u001b[A\n",
      " 29%|██▉       | 5058/17539 [00:04<00:10, 1223.52it/s]\u001b[A\n",
      " 30%|██▉       | 5181/17539 [00:04<00:10, 1193.91it/s]\u001b[A\n",
      " 30%|███       | 5312/17539 [00:04<00:09, 1224.65it/s]\u001b[A\n",
      " 31%|███       | 5439/17539 [00:04<00:09, 1237.09it/s]\u001b[A\n",
      " 32%|███▏      | 5574/17539 [00:04<00:09, 1268.59it/s]\u001b[A\n",
      " 33%|███▎      | 5703/17539 [00:04<00:09, 1274.50it/s]\u001b[A\n",
      " 33%|███▎      | 5831/17539 [00:04<00:09, 1271.43it/s]\u001b[A\n",
      " 34%|███▍      | 5960/17539 [00:04<00:09, 1274.92it/s]\u001b[A\n",
      " 35%|███▍      | 6091/17539 [00:05<00:08, 1284.23it/s]\u001b[A\n",
      " 35%|███▌      | 6220/17539 [00:05<00:08, 1281.25it/s]\u001b[A\n",
      " 36%|███▌      | 6353/17539 [00:05<00:08, 1293.52it/s]\u001b[A\n",
      " 37%|███▋      | 6483/17539 [00:05<00:08, 1255.28it/s]\u001b[A\n",
      " 38%|███▊      | 6611/17539 [00:05<00:08, 1262.07it/s]\u001b[A\n",
      " 38%|███▊      | 6738/17539 [00:05<00:08, 1234.58it/s]\u001b[A\n",
      " 39%|███▉      | 6864/17539 [00:05<00:08, 1241.96it/s]\u001b[A\n",
      " 40%|███▉      | 6995/17539 [00:05<00:08, 1260.64it/s]\u001b[A\n",
      " 41%|████      | 7122/17539 [00:05<00:08, 1260.31it/s]\u001b[A\n",
      " 41%|████▏     | 7249/17539 [00:05<00:08, 1262.25it/s]\u001b[A\n",
      " 42%|████▏     | 7376/17539 [00:06<00:08, 1249.44it/s]\u001b[A\n",
      " 43%|████▎     | 7502/17539 [00:06<00:08, 1246.02it/s]\u001b[A\n",
      " 44%|████▎     | 7635/17539 [00:06<00:07, 1268.28it/s]\u001b[A\n",
      " 44%|████▍     | 7762/17539 [00:06<00:07, 1253.36it/s]\u001b[A\n",
      " 45%|████▍     | 7892/17539 [00:06<00:07, 1265.75it/s]\u001b[A\n",
      " 46%|████▌     | 8028/17539 [00:06<00:07, 1291.38it/s]\u001b[A\n",
      " 47%|████▋     | 8158/17539 [00:06<00:07, 1282.01it/s]\u001b[A\n",
      " 47%|████▋     | 8287/17539 [00:06<00:07, 1268.85it/s]\u001b[A\n",
      " 48%|████▊     | 8415/17539 [00:06<00:07, 1244.52it/s]\u001b[A\n",
      " 49%|████▊     | 8540/17539 [00:06<00:07, 1234.60it/s]\u001b[A\n",
      " 49%|████▉     | 8665/17539 [00:07<00:07, 1238.61it/s]\u001b[A\n",
      " 50%|█████     | 8789/17539 [00:07<00:07, 1230.80it/s]\u001b[A\n",
      " 51%|█████     | 8915/17539 [00:07<00:06, 1239.10it/s]\u001b[A\n",
      " 52%|█████▏    | 9039/17539 [00:07<00:06, 1221.15it/s]\u001b[A\n",
      " 52%|█████▏    | 9169/17539 [00:07<00:06, 1243.41it/s]\u001b[A\n",
      " 53%|█████▎    | 9306/17539 [00:07<00:06, 1278.33it/s]\u001b[A\n",
      " 54%|█████▍    | 9435/17539 [00:07<00:06, 1269.36it/s]\u001b[A\n",
      " 55%|█████▍    | 9564/17539 [00:07<00:06, 1273.80it/s]\u001b[A\n",
      " 55%|█████▌    | 9696/17539 [00:07<00:06, 1284.68it/s]\u001b[A\n",
      " 56%|█████▌    | 9825/17539 [00:07<00:06, 1285.28it/s]\u001b[A\n",
      " 57%|█████▋    | 9962/17539 [00:08<00:05, 1307.48it/s]\u001b[A\n",
      " 58%|█████▊    | 10093/17539 [00:08<00:05, 1307.29it/s]\u001b[A\n",
      " 58%|█████▊    | 10224/17539 [00:08<00:05, 1268.50it/s]\u001b[A\n",
      " 59%|█████▉    | 10352/17539 [00:08<00:05, 1261.02it/s]\u001b[A\n",
      " 60%|█████▉    | 10490/17539 [00:08<00:05, 1292.81it/s]\u001b[A\n",
      " 61%|██████    | 10624/17539 [00:08<00:05, 1304.27it/s]\u001b[A\n",
      " 61%|██████▏   | 10755/17539 [00:08<00:05, 1303.14it/s]\u001b[A\n",
      " 62%|██████▏   | 10891/17539 [00:08<00:05, 1319.50it/s]\u001b[A\n",
      " 63%|██████▎   | 11024/17539 [00:08<00:04, 1314.15it/s]\u001b[A\n",
      " 64%|██████▎   | 11158/17539 [00:09<00:04, 1321.61it/s]\u001b[A\n",
      " 64%|██████▍   | 11294/17539 [00:09<00:04, 1332.57it/s]\u001b[A\n",
      " 65%|██████▌   | 11431/17539 [00:09<00:04, 1342.71it/s]\u001b[A\n",
      " 66%|██████▌   | 11566/17539 [00:09<00:04, 1320.91it/s]\u001b[A\n",
      " 67%|██████▋   | 11699/17539 [00:09<00:04, 1287.30it/s]\u001b[A\n",
      " 67%|██████▋   | 11829/17539 [00:09<00:04, 1288.04it/s]\u001b[A\n",
      " 68%|██████▊   | 11969/17539 [00:09<00:04, 1319.61it/s]\u001b[A\n",
      " 69%|██████▉   | 12102/17539 [00:09<00:04, 1315.70it/s]\u001b[A\n",
      " 70%|██████▉   | 12234/17539 [00:09<00:04, 1314.50it/s]\u001b[A\n",
      " 71%|███████   | 12366/17539 [00:09<00:04, 1272.70it/s]\u001b[A\n",
      " 71%|███████   | 12494/17539 [00:10<00:03, 1274.67it/s]\u001b[A\n",
      " 72%|███████▏  | 12623/17539 [00:10<00:03, 1277.96it/s]\u001b[A\n",
      " 73%|███████▎  | 12755/17539 [00:10<00:03, 1290.07it/s]\u001b[A\n",
      " 73%|███████▎  | 12885/17539 [00:10<00:03, 1271.36it/s]\u001b[A\n",
      " 74%|███████▍  | 13013/17539 [00:10<00:03, 1242.18it/s]\u001b[A\n",
      " 75%|███████▍  | 13152/17539 [00:10<00:03, 1282.63it/s]\u001b[A\n",
      " 76%|███████▌  | 13281/17539 [00:10<00:03, 1250.16it/s]\u001b[A\n",
      " 76%|███████▋  | 13407/17539 [00:10<00:03, 1086.39it/s]\u001b[A\n",
      " 77%|███████▋  | 13524/17539 [00:10<00:03, 1108.57it/s]\u001b[A\n",
      " 78%|███████▊  | 13654/17539 [00:11<00:03, 1159.39it/s]\u001b[A\n",
      " 79%|███████▊  | 13781/17539 [00:11<00:03, 1190.23it/s]\u001b[A\n",
      " 79%|███████▉  | 13907/17539 [00:11<00:03, 1210.28it/s]\u001b[A\n",
      " 80%|███████▉  | 14031/17539 [00:11<00:02, 1218.38it/s]\u001b[A\n",
      " 81%|████████  | 14154/17539 [00:11<00:02, 1220.70it/s]\u001b[A\n",
      " 81%|████████▏ | 14286/17539 [00:11<00:02, 1247.07it/s]\u001b[A\n",
      " 82%|████████▏ | 14417/17539 [00:11<00:02, 1264.33it/s]\u001b[A\n",
      " 83%|████████▎ | 14544/17539 [00:11<00:02, 1258.52it/s]\u001b[A\n",
      " 84%|████████▎ | 14671/17539 [00:11<00:02, 1216.94it/s]\u001b[A\n",
      " 84%|████████▍ | 14794/17539 [00:11<00:02, 1203.85it/s]\u001b[A\n",
      " 85%|████████▌ | 14917/17539 [00:12<00:02, 1211.52it/s]\u001b[A\n",
      " 86%|████████▌ | 15041/17539 [00:12<00:02, 1218.66it/s]\u001b[A\n",
      " 86%|████████▋ | 15164/17539 [00:12<00:02, 1170.13it/s]\u001b[A\n",
      " 87%|████████▋ | 15282/17539 [00:12<00:01, 1169.52it/s]\u001b[A\n",
      " 88%|████████▊ | 15400/17539 [00:12<00:01, 1119.24it/s]\u001b[A\n",
      " 89%|████████▊ | 15523/17539 [00:12<00:01, 1149.14it/s]\u001b[A\n",
      " 89%|████████▉ | 15639/17539 [00:12<00:01, 1102.60it/s]\u001b[A\n",
      " 90%|████████▉ | 15755/17539 [00:12<00:01, 1118.82it/s]\u001b[A\n",
      " 91%|█████████ | 15879/17539 [00:12<00:01, 1151.77it/s]\u001b[A\n",
      " 91%|█████████▏| 16005/17539 [00:12<00:01, 1180.80it/s]\u001b[A\n",
      " 92%|█████████▏| 16134/17539 [00:13<00:01, 1210.25it/s]\u001b[A\n",
      " 93%|█████████▎| 16256/17539 [00:13<00:01, 1210.50it/s]\u001b[A\n",
      " 93%|█████████▎| 16378/17539 [00:13<00:00, 1179.35it/s]\u001b[A\n",
      " 94%|█████████▍| 16502/17539 [00:13<00:00, 1196.32it/s]\u001b[A\n",
      " 95%|█████████▍| 16623/17539 [00:13<00:00, 1186.81it/s]\u001b[A\n",
      " 95%|█████████▌| 16742/17539 [00:13<00:00, 1181.84it/s]\u001b[A\n",
      " 96%|█████████▌| 16876/17539 [00:13<00:00, 1222.98it/s]\u001b[A\n",
      " 97%|█████████▋| 17005/17539 [00:13<00:00, 1241.86it/s]\u001b[A\n",
      " 98%|█████████▊| 17130/17539 [00:13<00:00, 1221.97it/s]\u001b[A\n",
      " 98%|█████████▊| 17262/17539 [00:14<00:00, 1249.22it/s]\u001b[A\n",
      " 99%|█████████▉| 17395/17539 [00:14<00:00, 1271.22it/s]\u001b[A\n",
      "100%|█████████▉| 17523/17539 [00:14<00:00, 1273.28it/s]\u001b[A\n",
      "100%|██████████| 17539/17539 [00:14<00:00, 1232.75it/s]\u001b[A\n",
      "  0%|          | 0/240 [00:00<?, ?it/s]\u001b[A\n",
      " 50%|████▉     | 119/240 [00:00<00:00, 1184.96it/s]\u001b[A"
     ]
    },
    {
     "name": "stdout",
     "output_type": "stream",
     "text": [
      "Total users: 61018\n",
      "Added: 13048\n",
      "Updated: 4491\n",
      "Aggregating Item Stats..\n"
     ]
    },
    {
     "name": "stderr",
     "output_type": "stream",
     "text": [
      "\n",
      "100%|██████████| 240/240 [00:00<00:00, 1245.89it/s]\u001b[A"
     ]
    },
    {
     "name": "stdout",
     "output_type": "stream",
     "text": [
      "Total items: 659\n",
      "Added: 238\n",
      "Updated: 2\n",
      "\n",
      "\n"
     ]
    }
   ],
   "source": [
    "books_path = './datasets/Books_5.json.gz'\n",
    "chunk_size=20000\n",
    "pkl_path = './datasets/books-pickle/'\n",
    "\n",
    "user_dict = {}\n",
    "item_dict = {}\n",
    "\n",
    "n_chunks, i, user_dict, item_dict = preprocessDF_chunks(books_path, chunk_size, pkl_path, drop_org_reviews=True, max_chunks=3)"
   ]
  },
  {
   "cell_type": "code",
   "execution_count": 170,
   "metadata": {},
   "outputs": [
    {
     "data": {
      "text/plain": [
       "61018"
      ]
     },
     "execution_count": 170,
     "metadata": {},
     "output_type": "execute_result"
    }
   ],
   "source": [
    "len(user_dict.keys())"
   ]
  },
  {
   "cell_type": "code",
   "execution_count": 12,
   "metadata": {},
   "outputs": [],
   "source": [
    "### remove rows with unformatted title (i.e. some 'title' may still contain html style content)\n",
    "\n",
    "df = df_chunk.fillna('')\n",
    "df = df.drop(['reviewerName', 'style', 'vote', 'image'], axis=1)"
   ]
  },
  {
   "cell_type": "code",
   "execution_count": 13,
   "metadata": {},
   "outputs": [
    {
     "data": {
      "text/plain": [
       "Timestamp('2005-03-30 00:00:00')"
      ]
     },
     "execution_count": 13,
     "metadata": {},
     "output_type": "execute_result"
    }
   ],
   "source": [
    "pd.Timestamp(df['unixReviewTime'].iloc[0], unit='s')"
   ]
  },
  {
   "cell_type": "code",
   "execution_count": 14,
   "metadata": {},
   "outputs": [],
   "source": [
    "df['reviewTime'] = df['unixReviewTime'].apply(lambda x: pd.Timestamp(x, unit='s'))"
   ]
  },
  {
   "cell_type": "code",
   "execution_count": 15,
   "metadata": {},
   "outputs": [],
   "source": [
    "df = df.drop('unixReviewTime', axis=1)\n",
    "df = df.rename(columns={'asin':'itemID'})"
   ]
  },
  {
   "cell_type": "code",
   "execution_count": 16,
   "metadata": {},
   "outputs": [],
   "source": [
    "df['reviewText'] = df['summary'] + \" \" + df['reviewText']\n",
    "df = df.drop('summary', axis=1)"
   ]
  },
  {
   "cell_type": "code",
   "execution_count": 17,
   "metadata": {},
   "outputs": [
    {
     "data": {
      "text/plain": [
       "overall              float64\n",
       "verified                bool\n",
       "reviewTime    datetime64[ns]\n",
       "reviewerID            object\n",
       "itemID                object\n",
       "reviewText            object\n",
       "dtype: object"
      ]
     },
     "execution_count": 17,
     "metadata": {},
     "output_type": "execute_result"
    }
   ],
   "source": [
    "df.dtypes"
   ]
  },
  {
   "cell_type": "code",
   "execution_count": 18,
   "metadata": {},
   "outputs": [],
   "source": [
    "## convert to other (smaller) datatype"
   ]
  },
  {
   "cell_type": "code",
   "execution_count": 19,
   "metadata": {},
   "outputs": [],
   "source": [
    "df['overall'] = df['overall'].astype('int32')"
   ]
  },
  {
   "cell_type": "code",
   "execution_count": 20,
   "metadata": {},
   "outputs": [
    {
     "data": {
      "text/plain": [
       "overall          5\n",
       "verified         2\n",
       "reviewTime    4001\n",
       "reviewerID    8908\n",
       "itemID          88\n",
       "reviewText    9588\n",
       "dtype: int64"
      ]
     },
     "execution_count": 20,
     "metadata": {},
     "output_type": "execute_result"
    }
   ],
   "source": [
    "df.apply(pd.Series.nunique)"
   ]
  },
  {
   "cell_type": "markdown",
   "metadata": {},
   "source": [
    "## User"
   ]
  },
  {
   "cell_type": "code",
   "execution_count": 21,
   "metadata": {},
   "outputs": [
    {
     "name": "stdout",
     "output_type": "stream",
     "text": [
      "Number of unique reviewers: 8908\n"
     ]
    }
   ],
   "source": [
    "print(\"Number of unique reviewers: {}\".format(df['reviewerID'].nunique()))"
   ]
  },
  {
   "cell_type": "code",
   "execution_count": 42,
   "metadata": {},
   "outputs": [],
   "source": [
    "user_dict = {}"
   ]
  },
  {
   "cell_type": "code",
   "execution_count": 58,
   "metadata": {},
   "outputs": [
    {
     "name": "stderr",
     "output_type": "stream",
     "text": [
      "100%|██████████| 8908/8908 [00:22<00:00, 396.97it/s]"
     ]
    },
    {
     "name": "stdout",
     "output_type": "stream",
     "text": [
      "CPU times: user 22.3 s, sys: 128 ms, total: 22.4 s\n",
      "Wall time: 22.4 s\n"
     ]
    },
    {
     "name": "stderr",
     "output_type": "stream",
     "text": [
      "\n"
     ]
    }
   ],
   "source": [
    "%%time\n",
    "u_users = list(df['reviewerID'].unique())\n",
    "for u in tqdm(u_users):\n",
    "    n_re = df[df[\"reviewerID\"] == u][\"itemID\"].count()\n",
    "    if u not in user_dict:\n",
    "        user_dict[u] = {}\n",
    "        user_dict[u]['n_reviews'] = n_re\n",
    "    else:\n",
    "        user_dict[u]['n_reviews'] += n_re"
   ]
  },
  {
   "cell_type": "code",
   "execution_count": 26,
   "metadata": {},
   "outputs": [
    {
     "data": {
      "text/plain": [
       "1"
      ]
     },
     "execution_count": 26,
     "metadata": {},
     "output_type": "execute_result"
    }
   ],
   "source": [
    "df[df[\"reviewerID\"] == 'A1SDAYRVRR62ZH']['itemID'].count()"
   ]
  },
  {
   "cell_type": "code",
   "execution_count": 27,
   "metadata": {},
   "outputs": [],
   "source": [
    "#plt.hist(user_dict.values()['n_reviews'], bins=[1,2,4,6,10])"
   ]
  },
  {
   "cell_type": "markdown",
   "metadata": {},
   "source": [
    "## Items"
   ]
  },
  {
   "cell_type": "code",
   "execution_count": 29,
   "metadata": {},
   "outputs": [],
   "source": [
    "#for name, val in df.groupby(\"itemID\")['reviewerID']:\n",
    "    #print(name + \" \" + str(val.count()))"
   ]
  },
  {
   "cell_type": "code",
   "execution_count": 30,
   "metadata": {},
   "outputs": [
    {
     "data": {
      "text/plain": [
       "itemID\n",
       "0001844423    2753\n",
       "0002005549     778\n",
       "0001720392     774\n",
       "0001951076     681\n",
       "0002051850     603\n",
       "0001945424     556\n",
       "0001384198     451\n",
       "0001381733     317\n",
       "0002180618     302\n",
       "0002008599     210\n",
       "Name: reviewerID, dtype: int64"
      ]
     },
     "execution_count": 30,
     "metadata": {},
     "output_type": "execute_result"
    }
   ],
   "source": [
    "df.groupby(\"itemID\")['reviewerID'].count().sort_values(ascending=False).head(10)"
   ]
  },
  {
   "cell_type": "code",
   "execution_count": 31,
   "metadata": {},
   "outputs": [
    {
     "data": {
      "text/plain": [
       "Text(0.5, 1.0, 'Reviews per Item')"
      ]
     },
     "execution_count": 31,
     "metadata": {},
     "output_type": "execute_result"
    },
    {
     "data": {
      "image/png": "[encoded data removed]",
      "text/plain": [
       "<Figure size 432x288 with 1 Axes>"
      ]
     },
     "metadata": {
      "needs_background": "light"
     },
     "output_type": "display_data"
    }
   ],
   "source": [
    "plt.hist(df.groupby(\"itemID\")['reviewerID'].count())\n",
    "plt.title(\"Reviews per Item\")\n",
    "#plt.xaxis(\"# Reviews\")"
   ]
  },
  {
   "cell_type": "code",
   "execution_count": 32,
   "metadata": {},
   "outputs": [
    {
     "name": "stdout",
     "output_type": "stream",
     "text": [
      "Mean: 4.50\n",
      "Median: 5.0\n"
     ]
    },
    {
     "data": {
      "image/png": "[encoded data removed]",
      "text/plain": [
       "<Figure size 432x288 with 1 Axes>"
      ]
     },
     "metadata": {
      "needs_background": "light"
     },
     "output_type": "display_data"
    }
   ],
   "source": [
    "hist = plt.hist(df['overall'], bins=[1,2,3,4,5,6], density=True)\n",
    "plt.title('Ratings')\n",
    "print(\"Mean: %.2f\" % df['overall'].mean())\n",
    "print(\"Median: %.1f\" % df['overall'].median())"
   ]
  },
  {
   "cell_type": "markdown",
   "metadata": {},
   "source": [
    "## Content"
   ]
  },
  {
   "cell_type": "code",
   "execution_count": 33,
   "metadata": {},
   "outputs": [],
   "source": [
    "# tokenise content"
   ]
  },
  {
   "cell_type": "code",
   "execution_count": 34,
   "metadata": {},
   "outputs": [
    {
     "name": "stdout",
     "output_type": "stream",
     "text": [
      "477\n",
      "Maybe It's Not As Bad As You Think So, you think you have problems? Things could be worse and this clever book can prove it. The king starts out with a problem. The mice are eating his cheese. The more he tries to fix the problem, the worse it gets. The king finally arranges to bring back the mice when he comes to the realization that his original dilemma  wasn't so intolerable after all. The solution requires cooperation from the king and the mice. It involves the cheese.\n"
     ]
    }
   ],
   "source": [
    "row = 10 \n",
    "\n",
    "sent = df['reviewText'].iloc[row]\n",
    "\n",
    "print(len(sent))\n",
    "print(sent)"
   ]
  },
  {
   "cell_type": "code",
   "execution_count": 35,
   "metadata": {},
   "outputs": [
    {
     "data": {
      "text/plain": [
       "[\"Maybe It's Not As Bad As You Think So, you think you have problems?\",\n",
       " 'Things could be worse and this clever book can prove it.',\n",
       " 'The king starts out with a problem.',\n",
       " 'The mice are eating his cheese.',\n",
       " 'The more he tries to fix the problem, the worse it gets.',\n",
       " \"The king finally arranges to bring back the mice when he comes to the realization that his original dilemma  wasn't so intolerable after all.\",\n",
       " 'The solution requires cooperation from the king and the mice.',\n",
       " 'It involves the cheese.']"
      ]
     },
     "execution_count": 35,
     "metadata": {},
     "output_type": "execute_result"
    }
   ],
   "source": [
    "stop_words = list(set(stopwords.words('english')))\n",
    "sent_tokenize(sent)"
   ]
  },
  {
   "cell_type": "code",
   "execution_count": 36,
   "metadata": {},
   "outputs": [
    {
     "name": "stdout",
     "output_type": "stream",
     "text": [
      "88\n"
     ]
    }
   ],
   "source": [
    "#tokenise, punctuation, lower-case\n",
    "tokens = [word.lower() for sent in sent_tokenize(sent) for word in word_tokenize(sent) if word.isalpha()]\n",
    "\n",
    "#filter stop words\n",
    "#tokens = [word for word in tokens if word not in stop_words]\n",
    "\n",
    "print(len(tokens))"
   ]
  },
  {
   "cell_type": "code",
   "execution_count": 37,
   "metadata": {},
   "outputs": [
    {
     "data": {
      "text/plain": [
       "'mayb it not as bad as you think so you think you have problem thing could be wors and thi clever book can prove it the king start out with a problem the mice are eat hi chees the more he tri to fix the problem the wors it get the king final arrang to bring back the mice when he come to the realiz that hi origin dilemma wa so intoler after all the solut requir cooper from the king and the mice it involv the chees'"
      ]
     },
     "execution_count": 37,
     "metadata": {},
     "output_type": "execute_result"
    }
   ],
   "source": [
    "#stemming?\n",
    "stemmer = PorterStemmer()\n",
    "stemmed = [stemmer.stem(token) for token in tokens]\n",
    "\" \".join(stemmed)"
   ]
  },
  {
   "cell_type": "code",
   "execution_count": 38,
   "metadata": {},
   "outputs": [
    {
     "data": {
      "text/plain": [
       "overall       5\n",
       "verified      5\n",
       "reviewTime    5\n",
       "reviewerID    5\n",
       "itemID        5\n",
       "reviewText    5\n",
       "dtype: int64"
      ]
     },
     "execution_count": 38,
     "metadata": {},
     "output_type": "execute_result"
    }
   ],
   "source": [
    "review_length = df['reviewText'].apply(lambda x: len(x))\n",
    "df[df['reviewText'].apply(lambda x: len(x)) < 10].count()\n",
    "\n",
    "#plt.hist(review_length)"
   ]
  },
  {
   "cell_type": "code",
   "execution_count": 41,
   "metadata": {},
   "outputs": [
    {
     "name": "stdout",
     "output_type": "stream",
     "text": [
      "CPU times: user 12.9 s, sys: 109 ms, total: 13.1 s\n",
      "Wall time: 13.2 s\n"
     ]
    }
   ],
   "source": [
    "%%time\n",
    "#if 'cleanedText' not in df.columns:\n",
    "df['cleanedText'] = df['reviewText'].apply(lambda x: clean_text(x))\n",
    "df['reviewWords'] = df['cleanedText'].apply(lambda x: len(x.split()))"
   ]
  },
  {
   "cell_type": "code",
   "execution_count": 293,
   "metadata": {},
   "outputs": [
    {
     "data": {
      "text/plain": [
       "overall        6\n",
       "verified       6\n",
       "reviewTime     6\n",
       "reviewerID     6\n",
       "itemID         6\n",
       "reviewText     6\n",
       "cleanedText    6\n",
       "dtype: int64"
      ]
     },
     "execution_count": 293,
     "metadata": {},
     "output_type": "execute_result"
    }
   ],
   "source": [
    "df[df['cleanedText'].apply(lambda x: len(x)) < 10].count()"
   ]
  },
  {
   "cell_type": "code",
   "execution_count": 335,
   "metadata": {},
   "outputs": [
    {
     "data": {
      "text/plain": [
       "overall        3\n",
       "verified       3\n",
       "reviewTime     3\n",
       "reviewerID     3\n",
       "itemID         3\n",
       "reviewText     3\n",
       "cleanedText    3\n",
       "dtype: int64"
      ]
     },
     "execution_count": 335,
     "metadata": {},
     "output_type": "execute_result"
    }
   ],
   "source": [
    "df[df['cleanedText'].apply(lambda x: len(x)) < 1].count()"
   ]
  },
  {
   "cell_type": "code",
   "execution_count": 344,
   "metadata": {},
   "outputs": [
    {
     "data": {
      "text/html": [
       "<div>\n",
       "<style scoped>\n",
       "    .dataframe tbody tr th:only-of-type {\n",
       "        vertical-align: middle;\n",
       "    }\n",
       "\n",
       "    .dataframe tbody tr th {\n",
       "        vertical-align: top;\n",
       "    }\n",
       "\n",
       "    .dataframe thead th {\n",
       "        text-align: right;\n",
       "    }\n",
       "</style>\n",
       "<table border=\"1\" class=\"dataframe\">\n",
       "  <thead>\n",
       "    <tr style=\"text-align: right;\">\n",
       "      <th></th>\n",
       "      <th>overall</th>\n",
       "      <th>verified</th>\n",
       "      <th>reviewTime</th>\n",
       "      <th>reviewerID</th>\n",
       "      <th>itemID</th>\n",
       "      <th>reviewText</th>\n",
       "      <th>cleanedText</th>\n",
       "      <th>reviewWords</th>\n",
       "    </tr>\n",
       "  </thead>\n",
       "  <tbody>\n",
       "    <tr>\n",
       "      <th>4813</th>\n",
       "      <td>5</td>\n",
       "      <td>True</td>\n",
       "      <td>2017-08-30</td>\n",
       "      <td>A18WUVMHPTVYQ8</td>\n",
       "      <td>0001844423</td>\n",
       "      <td>100% 100%</td>\n",
       "      <td></td>\n",
       "      <td>0</td>\n",
       "    </tr>\n",
       "    <tr>\n",
       "      <th>4982</th>\n",
       "      <td>5</td>\n",
       "      <td>True</td>\n",
       "      <td>2016-12-29</td>\n",
       "      <td>A197527ILE0LL8</td>\n",
       "      <td>0001844423</td>\n",
       "      <td>5stars 5stars</td>\n",
       "      <td></td>\n",
       "      <td>0</td>\n",
       "    </tr>\n",
       "    <tr>\n",
       "      <th>9967</th>\n",
       "      <td>5</td>\n",
       "      <td>False</td>\n",
       "      <td>2016-06-20</td>\n",
       "      <td>A2PU9Z67Q8VRRM</td>\n",
       "      <td>0001713256</td>\n",
       "      <td>A+ A+</td>\n",
       "      <td></td>\n",
       "      <td>0</td>\n",
       "    </tr>\n",
       "  </tbody>\n",
       "</table>\n",
       "</div>"
      ],
      "text/plain": [
       "      overall  verified reviewTime      reviewerID      itemID     reviewText  \\\n",
       "4813        5      True 2017-08-30  A18WUVMHPTVYQ8  0001844423      100% 100%   \n",
       "4982        5      True 2016-12-29  A197527ILE0LL8  0001844423  5stars 5stars   \n",
       "9967        5     False 2016-06-20  A2PU9Z67Q8VRRM  0001713256          A+ A+   \n",
       "\n",
       "     cleanedText  reviewWords  \n",
       "4813                        0  \n",
       "4982                        0  \n",
       "9967                        0  "
      ]
     },
     "execution_count": 344,
     "metadata": {},
     "output_type": "execute_result"
    }
   ],
   "source": [
    "df[df['cleanedText'].apply(lambda x: len(x)) < 1]"
   ]
  },
  {
   "cell_type": "code",
   "execution_count": 340,
   "metadata": {},
   "outputs": [],
   "source": [
    "#df['reviewWords'] = df['cleanedText'].apply(lambda x: len(x.split()))"
   ]
  },
  {
   "cell_type": "code",
   "execution_count": 341,
   "metadata": {},
   "outputs": [
    {
     "data": {
      "text/plain": [
       "6405    4855\n",
       "7395    2882\n",
       "6406    2823\n",
       "6407    2451\n",
       "5936    2113\n",
       "7034    2010\n",
       "6408    1962\n",
       "8429    1874\n",
       "5230    1866\n",
       "6804    1637\n",
       "Name: reviewWords, dtype: int64"
      ]
     },
     "execution_count": 341,
     "metadata": {},
     "output_type": "execute_result"
    }
   ],
   "source": [
    "df['reviewWords'].sort_values(ascending=False).head(10)"
   ]
  },
  {
   "cell_type": "code",
   "execution_count": 145,
   "metadata": {},
   "outputs": [
    {
     "data": {
      "text/plain": [
       "'\\ntokeniser = BertTokenizer.from_pretrained(\\'bert-base-uncased\\')\\nprint(tokeniser.convert_tokens_to_ids(tokeniser.tokenize(\"Let\\'s see all hidden-states and attentions on this text\")))\\n'"
      ]
     },
     "execution_count": 145,
     "metadata": {},
     "output_type": "execute_result"
    }
   ],
   "source": [
    "'''\n",
    "tokeniser = BertTokenizer.from_pretrained('bert-base-uncased')\n",
    "print(tokeniser.convert_tokens_to_ids(tokeniser.tokenize(\"Let's see all hidden-states and attentions on this text\")))\n",
    "'''\n"
   ]
  },
  {
   "cell_type": "code",
   "execution_count": 113,
   "metadata": {},
   "outputs": [],
   "source": [
    "user_dict = {}"
   ]
  },
  {
   "cell_type": "code",
   "execution_count": 114,
   "metadata": {},
   "outputs": [
    {
     "name": "stderr",
     "output_type": "stream",
     "text": [
      "100%|██████████| 8908/8908 [00:06<00:00, 1376.91it/s]"
     ]
    },
    {
     "name": "stdout",
     "output_type": "stream",
     "text": [
      "Added: 8908\n",
      "Updated: 0\n",
      "Total users: 8908\n",
      "CPU times: user 6.81 s, sys: 63.9 ms, total: 6.87 s\n",
      "Wall time: 6.83 s\n"
     ]
    },
    {
     "name": "stderr",
     "output_type": "stream",
     "text": [
      "\n"
     ]
    }
   ],
   "source": [
    "%%time\n",
    "\n",
    "added = 0\n",
    "updated = 0\n",
    "\n",
    "for u, group in tqdm(df.groupby('reviewerID')):\n",
    "    #print(u)\n",
    "    \n",
    "    if u not in user_dict:\n",
    "        user_dict[u] = {}\n",
    "        user_dict[u]['n_reviews'] = group['itemID'].count()\n",
    "        user_dict[u]['m_rating'] = group['overall'].mean()\n",
    "        user_dict[u]['m_words'] = group['reviewWords'].mean()\n",
    "        added+=1\n",
    "    else:\n",
    "        user_dict[u]['n_reviews'] += group['itemID'].count()\n",
    "        user_dict[u]['m_rating'] = np.mean([user_dict[u]['m_rating'], group['overall'].mean()])\n",
    "        user_dict[u]['m_words'] = np.mean([user_dict[u]['m_words'], group['reviewWords'].mean()])\n",
    "        updated+=1\n",
    "\n",
    "print(\"Added: %.0f\" % added)\n",
    "print(\"Updated: %.0f\" % updated)\n",
    "print(\"Total users: %.0f\" % len(user_dict.keys()))"
   ]
  },
  {
   "cell_type": "code",
   "execution_count": 95,
   "metadata": {},
   "outputs": [
    {
     "data": {
      "text/plain": [
       "(array([7.969e+03, 6.780e+02, 1.750e+02, 4.800e+01, 2.200e+01, 8.000e+00,\n",
       "        1.000e+00, 4.000e+00, 0.000e+00, 3.000e+00]),\n",
       " array([   0.        ,  208.07777778,  416.15555556,  624.23333333,\n",
       "         832.31111111, 1040.38888889, 1248.46666667, 1456.54444444,\n",
       "        1664.62222222, 1872.7       , 2080.77777778]),\n",
       " <a list of 10 Patch objects>)"
      ]
     },
     "execution_count": 95,
     "metadata": {},
     "output_type": "execute_result"
    },
    {
     "data": {
      "image/png": "[encoded data removed]",
      "text/plain": [
       "<Figure size 432x288 with 1 Axes>"
      ]
     },
     "metadata": {
      "needs_background": "light"
     },
     "output_type": "display_data"
    }
   ],
   "source": [
    "n_reviews_data = []\n",
    "m_words_data = []\n",
    "\n",
    "\n",
    "for u, values in user_dict.items():\n",
    "    n_reviews_data.append(values['n_reviews'])\n",
    "    m_words_data.append(values['m_words'])\n",
    "    \n",
    "#plt.hist(n_reviews_data)\n",
    "plt.hist(m_words_data)"
   ]
  },
  {
   "cell_type": "code",
   "execution_count": 96,
   "metadata": {},
   "outputs": [],
   "source": [
    "# TODO: plot distributions in with meaningful bin sizes/intervals, e.g. 1-2, 3-4, 5-7, >8"
   ]
  },
  {
   "cell_type": "code",
   "execution_count": 98,
   "metadata": {},
   "outputs": [],
   "source": [
    "item_dict = {}"
   ]
  },
  {
   "cell_type": "code",
   "execution_count": 110,
   "metadata": {},
   "outputs": [
    {
     "name": "stderr",
     "output_type": "stream",
     "text": [
      "100%|██████████| 88/88 [00:00<00:00, 803.26it/s]"
     ]
    },
    {
     "name": "stdout",
     "output_type": "stream",
     "text": [
      "CPU times: user 124 ms, sys: 0 ns, total: 124 ms\n",
      "Wall time: 124 ms\n"
     ]
    },
    {
     "name": "stderr",
     "output_type": "stream",
     "text": [
      "\n"
     ]
    },
    {
     "data": {
      "text/plain": [
       "89"
      ]
     },
     "execution_count": 110,
     "metadata": {},
     "output_type": "execute_result"
    }
   ],
   "source": [
    "%%time\n",
    "\n",
    "for item, group in tqdm(df.groupby('itemID')):\n",
    "    #print(item)\n",
    "    \n",
    "    if item not in item_dict:\n",
    "        item_dict[item] = {}\n",
    "        item_dict[item]['n_reviews'] = group['reviewerID'].count()\n",
    "        item_dict[item]['m_rating'] = group['overall'].mean()\n",
    "        item_dict[item]['m_words'] = group['reviewWords'].mean()\n",
    "    else:\n",
    "        item_dict[item]['n_reviews'] += group['reviewerID'].count()\n",
    "        item_dict[item]['m_rating'] = np.mean([item_dict[item]['m_rating'], group['overall'].mean()])\n",
    "        item_dict[item]['m_words'] = np.mean([item_dict[item]['m_words'], group['reviewWords'].mean()])\n",
    "\n",
    "        \n",
    "len(item_dict.keys())"
   ]
  },
  {
   "cell_type": "code",
   "execution_count": 109,
   "metadata": {},
   "outputs": [
    {
     "name": "stdout",
     "output_type": "stream",
     "text": [
      "Mean: 100.0\n",
      "Median: 80.7\n"
     ]
    },
    {
     "data": {
      "image/png": "[encoded data removed]",
      "text/plain": [
       "<Figure size 432x288 with 1 Axes>"
      ]
     },
     "metadata": {
      "needs_background": "light"
     },
     "output_type": "display_data"
    }
   ],
   "source": [
    "n_reviews_data = []\n",
    "m_words_data = []\n",
    "\n",
    "\n",
    "for u, values in item_dict.items():\n",
    "    n_reviews_data.append(values['n_reviews'])\n",
    "    m_words_data.append(values['m_words'])\n",
    "    \n",
    "#plt.hist(n_reviews_data)\n",
    "plt.hist(m_words_data, density=True)\n",
    "print(\"Mean: %.1f\" % np.mean(m_words_data))\n",
    "print(\"Median: %.1f\" %np.median(m_words_data))"
   ]
  },
  {
   "cell_type": "code",
   "execution_count": null,
   "metadata": {},
   "outputs": [],
   "source": []
  }
 ],
 "metadata": {
  "kernelspec": {
   "display_name": ".venv-mt",
   "language": "python",
   "name": ".venv-mt"
  },
  "language_info": {
   "codemirror_mode": {
    "name": "ipython",
    "version": 3
   },
   "file_extension": ".py",
   "mimetype": "text/x-python",
   "name": "python",
   "nbconvert_exporter": "python",
   "pygments_lexer": "ipython3",
   "version": "3.7.3"
  }
 },
 "nbformat": 4,
 "nbformat_minor": 2
}
