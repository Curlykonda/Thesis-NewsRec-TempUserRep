{
 "cells": [
  {
   "cell_type": "code",
   "execution_count": 2,
   "metadata": {},
   "outputs": [],
   "source": [
    "import os\n",
    "import json\n",
    "import gzip\n",
    "import pickle\n",
    "import numpy as np\n",
    "import glob\n",
    "\n",
    "import pandas as pd\n",
    "from urllib.request import urlopen\n",
    "import matplotlib.pyplot as plt\n",
    "from datetime import datetime\n",
    "from collections import defaultdict\n",
    "from tqdm import tqdm\n",
    "\n",
    "import nltk\n",
    "from nltk.tokenize import word_tokenize, sent_tokenize\n",
    "from nltk.corpus import stopwords\n",
    "from nltk.stem.porter import PorterStemmer\n",
    "\n",
    "#nltk.download()\n",
    "#nltk.download('stopwords')\n",
    "#nltk.download('punkt')\n",
    "\n",
    "\n",
    "#import more_itertools as mit\n",
    "#from keras.preprocessing.sequence import pad_sequences\n",
    "\n",
    "\n",
    "import torch\n",
    "#from pytorch_pretrained_bert import BertTokenizer, BertModel\n",
    "from transformers import BertTokenizer, BertModel, BertForSequenceClassification\n",
    "from torch.utils.data import DataLoader, Dataset"
   ]
  },
  {
   "cell_type": "code",
   "execution_count": 3,
   "metadata": {},
   "outputs": [],
   "source": [
    "bert_loaded = False"
   ]
  },
  {
   "cell_type": "code",
   "execution_count": 4,
   "metadata": {},
   "outputs": [
    {
     "name": "stdout",
     "output_type": "stream",
     "text": [
      "30522\n",
      "CPU times: user 2.16 s, sys: 500 ms, total: 2.66 s\n",
      "Wall time: 9.7 s\n"
     ]
    }
   ],
   "source": [
    "%%time\n",
    "\n",
    "if not bert_loaded:\n",
    "    bert_tokenizer = BertTokenizer.from_pretrained('bert-base-uncased')\n",
    "    bert_tokenizer.add_special_tokens({\"unk_token\": '[UNK]', 'cls_token': '[CLS]', \n",
    "                                       'pad_token':'[PAD]', 'sep_token':'[SEP]'})\n",
    "    print(len(bert_tokenizer))\n",
    "    assert bert_tokenizer.cls_token == '[CLS]'\n",
    "    bert_tokenizer.sep_token_id\n",
    "    \n",
    "    bert_model = BertModel.from_pretrained('bert-base-uncased', output_hidden_states=True,\n",
    "                                            output_attentions=True)\n",
    "    bert_model.resize_token_embeddings(len(bert_tokenizer))\n",
    "    \n",
    "    bert_loaded = True"
   ]
  },
  {
   "cell_type": "code",
   "execution_count": 5,
   "metadata": {},
   "outputs": [],
   "source": [
    "def parse(path, chunk_size=20000):\n",
    "    i = 0\n",
    "    with gzip.open(path, 'rb') as f:\n",
    "        for l in f:\n",
    "            yield json.loads(l.strip())\n",
    "            i+=1\n",
    "            if i == chunk_size:\n",
    "                break\n",
    "def parse2(f):\n",
    "    for l in f:\n",
    "        yield json.loads(l.strip())        \n",
    "            \n",
    "def getDF(path, chunk_size):\n",
    "    i = 0\n",
    "    df = {}\n",
    "    for d in parse(path, chunk_size):\n",
    "        df[i] = d\n",
    "        i += 1\n",
    "    return pd.DataFrame.from_dict(df, orient='index')\n",
    "\n",
    "def getDF_chunks(path, chunk_size, pkl_path, max_chunks=4):\n",
    "    i = 0\n",
    "    df = {}\n",
    "    df_chunks = 0\n",
    "    with gzip.open(path, 'rb') as f:\n",
    "        for d in parse2(f):\n",
    "            df[i] = d\n",
    "            i+=1\n",
    "            \n",
    "            if i == chunk_size:\n",
    "                df = pd.DataFrame.from_dict(df, orient='index')\n",
    "                #preprocessing(df)\n",
    "                df.to_pickle(pkl_path + \"df\" + str(df_chunks) +\".pkl\")\n",
    "                df = {}\n",
    "                i = 0\n",
    "                df_chunks +=1\n",
    "    return df_chunks, i"
   ]
  },
  {
   "cell_type": "code",
   "execution_count": 6,
   "metadata": {},
   "outputs": [
    {
     "data": {
      "text/plain": [
       "'\\n!wget http://deepyeti.ucsd.edu/jianmo/amazon/sample/meta_Computers.json.gz\\ndf = getDF(\\'meta_Computers.json.gz\\')\\nlen(df)\\n### remove rows with unformatted title (i.e. some \\'title\\' may still contain html style content)\\n\\ndf3 = df.fillna(\\'\\')\\ndf4 = df3[df3.title.str.contains(\\'getTime\\')] # unformatted rows\\ndf5 = df3[~df3.title.str.contains(\\'getTime\\')] # filter those unformatted rows\\nprint(\"Unformatted rows: {} ({:.2f}%)\".format(len(df4), len(df4)/len(df3)*100))\\nprint(\"Remaining rows: {}\".format(len(df5)))\\n\\n'"
      ]
     },
     "execution_count": 6,
     "metadata": {},
     "output_type": "execute_result"
    }
   ],
   "source": [
    "'''\n",
    "!wget http://deepyeti.ucsd.edu/jianmo/amazon/sample/meta_Computers.json.gz\n",
    "df = getDF('meta_Computers.json.gz')\n",
    "len(df)\n",
    "### remove rows with unformatted title (i.e. some 'title' may still contain html style content)\n",
    "\n",
    "df3 = df.fillna('')\n",
    "df4 = df3[df3.title.str.contains('getTime')] # unformatted rows\n",
    "df5 = df3[~df3.title.str.contains('getTime')] # filter those unformatted rows\n",
    "print(\"Unformatted rows: {} ({:.2f}%)\".format(len(df4), len(df4)/len(df3)*100))\n",
    "print(\"Remaining rows: {}\".format(len(df5)))\n",
    "\n",
    "'''"
   ]
  },
  {
   "cell_type": "code",
   "execution_count": 7,
   "metadata": {},
   "outputs": [
    {
     "data": {
      "text/plain": [
       "['meta_Computers.json.gz',\n",
       " 'Electronics_5.json.gz',\n",
       " 'Books_5.json.gz',\n",
       " 'one_week.tar.gz',\n",
       " 'contentdata.tar.gz',\n",
       " 'books-pickle']"
      ]
     },
     "execution_count": 7,
     "metadata": {},
     "output_type": "execute_result"
    }
   ],
   "source": [
    "os.listdir('../datasets')"
   ]
  },
  {
   "cell_type": "code",
   "execution_count": 56,
   "metadata": {},
   "outputs": [],
   "source": [
    "def clean_text2(sent, remove_stop_word=False, stemming=False, stemmer=None):\n",
    "    stop_words = list(set(stopwords.words('english')))\n",
    "    #tokenise, punctuation, lower-case\n",
    "    tokens = [word.lower() for sent in sent_tokenize(sent) for word in word_tokenize(sent) if word.isalpha()]\n",
    "    \n",
    "    if remove_stop_word:\n",
    "        #filter stop words\n",
    "        tokens = [word for word in tokens if word not in stop_words]\n",
    "    \n",
    "    if stemming:\n",
    "        tokens = [stemmer.stem(token) for token in tokens]\n",
    "        \n",
    "    #locating and correcting common typos & misspellings\n",
    "        \n",
    "    return \" \".join(tokens)\n",
    "\n",
    "def clean_text(sent, tokenizer, stop_words=None, stemmer=None):\n",
    "\n",
    "    # tokenise & punctuation\n",
    "    tokens = [word for word in tokenizer.tokenize(sent) if word.isalpha()]\n",
    "\n",
    "    if not stop_words == None:\n",
    "        #stop_words = list(set(stopwords.words('english')))\n",
    "        # filter stop words\n",
    "        tokens = [word for word in tokens if word not in stop_words]\n",
    "\n",
    "    if not stemmer == None:\n",
    "        tokens = [stemmer.stem(token) for token in tokens]\n",
    "\n",
    "    # locating and correcting common typos & misspellings\n",
    "\n",
    "    return tokens\n",
    "\n",
    "\n",
    "def clean_df(df, drop_org_reviews=False):\n",
    "    ### remove rows with unformatted title (i.e. some 'title' may still contain html style content)\n",
    "\n",
    "    df = df.fillna('')\n",
    "    df = df.drop(['reviewerName', 'style', 'vote', 'image'], axis=1)\n",
    "    \n",
    "    #reformat timestamp\n",
    "    df['reviewTime'] = df['unixReviewTime'].apply(lambda x: pd.Timestamp(x, unit='s'))\n",
    "    df = df.drop('unixReviewTime', axis=1)\n",
    "    \n",
    "    #rename columns\n",
    "    df = df.rename(columns={'asin':'itemID'})\n",
    "    \n",
    "    #aggregate text\n",
    "    df['reviewText'] = df['summary'] + \" \" + df['reviewText']\n",
    "    df = df.drop('summary', axis=1)\n",
    "    \n",
    "    ## convert to other (smaller) datatype\n",
    "    df['overall'] = df['overall'].astype('int32')\n",
    "    \n",
    "    #clean text\n",
    "    if 'cleanedText' not in df.columns:\n",
    "        print(\"Cleaning Text..\")\n",
    "        df['reviewWords'] = df['reviewText'].apply(lambda x: len(clean_text(x, bert_tokenizer)))\n",
    "        if drop_org_reviews:\n",
    "            df = df.drop('reviewText', axis=1)\n",
    "        \n",
    "    return df\n",
    "\n",
    "def aggregate_info(df, user_d, items_d):\n",
    "    \n",
    "    added = 0\n",
    "    updated = 0\n",
    "    \n",
    "    print(\"Aggregating User Stats..\")\n",
    "    for u, group in tqdm(df.groupby('reviewerID')):\n",
    "        \n",
    "        if u not in user_d:\n",
    "            user_d[u] = {}\n",
    "            user_d[u]['n_reviews'] = group['itemID'].count()\n",
    "            user_d[u]['m_rating'] = group['overall'].mean()\n",
    "            user_d[u]['m_words'] = group['reviewWords'].mean()\n",
    "            added+=1\n",
    "        else:\n",
    "            user_d[u]['n_reviews'] += group['itemID'].count()\n",
    "            user_d[u]['m_rating'] = np.mean([user_d[u]['m_rating'], group['overall'].mean()])\n",
    "            user_d[u]['m_words'] = np.mean([user_d[u]['m_words'], group['reviewWords'].mean()])\n",
    "            updated+=1\n",
    "\n",
    "    print(\"Total users: %.0f\" % len(user_d.keys()))\n",
    "    print(\"Added: %.0f\" % added)\n",
    "    print(\"Updated: %.0f\" % updated)\n",
    "     \n",
    "                \n",
    "    #count reviews per item\n",
    "    added = 0\n",
    "    updated = 0\n",
    "    \n",
    "    print(\"Aggregating Item Stats..\")\n",
    "    for item, group in tqdm(df.groupby('itemID')):\n",
    "    \n",
    "        if item not in items_d:\n",
    "            items_d[item] = {}\n",
    "            items_d[item]['n_reviews'] = group['reviewerID'].count()\n",
    "            items_d[item]['m_rating'] = group['overall'].mean()\n",
    "            items_d[item]['m_words'] = group['reviewWords'].mean()\n",
    "            added+=1\n",
    "        else:\n",
    "            items_d[item]['n_reviews'] += group['reviewerID'].count()\n",
    "            items_d[item]['m_rating'] = np.mean([items_d[item]['m_rating'], group['overall'].mean()])\n",
    "            items_d[item]['m_words'] = np.mean([items_d[item]['m_words'], group['reviewWords'].mean()])\n",
    "            updated+=1\n",
    "    \n",
    "    print(\"Total items: %.0f\" % len(items_d.keys()))\n",
    "    print(\"Added: %.0f\" % added)\n",
    "    print(\"Updated: %.0f\" % updated)  \n",
    "    \n",
    "    return user_d, items_d\n",
    "\n",
    "\n",
    "def preprocessDF_chunks(path, chunk_size, pkl_path, drop_org_reviews=False, max_chunks=4):\n",
    "    i = 0\n",
    "    data = {}\n",
    "    n_chunks = 0\n",
    "    \n",
    "    #aggreated info\n",
    "    user_dict = {}\n",
    "    item_dict = {}\n",
    "    \n",
    "    with gzip.open(path, 'rb') as f:\n",
    "        print(\"Start reading: {}\".format(path))\n",
    "        for d in parse2(f):\n",
    "            data[i] = d\n",
    "            i+=1\n",
    "            \n",
    "            #if i == 10:\n",
    "            #    print(d)\n",
    "            \n",
    "            if i == chunk_size:\n",
    "                print(\"Processing Chunk {}\".format(n_chunks))\n",
    "                \n",
    "                #print(list(data.items())[:2])\n",
    "                \n",
    "                df = pd.DataFrame.from_dict(data, orient='index')\n",
    "                #preprocessing\n",
    "                df = clean_df(df, drop_org_reviews)\n",
    "                \n",
    "                #aggregate info\n",
    "                user_dict, item_dict = aggregate_info(df, user_dict, item_dict)\n",
    "                \n",
    "                #save cleaned dataframe\n",
    "                df.to_pickle(pkl_path + \"df\" + str(n_chunks) +\".pkl\")\n",
    "                \n",
    "                #save stats\n",
    "                with open(pkl_path + \"user_stats.pkl\", 'wb') as fout:\n",
    "                    pickle.dump(user_dict, fout)\n",
    "                with open(pkl_path + \"item_stats.pkl\", 'wb') as fout:\n",
    "                    pickle.dump(item_dict, fout)\n",
    "                \n",
    "                i = 0\n",
    "                data = {}\n",
    "                n_chunks +=1\n",
    "                print(\"\\n\")\n",
    "                \n",
    "            if max_chunks < n_chunks:\n",
    "                break\n",
    "                \n",
    "    return n_chunks, i, user_dict, item_dict"
   ]
  },
  {
   "cell_type": "code",
   "execution_count": 57,
   "metadata": {},
   "outputs": [
    {
     "data": {
      "text/plain": [
       "['df2.pkl',\n",
       " 'item_stats.pkl',\n",
       " 'df3.pkl',\n",
       " 'df0.pkl',\n",
       " 'df1.pkl',\n",
       " 'user_stats.pkl',\n",
       " 'df.pkl',\n",
       " 'encoded_text.pkl']"
      ]
     },
     "execution_count": 57,
     "metadata": {},
     "output_type": "execute_result"
    }
   ],
   "source": [
    "(dirpath, dirnames, filenames) = next(os.walk('../datasets/books-pickle/'), (None, None, []))\n",
    "filenames"
   ]
  },
  {
   "cell_type": "code",
   "execution_count": 58,
   "metadata": {},
   "outputs": [
    {
     "name": "stdout",
     "output_type": "stream",
     "text": [
      "Start reading: ../datasets/Books_5.json.gz\n",
      "Processing Chunk 0\n",
      "Cleaning Text..\n",
      "Aggregating User Stats..\n"
     ]
    },
    {
     "name": "stderr",
     "output_type": "stream",
     "text": [
      "100%|██████████| 17720/17720 [00:12<00:00, 1408.08it/s]\n",
      "100%|██████████| 160/160 [00:00<00:00, 1167.40it/s]\n"
     ]
    },
    {
     "name": "stdout",
     "output_type": "stream",
     "text": [
      "Total users: 17720\n",
      "Added: 17720\n",
      "Updated: 0\n",
      "Aggregating Item Stats..\n",
      "Total items: 160\n",
      "Added: 160\n",
      "Updated: 0\n",
      "\n",
      "\n",
      "Processing Chunk 1\n",
      "Cleaning Text..\n",
      "Aggregating User Stats..\n"
     ]
    },
    {
     "name": "stderr",
     "output_type": "stream",
     "text": [
      "100%|██████████| 16818/16818 [00:11<00:00, 1453.64it/s]\n",
      "100%|██████████| 122/122 [00:00<00:00, 1310.53it/s]\n"
     ]
    },
    {
     "name": "stdout",
     "output_type": "stream",
     "text": [
      "Total users: 31920\n",
      "Added: 14200\n",
      "Updated: 2618\n",
      "Aggregating Item Stats..\n",
      "Total items: 278\n",
      "Added: 118\n",
      "Updated: 4\n",
      "\n",
      "\n",
      "Processing Chunk 2\n",
      "Cleaning Text..\n",
      "Aggregating User Stats..\n"
     ]
    },
    {
     "name": "stderr",
     "output_type": "stream",
     "text": [
      "100%|██████████| 18337/18337 [00:12<00:00, 1463.60it/s]\n",
      "100%|██████████| 144/144 [00:00<00:00, 1467.33it/s]\n"
     ]
    },
    {
     "name": "stdout",
     "output_type": "stream",
     "text": [
      "Total users: 47970\n",
      "Added: 16050\n",
      "Updated: 2287\n",
      "Aggregating Item Stats..\n",
      "Total items: 421\n",
      "Added: 143\n",
      "Updated: 1\n",
      "\n",
      "\n",
      "Processing Chunk 3\n",
      "Cleaning Text..\n",
      "Aggregating User Stats..\n"
     ]
    },
    {
     "name": "stderr",
     "output_type": "stream",
     "text": [
      "100%|██████████| 17539/17539 [00:12<00:00, 1363.31it/s]\n",
      "100%|██████████| 240/240 [00:00<00:00, 1410.71it/s]\n"
     ]
    },
    {
     "name": "stdout",
     "output_type": "stream",
     "text": [
      "Total users: 61018\n",
      "Added: 13048\n",
      "Updated: 4491\n",
      "Aggregating Item Stats..\n",
      "Total items: 659\n",
      "Added: 238\n",
      "Updated: 2\n",
      "\n",
      "\n",
      "Processing Chunk 4\n",
      "Cleaning Text..\n",
      "Aggregating User Stats..\n"
     ]
    },
    {
     "name": "stderr",
     "output_type": "stream",
     "text": [
      "100%|██████████| 18338/18338 [00:13<00:00, 1355.94it/s]\n",
      "100%|██████████| 172/172 [00:00<00:00, 1393.17it/s]\n"
     ]
    },
    {
     "name": "stdout",
     "output_type": "stream",
     "text": [
      "Total users: 76043\n",
      "Added: 15025\n",
      "Updated: 3313\n",
      "Aggregating Item Stats..\n",
      "Total items: 829\n",
      "Added: 170\n",
      "Updated: 2\n",
      "\n",
      "\n",
      "Processing Chunk 5\n",
      "Cleaning Text..\n",
      "Aggregating User Stats..\n"
     ]
    },
    {
     "name": "stderr",
     "output_type": "stream",
     "text": [
      "100%|██████████| 17903/17903 [00:11<00:00, 1495.67it/s]\n",
      "100%|██████████| 107/107 [00:00<00:00, 1385.14it/s]\n"
     ]
    },
    {
     "name": "stdout",
     "output_type": "stream",
     "text": [
      "Total users: 91048\n",
      "Added: 15005\n",
      "Updated: 2898\n",
      "Aggregating Item Stats..\n",
      "Total items: 934\n",
      "Added: 105\n",
      "Updated: 2\n",
      "\n",
      "\n"
     ]
    },
    {
     "ename": "TypeError",
     "evalue": "file must have 'read' and 'readline' attributes",
     "output_type": "error",
     "traceback": [
      "\u001b[0;31m---------------------------------------------------------------------------\u001b[0m",
      "\u001b[0;31mTypeError\u001b[0m                                 Traceback (most recent call last)",
      "\u001b[0;32m<ipython-input-58-917300964a45>\u001b[0m in \u001b[0;36m<module>\u001b[0;34m\u001b[0m\n\u001b[1;32m     14\u001b[0m \u001b[0;32melse\u001b[0m\u001b[0;34m:\u001b[0m\u001b[0;34m\u001b[0m\u001b[0;34m\u001b[0m\u001b[0m\n\u001b[1;32m     15\u001b[0m     \u001b[0mn_chunks\u001b[0m\u001b[0;34m,\u001b[0m \u001b[0mi\u001b[0m\u001b[0;34m,\u001b[0m \u001b[0muser_dict\u001b[0m\u001b[0;34m,\u001b[0m \u001b[0mitem_dict\u001b[0m \u001b[0;34m=\u001b[0m \u001b[0mpreprocessDF_chunks\u001b[0m\u001b[0;34m(\u001b[0m\u001b[0mbooks_path\u001b[0m\u001b[0;34m,\u001b[0m \u001b[0mchunk_size\u001b[0m\u001b[0;34m,\u001b[0m \u001b[0mpkl_path\u001b[0m\u001b[0;34m,\u001b[0m \u001b[0mdrop_org_reviews\u001b[0m\u001b[0;34m=\u001b[0m\u001b[0;32mTrue\u001b[0m\u001b[0;34m,\u001b[0m \u001b[0mmax_chunks\u001b[0m\u001b[0;34m=\u001b[0m\u001b[0;36m5\u001b[0m\u001b[0;34m)\u001b[0m\u001b[0;34m\u001b[0m\u001b[0;34m\u001b[0m\u001b[0m\n\u001b[0;32m---> 16\u001b[0;31m     \u001b[0mdf\u001b[0m \u001b[0;34m=\u001b[0m \u001b[0mpickle\u001b[0m\u001b[0;34m.\u001b[0m\u001b[0mload\u001b[0m\u001b[0;34m(\u001b[0m\u001b[0mpkl_path\u001b[0m \u001b[0;34m+\u001b[0m \u001b[0;34m\"df1.pkl\"\u001b[0m\u001b[0;34m)\u001b[0m\u001b[0;34m\u001b[0m\u001b[0;34m\u001b[0m\u001b[0m\n\u001b[0m\u001b[1;32m     17\u001b[0m \u001b[0;34m\u001b[0m\u001b[0m\n\u001b[1;32m     18\u001b[0m \u001b[0mprint\u001b[0m\u001b[0;34m(\u001b[0m\u001b[0;34m\"###############\"\u001b[0m\u001b[0;34m)\u001b[0m\u001b[0;34m\u001b[0m\u001b[0;34m\u001b[0m\u001b[0m\n",
      "\u001b[0;31mTypeError\u001b[0m: file must have 'read' and 'readline' attributes"
     ]
    }
   ],
   "source": [
    "books_path = '../datasets/Books_5.json.gz'\n",
    "chunk_size=20000\n",
    "pkl_path = '../datasets/books-pickle/'\n",
    "\n",
    "user_dict = {}\n",
    "item_dict = {}\n",
    "\n",
    "dev=False\n",
    "\n",
    "if dev:\n",
    "    df = getDF(books_path, chunk_size=10000)\n",
    "    df = clean_df(df)\n",
    "    user_dict, item_dict = aggregate_info(df, user_dict, item_dict)\n",
    "else:\n",
    "    n_chunks, i, user_dict, item_dict = preprocessDF_chunks(books_path, chunk_size, pkl_path, drop_org_reviews=True, max_chunks=5)\n",
    "    df = pickle.load(pkl_path + \"df1.pkl\")\n",
    "    \n",
    "print(\"###############\")\n",
    "print(len(df))"
   ]
  },
  {
   "cell_type": "code",
   "execution_count": 18,
   "metadata": {},
   "outputs": [
    {
     "data": {
      "text/plain": [
       "8908"
      ]
     },
     "execution_count": 18,
     "metadata": {},
     "output_type": "execute_result"
    }
   ],
   "source": [
    "len(user_dict.keys())"
   ]
  },
  {
   "cell_type": "markdown",
   "metadata": {},
   "source": [
    "## User"
   ]
  },
  {
   "cell_type": "code",
   "execution_count": 21,
   "metadata": {},
   "outputs": [
    {
     "name": "stdout",
     "output_type": "stream",
     "text": [
      "Number of unique reviewers: 8908\n"
     ]
    }
   ],
   "source": [
    "print(\"Number of unique reviewers: {}\".format(df['reviewerID'].nunique()))"
   ]
  },
  {
   "cell_type": "code",
   "execution_count": 42,
   "metadata": {},
   "outputs": [],
   "source": [
    "user_dict = {}"
   ]
  },
  {
   "cell_type": "code",
   "execution_count": 58,
   "metadata": {},
   "outputs": [
    {
     "name": "stderr",
     "output_type": "stream",
     "text": [
      "100%|██████████| 8908/8908 [00:22<00:00, 396.97it/s]"
     ]
    },
    {
     "name": "stdout",
     "output_type": "stream",
     "text": [
      "CPU times: user 22.3 s, sys: 128 ms, total: 22.4 s\n",
      "Wall time: 22.4 s\n"
     ]
    },
    {
     "name": "stderr",
     "output_type": "stream",
     "text": [
      "\n"
     ]
    }
   ],
   "source": [
    "%%time\n",
    "u_users = list(df['reviewerID'].unique())\n",
    "for u in tqdm(u_users):\n",
    "    n_re = df[df[\"reviewerID\"] == u][\"itemID\"].count()\n",
    "    if u not in user_dict:\n",
    "        user_dict[u] = {}\n",
    "        user_dict[u]['n_reviews'] = n_re\n",
    "    else:\n",
    "        user_dict[u]['n_reviews'] += n_re"
   ]
  },
  {
   "cell_type": "code",
   "execution_count": 26,
   "metadata": {},
   "outputs": [
    {
     "data": {
      "text/plain": [
       "1"
      ]
     },
     "execution_count": 26,
     "metadata": {},
     "output_type": "execute_result"
    }
   ],
   "source": [
    "df[df[\"reviewerID\"] == 'A1SDAYRVRR62ZH']['itemID'].count()"
   ]
  },
  {
   "cell_type": "code",
   "execution_count": 27,
   "metadata": {},
   "outputs": [],
   "source": [
    "#plt.hist(user_dict.values()['n_reviews'], bins=[1,2,4,6,10])"
   ]
  },
  {
   "cell_type": "markdown",
   "metadata": {},
   "source": [
    "## Items"
   ]
  },
  {
   "cell_type": "code",
   "execution_count": 29,
   "metadata": {},
   "outputs": [],
   "source": [
    "#for name, val in df.groupby(\"itemID\")['reviewerID']:\n",
    "    #print(name + \" \" + str(val.count()))"
   ]
  },
  {
   "cell_type": "code",
   "execution_count": 30,
   "metadata": {},
   "outputs": [
    {
     "data": {
      "text/plain": [
       "itemID\n",
       "0001844423    2753\n",
       "0002005549     778\n",
       "0001720392     774\n",
       "0001951076     681\n",
       "0002051850     603\n",
       "0001945424     556\n",
       "0001384198     451\n",
       "0001381733     317\n",
       "0002180618     302\n",
       "0002008599     210\n",
       "Name: reviewerID, dtype: int64"
      ]
     },
     "execution_count": 30,
     "metadata": {},
     "output_type": "execute_result"
    }
   ],
   "source": [
    "df.groupby(\"itemID\")['reviewerID'].count().sort_values(ascending=False).head(10)"
   ]
  },
  {
   "cell_type": "code",
   "execution_count": 31,
   "metadata": {},
   "outputs": [
    {
     "data": {
      "text/plain": [
       "Text(0.5, 1.0, 'Reviews per Item')"
      ]
     },
     "execution_count": 31,
     "metadata": {},
     "output_type": "execute_result"
    },
    {
     "data": {
      "image/png": "[encoded data removed]",
      "text/plain": [
       "<Figure size 432x288 with 1 Axes>"
      ]
     },
     "metadata": {
      "needs_background": "light"
     },
     "output_type": "display_data"
    }
   ],
   "source": [
    "plt.hist(df.groupby(\"itemID\")['reviewerID'].count())\n",
    "plt.title(\"Reviews per Item\")\n",
    "#plt.xaxis(\"# Reviews\")"
   ]
  },
  {
   "cell_type": "code",
   "execution_count": 32,
   "metadata": {},
   "outputs": [
    {
     "name": "stdout",
     "output_type": "stream",
     "text": [
      "Mean: 4.50\n",
      "Median: 5.0\n"
     ]
    },
    {
     "data": {
      "image/png": "[encoded data removed]",
      "text/plain": [
       "<Figure size 432x288 with 1 Axes>"
      ]
     },
     "metadata": {
      "needs_background": "light"
     },
     "output_type": "display_data"
    }
   ],
   "source": [
    "hist = plt.hist(df['overall'], bins=[1,2,3,4,5,6], density=True)\n",
    "plt.title('Ratings')\n",
    "print(\"Mean: %.2f\" % df['overall'].mean())\n",
    "print(\"Median: %.1f\" % df['overall'].median())"
   ]
  },
  {
   "cell_type": "markdown",
   "metadata": {},
   "source": [
    "## Content"
   ]
  },
  {
   "cell_type": "code",
   "execution_count": 33,
   "metadata": {},
   "outputs": [],
   "source": [
    "# tokenise content"
   ]
  },
  {
   "cell_type": "code",
   "execution_count": 11,
   "metadata": {},
   "outputs": [
    {
     "name": "stdout",
     "output_type": "stream",
     "text": [
      "477\n",
      "Maybe It's Not As Bad As You Think So, you think you have problems? Things could be worse and this clever book can prove it. The king starts out with a problem. The mice are eating his cheese. The more he tries to fix the problem, the worse it gets. The king finally arranges to bring back the mice when he comes to the realization that his original dilemma  wasn't so intolerable after all. The solution requires cooperation from the king and the mice. It involves the cheese.\n"
     ]
    }
   ],
   "source": [
    "row = 10 \n",
    "\n",
    "sent = df['reviewText'].iloc[row]\n",
    "\n",
    "print(len(sent))\n",
    "print(sent)"
   ]
  },
  {
   "cell_type": "code",
   "execution_count": 12,
   "metadata": {},
   "outputs": [
    {
     "data": {
      "text/plain": [
       "[\"Maybe It's Not As Bad As You Think So, you think you have problems?\",\n",
       " 'Things could be worse and this clever book can prove it.',\n",
       " 'The king starts out with a problem.',\n",
       " 'The mice are eating his cheese.',\n",
       " 'The more he tries to fix the problem, the worse it gets.',\n",
       " \"The king finally arranges to bring back the mice when he comes to the realization that his original dilemma  wasn't so intolerable after all.\",\n",
       " 'The solution requires cooperation from the king and the mice.',\n",
       " 'It involves the cheese.']"
      ]
     },
     "execution_count": 12,
     "metadata": {},
     "output_type": "execute_result"
    }
   ],
   "source": [
    "stop_words = list(set(stopwords.words('english')))\n",
    "sent_tokenize(sent)"
   ]
  },
  {
   "cell_type": "code",
   "execution_count": 19,
   "metadata": {},
   "outputs": [
    {
     "name": "stdout",
     "output_type": "stream",
     "text": [
      "90\n"
     ]
    }
   ],
   "source": [
    "tokens = [word for word in bert_tokenizer.tokenize(sent) if word.isalpha()]\n",
    "print(len(tokens))"
   ]
  },
  {
   "cell_type": "code",
   "execution_count": 20,
   "metadata": {},
   "outputs": [
    {
     "name": "stdout",
     "output_type": "stream",
     "text": [
      "88\n"
     ]
    }
   ],
   "source": [
    "#tokenise, punctuation, lower-case\n",
    "tokens = [word.lower() for sent in sent_tokenize(sent) for word in word_tokenize(sent) if word.isalpha()]\n",
    "\n",
    "#filter stop words\n",
    "#tokens = [word for word in tokens if word not in stop_words]\n",
    "\n",
    "print(len(tokens))"
   ]
  },
  {
   "cell_type": "code",
   "execution_count": 37,
   "metadata": {},
   "outputs": [
    {
     "data": {
      "text/plain": [
       "'mayb it not as bad as you think so you think you have problem thing could be wors and thi clever book can prove it the king start out with a problem the mice are eat hi chees the more he tri to fix the problem the wors it get the king final arrang to bring back the mice when he come to the realiz that hi origin dilemma wa so intoler after all the solut requir cooper from the king and the mice it involv the chees'"
      ]
     },
     "execution_count": 37,
     "metadata": {},
     "output_type": "execute_result"
    }
   ],
   "source": [
    "#stemming?\n",
    "stemmer = PorterStemmer()\n",
    "stemmed = [stemmer.stem(token) for token in tokens]\n",
    "\" \".join(stemmed)"
   ]
  },
  {
   "cell_type": "code",
   "execution_count": 106,
   "metadata": {},
   "outputs": [
    {
     "data": {
      "text/plain": [
       "overall        5\n",
       "verified       5\n",
       "reviewTime     5\n",
       "reviewerID     5\n",
       "itemID         5\n",
       "reviewText     5\n",
       "cleanedText    5\n",
       "reviewWords    5\n",
       "dtype: int64"
      ]
     },
     "execution_count": 106,
     "metadata": {},
     "output_type": "execute_result"
    }
   ],
   "source": [
    "review_length = df['reviewText'].apply(lambda x: len(x))\n",
    "df[df['reviewText'].apply(lambda x: len(x)) < 10].count()\n",
    "\n",
    "#plt.hist(review_length)"
   ]
  },
  {
   "cell_type": "code",
   "execution_count": 12,
   "metadata": {},
   "outputs": [],
   "source": [
    "def clean_text_bert(text, tokenizer):\n",
    "    return tokenizer.tokenize(text)"
   ]
  },
  {
   "cell_type": "code",
   "execution_count": 26,
   "metadata": {},
   "outputs": [
    {
     "name": "stdout",
     "output_type": "stream",
     "text": [
      "['let', \"'\", 's', 'see', 'how', 'text', 'is', 'handled', 'if', 'there', \"'\", 're', 'errors', '!', '!']\n",
      "[2292, 1005, 1055, 2156, 2129, 3793, 2003, 8971, 2065, 2045, 1005, 2128, 10697, 999, 999]\n",
      "['let', \"'\", 's', 'see', 'how', 'tx', '##et', 'is', 'han', '##led', 'if', 'there', \"'\", 're', 'errors', '!', '!']\n",
      "[2292, 1005, 1055, 2156, 2129, 19067, 3388, 2003, 7658, 3709, 2065, 2045, 1005, 2128, 10697, 999, 999]\n",
      "[101, 2292, 1005, 1055, 2156, 2129, 19067, 3388, 2003, 7658, 3709, 2065, 2045, 1005, 2128, 10697, 999, 999, 102, 0, 0, 0, 0, 0, 0, 0, 0, 0, 0, 0]\n"
     ]
    }
   ],
   "source": [
    "sent = \"Let's see how text is handled if there're errors!!\"\n",
    "print(clean_text_bert(sent, bert_tokenizer))\n",
    "print(bert_tokenizer.convert_tokens_to_ids(clean_text_bert(sent, bert_tokenizer)))\n",
    "\n",
    "sent = \"Let's see how txet is hanled if there're errors!!\"\n",
    "print(clean_text_bert(sent, bert_tokenizer))\n",
    "print(bert_tokenizer.convert_tokens_to_ids(clean_text_bert(sent, bert_tokenizer)))\n",
    "\n",
    "print(bert_tokenizer.encode(sent, max_length=30, add_special_tokens=True, pad_to_max_length=True))"
   ]
  },
  {
   "cell_type": "code",
   "execution_count": 13,
   "metadata": {},
   "outputs": [
    {
     "name": "stdout",
     "output_type": "stream",
     "text": [
      "CPU times: user 22.8 s, sys: 104 ms, total: 22.9 s\n",
      "Wall time: 23.2 s\n"
     ]
    }
   ],
   "source": [
    "%%time\n",
    "\n",
    "use_both=False\n",
    "use_bert=True\n",
    "\n",
    "if use_both:\n",
    "    df['cleanedTextBert'] = df['reviewText'].apply(lambda x: clean_text_bert(x, bert_tokenizer))\n",
    "    df['reviewWordsBert'] = df['cleanedTextBert'].apply(lambda x: len(x))\n",
    "    df['cleanedText'] = df['reviewText'].apply(lambda x: clean_text(x))\n",
    "    df['reviewWords'] = df['cleanedText'].apply(lambda x: len(x.split()))\n",
    "elif use_bert: \n",
    "    df['cleanedTextBert'] = df['reviewText'].apply(lambda x: clean_text_bert(x, bert_tokenizer))\n",
    "    df['reviewWordsBert'] = df['cleanedTextBert'].apply(lambda x: len(x))\n",
    "    '''\n",
    "    BertTokenizer keeps more (if not all) tokens of a review, \n",
    "    including things like stopwords or non-alphanumeric symbols,\n",
    "    which results in \"less\" cleaning and longer reviews \n",
    "    '''\n",
    "else: \n",
    "    df['cleanedText'] = df['reviewText'].apply(lambda x: clean_text(x))\n",
    "    df['reviewWords'] = df['cleanedText'].apply(lambda x: len(x.split()))"
   ]
  },
  {
   "cell_type": "code",
   "execution_count": 148,
   "metadata": {},
   "outputs": [
    {
     "data": {
      "text/plain": [
       "overall            6\n",
       "verified           6\n",
       "reviewTime         6\n",
       "reviewerID         6\n",
       "itemID             6\n",
       "reviewText         6\n",
       "cleanedText        6\n",
       "reviewWords        6\n",
       "cleanedTextBert    6\n",
       "reviewWordsBert    6\n",
       "dtype: int64"
      ]
     },
     "execution_count": 148,
     "metadata": {},
     "output_type": "execute_result"
    }
   ],
   "source": [
    "df[df['cleanedText'].apply(lambda x: len(x)) < 10].count()"
   ]
  },
  {
   "cell_type": "code",
   "execution_count": 149,
   "metadata": {},
   "outputs": [
    {
     "data": {
      "text/plain": [
       "overall            3\n",
       "verified           3\n",
       "reviewTime         3\n",
       "reviewerID         3\n",
       "itemID             3\n",
       "reviewText         3\n",
       "cleanedText        3\n",
       "reviewWords        3\n",
       "cleanedTextBert    3\n",
       "reviewWordsBert    3\n",
       "dtype: int64"
      ]
     },
     "execution_count": 149,
     "metadata": {},
     "output_type": "execute_result"
    }
   ],
   "source": [
    "df[df['cleanedText'].apply(lambda x: len(x)) < 1].count()"
   ]
  },
  {
   "cell_type": "code",
   "execution_count": 152,
   "metadata": {},
   "outputs": [
    {
     "data": {
      "text/plain": [
       "overall            0\n",
       "verified           0\n",
       "reviewTime         0\n",
       "reviewerID         0\n",
       "itemID             0\n",
       "reviewText         0\n",
       "cleanedText        0\n",
       "reviewWords        0\n",
       "cleanedTextBert    0\n",
       "reviewWordsBert    0\n",
       "dtype: int64"
      ]
     },
     "execution_count": 152,
     "metadata": {},
     "output_type": "execute_result"
    }
   ],
   "source": [
    "df[df['reviewWordsBert'] < 2].count()"
   ]
  },
  {
   "cell_type": "code",
   "execution_count": 153,
   "metadata": {},
   "outputs": [
    {
     "data": {
      "text/html": [
       "<div>\n",
       "<style scoped>\n",
       "    .dataframe tbody tr th:only-of-type {\n",
       "        vertical-align: middle;\n",
       "    }\n",
       "\n",
       "    .dataframe tbody tr th {\n",
       "        vertical-align: top;\n",
       "    }\n",
       "\n",
       "    .dataframe thead th {\n",
       "        text-align: right;\n",
       "    }\n",
       "</style>\n",
       "<table border=\"1\" class=\"dataframe\">\n",
       "  <thead>\n",
       "    <tr style=\"text-align: right;\">\n",
       "      <th></th>\n",
       "      <th>overall</th>\n",
       "      <th>verified</th>\n",
       "      <th>reviewTime</th>\n",
       "      <th>reviewerID</th>\n",
       "      <th>itemID</th>\n",
       "      <th>reviewText</th>\n",
       "      <th>cleanedText</th>\n",
       "      <th>reviewWords</th>\n",
       "      <th>cleanedTextBert</th>\n",
       "      <th>reviewWordsBert</th>\n",
       "    </tr>\n",
       "  </thead>\n",
       "  <tbody>\n",
       "    <tr>\n",
       "      <th>4813</th>\n",
       "      <td>5</td>\n",
       "      <td>True</td>\n",
       "      <td>2017-08-30</td>\n",
       "      <td>A18WUVMHPTVYQ8</td>\n",
       "      <td>0001844423</td>\n",
       "      <td>100% 100%</td>\n",
       "      <td></td>\n",
       "      <td>0</td>\n",
       "      <td>[100, %, 100, %]</td>\n",
       "      <td>4</td>\n",
       "    </tr>\n",
       "    <tr>\n",
       "      <th>4982</th>\n",
       "      <td>5</td>\n",
       "      <td>True</td>\n",
       "      <td>2016-12-29</td>\n",
       "      <td>A197527ILE0LL8</td>\n",
       "      <td>0001844423</td>\n",
       "      <td>5stars 5stars</td>\n",
       "      <td></td>\n",
       "      <td>0</td>\n",
       "      <td>[5, ##star, ##s, 5, ##star, ##s]</td>\n",
       "      <td>6</td>\n",
       "    </tr>\n",
       "    <tr>\n",
       "      <th>9967</th>\n",
       "      <td>5</td>\n",
       "      <td>False</td>\n",
       "      <td>2016-06-20</td>\n",
       "      <td>A2PU9Z67Q8VRRM</td>\n",
       "      <td>0001713256</td>\n",
       "      <td>A+ A+</td>\n",
       "      <td></td>\n",
       "      <td>0</td>\n",
       "      <td>[a, +, a, +]</td>\n",
       "      <td>4</td>\n",
       "    </tr>\n",
       "  </tbody>\n",
       "</table>\n",
       "</div>"
      ],
      "text/plain": [
       "      overall  verified reviewTime      reviewerID      itemID     reviewText  \\\n",
       "4813        5      True 2017-08-30  A18WUVMHPTVYQ8  0001844423      100% 100%   \n",
       "4982        5      True 2016-12-29  A197527ILE0LL8  0001844423  5stars 5stars   \n",
       "9967        5     False 2016-06-20  A2PU9Z67Q8VRRM  0001713256          A+ A+   \n",
       "\n",
       "     cleanedText  reviewWords                   cleanedTextBert  \\\n",
       "4813                        0                  [100, %, 100, %]   \n",
       "4982                        0  [5, ##star, ##s, 5, ##star, ##s]   \n",
       "9967                        0                      [a, +, a, +]   \n",
       "\n",
       "      reviewWordsBert  \n",
       "4813                4  \n",
       "4982                6  \n",
       "9967                4  "
      ]
     },
     "execution_count": 153,
     "metadata": {},
     "output_type": "execute_result"
    }
   ],
   "source": [
    "df[df['cleanedText'].apply(lambda x: len(x)) < 1]"
   ]
  },
  {
   "cell_type": "code",
   "execution_count": 154,
   "metadata": {},
   "outputs": [],
   "source": [
    "#df['reviewWords'] = df['cleanedText'].apply(lambda x: len(x.split()))"
   ]
  },
  {
   "cell_type": "code",
   "execution_count": 159,
   "metadata": {},
   "outputs": [
    {
     "data": {
      "text/plain": [
       "6405    4855\n",
       "7395    2882\n",
       "6406    2823\n",
       "6407    2451\n",
       "5936    2113\n",
       "7034    2010\n",
       "6408    1962\n",
       "8429    1874\n",
       "5230    1866\n",
       "6804    1637\n",
       "Name: reviewWords, dtype: int64"
      ]
     },
     "execution_count": 159,
     "metadata": {},
     "output_type": "execute_result"
    }
   ],
   "source": [
    "df['reviewWords'].sort_values(ascending=False).head(10)"
   ]
  },
  {
   "cell_type": "code",
   "execution_count": 160,
   "metadata": {},
   "outputs": [
    {
     "data": {
      "text/plain": [
       "6405    6009\n",
       "7395    3597\n",
       "6406    3585\n",
       "6407    3049\n",
       "7034    2840\n",
       "8429    2577\n",
       "5936    2503\n",
       "6408    2439\n",
       "5230    2319\n",
       "2846    2003\n",
       "Name: reviewWordsBert, dtype: int64"
      ]
     },
     "execution_count": 160,
     "metadata": {},
     "output_type": "execute_result"
    }
   ],
   "source": [
    "df['reviewWordsBert'].sort_values(ascending=False).head(10)\n",
    "#df['reviewWordsBert'].mean()"
   ]
  },
  {
   "cell_type": "code",
   "execution_count": 145,
   "metadata": {},
   "outputs": [
    {
     "data": {
      "text/plain": [
       "'\\ntokeniser = BertTokenizer.from_pretrained(\\'bert-base-uncased\\')\\nprint(tokeniser.convert_tokens_to_ids(tokeniser.tokenize(\"Let\\'s see all hidden-states and attentions on this text\")))\\n'"
      ]
     },
     "execution_count": 145,
     "metadata": {},
     "output_type": "execute_result"
    }
   ],
   "source": [
    "'''\n",
    "tokeniser = BertTokenizer.from_pretrained('bert-base-uncased')\n",
    "print(tokeniser.convert_tokens_to_ids(tokeniser.tokenize(\"Let's see all hidden-states and attentions on this text\")))\n",
    "'''\n"
   ]
  },
  {
   "cell_type": "code",
   "execution_count": 95,
   "metadata": {},
   "outputs": [
    {
     "data": {
      "text/plain": [
       "(array([7.969e+03, 6.780e+02, 1.750e+02, 4.800e+01, 2.200e+01, 8.000e+00,\n",
       "        1.000e+00, 4.000e+00, 0.000e+00, 3.000e+00]),\n",
       " array([   0.        ,  208.07777778,  416.15555556,  624.23333333,\n",
       "         832.31111111, 1040.38888889, 1248.46666667, 1456.54444444,\n",
       "        1664.62222222, 1872.7       , 2080.77777778]),\n",
       " <a list of 10 Patch objects>)"
      ]
     },
     "execution_count": 95,
     "metadata": {},
     "output_type": "execute_result"
    },
    {
     "data": {
      "image/png": "[encoded data removed]",
      "text/plain": [
       "<Figure size 432x288 with 1 Axes>"
      ]
     },
     "metadata": {
      "needs_background": "light"
     },
     "output_type": "display_data"
    }
   ],
   "source": [
    "n_reviews_data = []\n",
    "m_words_data = []\n",
    "\n",
    "\n",
    "for u, values in user_dict.items():\n",
    "    n_reviews_data.append(values['n_reviews'])\n",
    "    m_words_data.append(values['m_words'])\n",
    "    \n",
    "#plt.hist(n_reviews_data)\n",
    "plt.hist(m_words_data)"
   ]
  },
  {
   "cell_type": "code",
   "execution_count": 96,
   "metadata": {},
   "outputs": [],
   "source": [
    "# TODO: plot distributions in with meaningful bin sizes/intervals, e.g. 1-2, 3-4, 5-7, >8"
   ]
  },
  {
   "cell_type": "code",
   "execution_count": 109,
   "metadata": {},
   "outputs": [
    {
     "name": "stdout",
     "output_type": "stream",
     "text": [
      "Mean: 100.0\n",
      "Median: 80.7\n"
     ]
    },
    {
     "data": {
      "image/png": "[encoded data removed]",
      "text/plain": [
       "<Figure size 432x288 with 1 Axes>"
      ]
     },
     "metadata": {
      "needs_background": "light"
     },
     "output_type": "display_data"
    }
   ],
   "source": [
    "n_reviews_data = []\n",
    "m_words_data = []\n",
    "\n",
    "\n",
    "for u, values in item_dict.items():\n",
    "    n_reviews_data.append(values['n_reviews'])\n",
    "    m_words_data.append(values['m_words'])\n",
    "    \n",
    "#plt.hist(n_reviews_data)\n",
    "plt.hist(m_words_data, density=True)\n",
    "print(\"Mean: %.1f\" % np.mean(m_words_data))\n",
    "print(\"Median: %.1f\" %np.median(m_words_data))"
   ]
  },
  {
   "cell_type": "markdown",
   "metadata": {},
   "source": [
    "## Bert Stuff"
   ]
  },
  {
   "cell_type": "code",
   "execution_count": 166,
   "metadata": {},
   "outputs": [
    {
     "name": "stdout",
     "output_type": "stream",
     "text": [
      "[2292, 1005, 1055, 2156, 2035, 5023, 1011, 2163, 1998, 3086, 2015, 2006, 2023, 3793]\n"
     ]
    }
   ],
   "source": [
    "#bert_tokenizer = BertTokenizer.from_pretrained('bert-base-uncased')\n",
    "print(bert_tokenizer.convert_tokens_to_ids(bert_tokenizer.tokenize(\"Let's see all hidden-states and attentions on this text\")))\n",
    "#print(bert_tokenizer.convert_tokens_to_ids(bert_tokenizer.tokenize(\"Let's see all hidden-states? and attentions on this text\")))"
   ]
  },
  {
   "cell_type": "code",
   "execution_count": 22,
   "metadata": {},
   "outputs": [],
   "source": [
    "word_embeddings = bert_model.get_input_embeddings()"
   ]
  },
  {
   "cell_type": "code",
   "execution_count": null,
   "metadata": {},
   "outputs": [],
   "source": []
  },
  {
   "cell_type": "code",
   "execution_count": 23,
   "metadata": {},
   "outputs": [
    {
     "data": {
      "text/plain": [
       "[101,\n",
       " 2023,\n",
       " 2003,\n",
       " 1037,\n",
       " 3231,\n",
       " 1011,\n",
       " 6251,\n",
       " 1010,\n",
       " 2061,\n",
       " 2292,\n",
       " 1005,\n",
       " 1055,\n",
       " 2156,\n",
       " 2054,\n",
       " 6433,\n",
       " 102,\n",
       " 0,\n",
       " 0,\n",
       " 0,\n",
       " 0,\n",
       " 0,\n",
       " 0,\n",
       " 0,\n",
       " 0,\n",
       " 0,\n",
       " 0,\n",
       " 0,\n",
       " 0,\n",
       " 0,\n",
       " 0]"
      ]
     },
     "execution_count": 23,
     "metadata": {},
     "output_type": "execute_result"
    }
   ],
   "source": [
    "sent = \"This is a test-sentence, so let's see what happens\"\n",
    "#tokens = bert_tokenizer.tokenize(sent)\n",
    "#tokens = ['[CLS]'] + list(tokens) + ['[SEP]']\n",
    "#tokens = bert_tokenizer.convert_tokens_to_ids(tokens)\n",
    "\n",
    "tokens = bert_tokenizer.encode(sent, max_length=30, add_special_tokens=True, pad_to_max_length=True)\n",
    "x = torch.tensor(tokens, requires_grad=False).long()\n",
    "tokens"
   ]
  },
  {
   "cell_type": "code",
   "execution_count": 24,
   "metadata": {},
   "outputs": [
    {
     "name": "stdout",
     "output_type": "stream",
     "text": [
      "CPU times: user 5 µs, sys: 1 µs, total: 6 µs\n",
      "Wall time: 8.58 µs\n"
     ]
    }
   ],
   "source": [
    "%%time\n",
    "if not bert_loaded:\n",
    "    bert_model = BertModel.from_pretrained('bert-base-uncased', output_hidden_states=True,\n",
    "                                            output_attentions=True)\n",
    "    \n",
    "    bert_model.resize_token_embeddings(len(bert_tokenizer))"
   ]
  },
  {
   "cell_type": "code",
   "execution_count": 25,
   "metadata": {},
   "outputs": [
    {
     "data": {
      "text/plain": [
       "torch.Size([2, 30])"
      ]
     },
     "execution_count": 25,
     "metadata": {},
     "output_type": "execute_result"
    }
   ],
   "source": [
    "x_in = torch.stack([x, x], dim=0)\n",
    "x_in.shape"
   ]
  },
  {
   "cell_type": "code",
   "execution_count": 26,
   "metadata": {},
   "outputs": [],
   "source": [
    "outputs = bert_model(x_in)"
   ]
  },
  {
   "cell_type": "code",
   "execution_count": 27,
   "metadata": {},
   "outputs": [
    {
     "data": {
      "text/plain": [
       "torch.Size([2, 30, 768])"
      ]
     },
     "execution_count": 27,
     "metadata": {},
     "output_type": "execute_result"
    }
   ],
   "source": [
    "len(outputs)\n",
    "#last hidden state\n",
    "outputs[0].shape #batchsize x seq_length x hidden_units"
   ]
  },
  {
   "cell_type": "code",
   "execution_count": 28,
   "metadata": {},
   "outputs": [
    {
     "data": {
      "text/plain": [
       "torch.Size([2, 768])"
      ]
     },
     "execution_count": 28,
     "metadata": {},
     "output_type": "execute_result"
    }
   ],
   "source": [
    "outputs[1].shape #pooled output"
   ]
  },
  {
   "cell_type": "markdown",
   "metadata": {},
   "source": [
    "From the documentation: \n",
    "\"This output is usually NOT a good summary of the semantic content of the input, \n",
    "you’re often better with averaging or pooling the sequence of hidden-states for the whole input sequence.\""
   ]
  },
  {
   "cell_type": "code",
   "execution_count": 29,
   "metadata": {},
   "outputs": [
    {
     "data": {
      "text/plain": [
       "13"
      ]
     },
     "execution_count": 29,
     "metadata": {},
     "output_type": "execute_result"
    }
   ],
   "source": [
    "len(outputs[2]) #hidden_states at each output layer"
   ]
  },
  {
   "cell_type": "code",
   "execution_count": 30,
   "metadata": {},
   "outputs": [
    {
     "data": {
      "text/plain": [
       "12"
      ]
     },
     "execution_count": 30,
     "metadata": {},
     "output_type": "execute_result"
    }
   ],
   "source": [
    "len(outputs[3]) #attentions"
   ]
  },
  {
   "cell_type": "markdown",
   "metadata": {},
   "source": [
    "## Playground"
   ]
  },
  {
   "cell_type": "code",
   "execution_count": 31,
   "metadata": {},
   "outputs": [
    {
     "data": {
      "text/plain": [
       "torch.Size([30, 768])"
      ]
     },
     "execution_count": 31,
     "metadata": {},
     "output_type": "execute_result"
    }
   ],
   "source": [
    "tokens_embedded = word_embeddings(x)\n",
    "tokens_embedded.shape"
   ]
  },
  {
   "cell_type": "code",
   "execution_count": 32,
   "metadata": {},
   "outputs": [
    {
     "data": {
      "text/plain": [
       "torch.Size([30, 768])"
      ]
     },
     "execution_count": 32,
     "metadata": {},
     "output_type": "execute_result"
    }
   ],
   "source": [
    "last_hidden = outputs[0][0,:,:].squeeze()\n",
    "last_hidden.shape"
   ]
  },
  {
   "cell_type": "code",
   "execution_count": 33,
   "metadata": {},
   "outputs": [
    {
     "data": {
      "text/plain": [
       "False"
      ]
     },
     "execution_count": 33,
     "metadata": {},
     "output_type": "execute_result"
    }
   ],
   "source": [
    "torch.equal(last_hidden, tokens_embedded)"
   ]
  },
  {
   "cell_type": "code",
   "execution_count": 34,
   "metadata": {},
   "outputs": [
    {
     "data": {
      "text/plain": [
       "torch.Size([1, 30, 768])"
      ]
     },
     "execution_count": 34,
     "metadata": {},
     "output_type": "execute_result"
    }
   ],
   "source": [
    "last_hidden = last_hidden.view(1, last_hidden.shape[0], last_hidden.shape[1])\n",
    "last_hidden.shape"
   ]
  },
  {
   "cell_type": "code",
   "execution_count": 35,
   "metadata": {},
   "outputs": [],
   "source": [
    "def output_size(l_in, pad, kernel, stride):\n",
    "    l_out = l_in + 2*pad - kernel\n",
    "    l_out /= stride\n",
    "    l_out += 1\n",
    "    return l_out"
   ]
  },
  {
   "cell_type": "code",
   "execution_count": 36,
   "metadata": {},
   "outputs": [
    {
     "data": {
      "text/plain": [
       "torch.Size([1, 768])"
      ]
     },
     "execution_count": 36,
     "metadata": {},
     "output_type": "execute_result"
    }
   ],
   "source": [
    "x = torch.sum(last_hidden, dim=1)\n",
    "x.shape"
   ]
  },
  {
   "cell_type": "code",
   "execution_count": 37,
   "metadata": {},
   "outputs": [
    {
     "data": {
      "text/plain": [
       "torch.Size([1, 768])"
      ]
     },
     "execution_count": 37,
     "metadata": {},
     "output_type": "execute_result"
    }
   ],
   "source": [
    "x2 = torch.mean(last_hidden, dim=1)\n",
    "x2.shape"
   ]
  },
  {
   "cell_type": "code",
   "execution_count": 51,
   "metadata": {},
   "outputs": [],
   "source": [
    "text = {}"
   ]
  },
  {
   "cell_type": "code",
   "execution_count": 52,
   "metadata": {},
   "outputs": [
    {
     "data": {
      "text/plain": [
       "dict_keys([0, 1, 2, 3, 4, 5, 6, 7, 8, 9, 10])"
      ]
     },
     "execution_count": 52,
     "metadata": {},
     "output_type": "execute_result"
    }
   ],
   "source": [
    "\n",
    "#text[0:10] = torch.zeros([10,10])\n",
    "keys = range(0,11)\n",
    "values = torch.zeros([len(keys), 10, 10])\n",
    "text = {**text, **dict(zip(keys, values))}\n",
    "text.keys()"
   ]
  },
  {
   "cell_type": "code",
   "execution_count": 54,
   "metadata": {},
   "outputs": [
    {
     "data": {
      "text/plain": [
       "tensor([[0., 0., 0., 0., 0., 0., 0., 0., 0., 0.],\n",
       "        [0., 0., 0., 0., 0., 0., 0., 0., 0., 0.],\n",
       "        [0., 0., 0., 0., 0., 0., 0., 0., 0., 0.],\n",
       "        [0., 0., 0., 0., 0., 0., 0., 0., 0., 0.],\n",
       "        [0., 0., 0., 0., 0., 0., 0., 0., 0., 0.],\n",
       "        [0., 0., 0., 0., 0., 0., 0., 0., 0., 0.],\n",
       "        [0., 0., 0., 0., 0., 0., 0., 0., 0., 0.],\n",
       "        [0., 0., 0., 0., 0., 0., 0., 0., 0., 0.],\n",
       "        [0., 0., 0., 0., 0., 0., 0., 0., 0., 0.],\n",
       "        [0., 0., 0., 0., 0., 0., 0., 0., 0., 0.]])"
      ]
     },
     "execution_count": 54,
     "metadata": {},
     "output_type": "execute_result"
    }
   ],
   "source": [
    "keys = range(10,21)\n",
    "values = torch.zeros([len(keys), 10, 10])\n",
    "text = {**text, **dict(zip(keys, values))}"
   ]
  },
  {
   "cell_type": "code",
   "execution_count": 137,
   "metadata": {},
   "outputs": [
    {
     "name": "stdout",
     "output_type": "stream",
     "text": [
      "torch.Size([1, 768, 30])\n"
     ]
    }
   ],
   "source": [
    "print(last_hidden.permute(0,2,1).size())"
   ]
  },
  {
   "cell_type": "code",
   "execution_count": 142,
   "metadata": {},
   "outputs": [
    {
     "data": {
      "text/plain": [
       "torch.Size([1, 768, 10])"
      ]
     },
     "execution_count": 142,
     "metadata": {},
     "output_type": "execute_result"
    }
   ],
   "source": [
    "avg_pool = torch.nn.AvgPool1d(2, stride=3)\n",
    "\n",
    "avg_pool(last_hidden.permute(0,2,1)).shape"
   ]
  },
  {
   "cell_type": "code",
   "execution_count": null,
   "metadata": {},
   "outputs": [],
   "source": []
  },
  {
   "cell_type": "code",
   "execution_count": 139,
   "metadata": {},
   "outputs": [
    {
     "data": {
      "text/plain": [
       "tensor([[0., 0., 0.,  ..., 0., 0., 0.],\n",
       "        [0., 0., 0.,  ..., 0., 0., 0.],\n",
       "        [0., 0., 0.,  ..., 0., 0., 0.],\n",
       "        ...,\n",
       "        [0., 0., 0.,  ..., 0., 0., 0.],\n",
       "        [0., 0., 0.,  ..., 0., 0., 0.],\n",
       "        [0., 0., 0.,  ..., 0., 0., 0.]])"
      ]
     },
     "execution_count": 139,
     "metadata": {},
     "output_type": "execute_result"
    }
   ],
   "source": [
    "torch.zeros(tokens_embedded.shape)"
   ]
  },
  {
   "cell_type": "markdown",
   "metadata": {},
   "source": [
    "Options for Encoding Sentences: \n",
    "1. Bert Embeddings (Raw): tokenise text and apply Bert Embeddings, no further processing [batch_size x seq_len x dim_e] => subsequent (sophisticated) Encoder should produce sentence representation [batch_size x dim_s]\n",
    "2. Last Hidden States: sequence encoded by Bert, powerful processing [batch_size x seq_len x dim_e] => subsequent (simple) Encoder produce sentence representation [batch_size x dim_s]\n",
    "3. Average over Last Hidden States: seq. encoded by Bert and average in the end to yield sentence representation [batch_size x dim_s]"
   ]
  },
  {
   "cell_type": "code",
   "execution_count": null,
   "metadata": {},
   "outputs": [],
   "source": []
  },
  {
   "cell_type": "code",
   "execution_count": 217,
   "metadata": {},
   "outputs": [
    {
     "data": {
      "text/plain": [
       "\"A story children will love and learn from The King, the Mice and the Cheese by Nancy Gurney is an excellent children's book.  It is one that I well remember from my own childhood and purchased for my daughter who loves it.\\n\\nIt is about a king who has trouble with rude mice eating his cheese. He consults his wise men and they suggest cats to chase away the mice. The cats become a nuisance, so the wise men recommend the king bring in dogs to chase the cats away.  The cycle goes on until the mice are finally brought back to chase away the elephants, brought in to chase away the lions that'd chased away the dogs.\\n\\nThe story ends in compromise and friendship between the mice and the king.  The story also teaches cause and effect relationships.\\n\\nThe pictures that accompany the story are humorous and memorable.  I was thrilled to discover that it is back in print.  I *highly* recommend it for children ages 2 to 7.\""
      ]
     },
     "execution_count": 217,
     "metadata": {},
     "output_type": "execute_result"
    }
   ],
   "source": [
    "list(df['reviewText'])[0]"
   ]
  },
  {
   "cell_type": "code",
   "execution_count": 39,
   "metadata": {},
   "outputs": [
    {
     "name": "stdout",
     "output_type": "stream",
     "text": [
      "CPU times: user 15.4 ms, sys: 0 ns, total: 15.4 ms\n",
      "Wall time: 18.6 ms\n"
     ]
    }
   ],
   "source": [
    "%%time\n",
    "max_elems=2\n",
    "encoded_in = [bert_tokenizer.encode(sent, max_length=30, add_special_tokens=True, pad_to_max_length=True) for sent in list(df['reviewText'])[:3]] "
   ]
  },
  {
   "cell_type": "code",
   "execution_count": 40,
   "metadata": {},
   "outputs": [
    {
     "data": {
      "text/plain": [
       "3"
      ]
     },
     "execution_count": 40,
     "metadata": {},
     "output_type": "execute_result"
    }
   ],
   "source": [
    "len(encoded_in)"
   ]
  },
  {
   "cell_type": "code",
   "execution_count": 41,
   "metadata": {},
   "outputs": [],
   "source": [
    "x_in = torch.tensor(encoded_in, requires_grad=False).long()"
   ]
  },
  {
   "cell_type": "code",
   "execution_count": 42,
   "metadata": {},
   "outputs": [],
   "source": [
    "outputs = bert_model(x_in)[:2]"
   ]
  },
  {
   "cell_type": "code",
   "execution_count": null,
   "metadata": {},
   "outputs": [],
   "source": []
  }
 ],
 "metadata": {
  "kernelspec": {
   "display_name": ".venv-mt",
   "language": "python",
   "name": ".venv-mt"
  },
  "language_info": {
   "codemirror_mode": {
    "name": "ipython",
    "version": 3
   },
   "file_extension": ".py",
   "mimetype": "text/x-python",
   "name": "python",
   "nbconvert_exporter": "python",
   "pygments_lexer": "ipython3",
   "version": "3.7.3"
  }
 },
 "nbformat": 4,
 "nbformat_minor": 2
}
