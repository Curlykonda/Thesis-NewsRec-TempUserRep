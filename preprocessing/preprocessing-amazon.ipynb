{
 "cells": [
  {
   "cell_type": "code",
   "execution_count": 1,
   "metadata": {},
   "outputs": [],
   "source": [
    "import os\n",
    "import json\n",
    "import gzip\n",
    "import pickle\n",
    "import numpy as np\n",
    "import glob\n",
    "import random \n",
    "\n",
    "import pandas as pd\n",
    "from urllib.request import urlopen\n",
    "import matplotlib.pyplot as plt\n",
    "from datetime import datetime\n",
    "from collections import defaultdict\n",
    "from tqdm import tqdm\n",
    "\n",
    "import nltk\n",
    "from nltk.tokenize import word_tokenize, sent_tokenize\n",
    "from nltk.corpus import stopwords\n",
    "from nltk.stem.porter import PorterStemmer\n",
    "\n",
    "from sklearn.metrics.pairwise import cosine_similarity\n",
    "\n",
    "#nltk.download()\n",
    "#nltk.download('stopwords')\n",
    "#nltk.download('punkt')\n",
    "\n",
    "\n",
    "#import more_itertools as mit\n",
    "#from keras.preprocessing.sequence import pad_sequences\n",
    "\n",
    "\n",
    "import torch\n",
    "import torch.nn as nn\n",
    "#from pytorch_pretrained_bert import BertTokenizer, BertModel\n",
    "from transformers import BertTokenizer, BertModel, BertForSequenceClassification\n",
    "from torch.utils.data import DataLoader, Dataset"
   ]
  },
  {
   "cell_type": "code",
   "execution_count": 118,
   "metadata": {},
   "outputs": [],
   "source": []
  },
  {
   "cell_type": "code",
   "execution_count": 2,
   "metadata": {},
   "outputs": [],
   "source": [
    "bert_loaded = False"
   ]
  },
  {
   "cell_type": "code",
   "execution_count": 3,
   "metadata": {},
   "outputs": [
    {
     "name": "stdout",
     "output_type": "stream",
     "text": [
      "30522\n",
      "CPU times: user 2.11 s, sys: 468 ms, total: 2.58 s\n",
      "Wall time: 9.7 s\n"
     ]
    }
   ],
   "source": [
    "%%time\n",
    "\n",
    "if not bert_loaded:\n",
    "    bert_tokenizer = BertTokenizer.from_pretrained('bert-base-uncased')\n",
    "    bert_tokenizer.add_special_tokens({\"unk_token\": '[UNK]', 'cls_token': '[CLS]', \n",
    "                                       'pad_token':'[PAD]', 'sep_token':'[SEP]'})\n",
    "    print(len(bert_tokenizer))\n",
    "    assert bert_tokenizer.cls_token == '[CLS]'\n",
    "    bert_tokenizer.sep_token_id\n",
    "    \n",
    "    bert_model = BertModel.from_pretrained('bert-base-uncased', output_hidden_states=True,\n",
    "                                            output_attentions=True)\n",
    "    bert_model.resize_token_embeddings(len(bert_tokenizer))\n",
    "    \n",
    "    bert_loaded = True"
   ]
  },
  {
   "cell_type": "code",
   "execution_count": 4,
   "metadata": {},
   "outputs": [],
   "source": [
    "def parse(path, chunk_size=20000):\n",
    "    i = 0\n",
    "    with gzip.open(path, 'rb') as f:\n",
    "        for l in f:\n",
    "            yield json.loads(l.strip())\n",
    "            i+=1\n",
    "            if i == chunk_size:\n",
    "                break\n",
    "def parse2(f):\n",
    "    for l in f:\n",
    "        yield json.loads(l.strip())        \n",
    "            \n",
    "def getDF(path, chunk_size):\n",
    "    i = 0\n",
    "    df = {}\n",
    "    for d in parse(path, chunk_size):\n",
    "        df[i] = d\n",
    "        i += 1\n",
    "    return pd.DataFrame.from_dict(df, orient='index')\n",
    "\n",
    "def getDF_chunks(path, chunk_size, pkl_path, max_chunks=4):\n",
    "    i = 0\n",
    "    df = {}\n",
    "    df_chunks = 0\n",
    "    with gzip.open(path, 'rb') as f:\n",
    "        for d in parse2(f):\n",
    "            df[i] = d\n",
    "            i+=1\n",
    "            \n",
    "            if i == chunk_size:\n",
    "                df = pd.DataFrame.from_dict(df, orient='index')\n",
    "                #preprocessing(df)\n",
    "                df.to_pickle(pkl_path + \"df\" + str(df_chunks) +\".pkl\")\n",
    "                df = {}\n",
    "                i = 0\n",
    "                df_chunks +=1\n",
    "    return df_chunks, i"
   ]
  },
  {
   "cell_type": "code",
   "execution_count": 5,
   "metadata": {},
   "outputs": [
    {
     "data": {
      "text/plain": [
       "'\\n!wget http://deepyeti.ucsd.edu/jianmo/amazon/sample/meta_Computers.json.gz\\ndf = getDF(\\'meta_Computers.json.gz\\')\\nlen(df)\\n### remove rows with unformatted title (i.e. some \\'title\\' may still contain html style content)\\n\\ndf3 = df.fillna(\\'\\')\\ndf4 = df3[df3.title.str.contains(\\'getTime\\')] # unformatted rows\\ndf5 = df3[~df3.title.str.contains(\\'getTime\\')] # filter those unformatted rows\\nprint(\"Unformatted rows: {} ({:.2f}%)\".format(len(df4), len(df4)/len(df3)*100))\\nprint(\"Remaining rows: {}\".format(len(df5)))\\n\\n'"
      ]
     },
     "execution_count": 5,
     "metadata": {},
     "output_type": "execute_result"
    }
   ],
   "source": [
    "'''\n",
    "!wget http://deepyeti.ucsd.edu/jianmo/amazon/sample/meta_Computers.json.gz\n",
    "df = getDF('meta_Computers.json.gz')\n",
    "len(df)\n",
    "### remove rows with unformatted title (i.e. some 'title' may still contain html style content)\n",
    "\n",
    "df3 = df.fillna('')\n",
    "df4 = df3[df3.title.str.contains('getTime')] # unformatted rows\n",
    "df5 = df3[~df3.title.str.contains('getTime')] # filter those unformatted rows\n",
    "print(\"Unformatted rows: {} ({:.2f}%)\".format(len(df4), len(df4)/len(df3)*100))\n",
    "print(\"Remaining rows: {}\".format(len(df5)))\n",
    "\n",
    "'''"
   ]
  },
  {
   "cell_type": "code",
   "execution_count": 6,
   "metadata": {},
   "outputs": [
    {
     "data": {
      "text/plain": [
       "['meta_Computers.json.gz',\n",
       " 'Electronics_5.json.gz',\n",
       " 'out-pickle',\n",
       " 'Books_5.json.gz',\n",
       " 'one_week.tar.gz',\n",
       " 'contentdata.tar.gz',\n",
       " 'books-pickle']"
      ]
     },
     "execution_count": 6,
     "metadata": {},
     "output_type": "execute_result"
    }
   ],
   "source": [
    "os.listdir('../datasets')"
   ]
  },
  {
   "cell_type": "code",
   "execution_count": 7,
   "metadata": {},
   "outputs": [],
   "source": [
    "def clean_text(sent, tokenizer, stop_words=None, stemmer=None):\n",
    "\n",
    "    # tokenise & punctuation\n",
    "    tokens = [word.lower() for word in tokenizer.tokenize(sent) if word.isalpha()]\n",
    "\n",
    "    if not stop_words == None:\n",
    "        #stop_words = list(set(stopwords.words('english')))\n",
    "        # filter stop words\n",
    "        tokens = [word for word in tokens if word not in stop_words]\n",
    "\n",
    "    if not stemmer == None:\n",
    "        tokens = [stemmer.stem(token) for token in tokens]\n",
    "\n",
    "    # locating and correcting common typos & misspellings\n",
    "\n",
    "    return tokens\n",
    "\n",
    "\n",
    "def clean_df(df, drop_org_reviews=False):\n",
    "    ### remove rows with unformatted title (i.e. some 'title' may still contain html style content)\n",
    "\n",
    "    df = df.fillna('')\n",
    "    df = df.drop(['reviewerName', 'style', 'vote', 'image'], axis=1)\n",
    "    \n",
    "    #reformat timestamp\n",
    "    df['reviewTime'] = df['unixReviewTime'].apply(lambda x: pd.Timestamp(x, unit='s'))\n",
    "    df = df.drop('unixReviewTime', axis=1)\n",
    "    \n",
    "    #rename columns\n",
    "    df = df.rename(columns={'asin':'itemID'})\n",
    "    \n",
    "    #aggregate text\n",
    "    df['reviewText'] = df['summary'] + \" \" + df['reviewText']\n",
    "    df = df.drop('summary', axis=1)\n",
    "    \n",
    "    ## convert to other (smaller) datatype\n",
    "    df['overall'] = df['overall'].astype('int32')\n",
    "    \n",
    "    #clean text\n",
    "    if 'cleanedText' not in df.columns:\n",
    "        print(\"Cleaning Text..\")\n",
    "        df['reviewWords'] = df['reviewText'].apply(lambda x: len(clean_text(x, bert_tokenizer)))\n",
    "        if drop_org_reviews:\n",
    "            df = df.drop('reviewText', axis=1)\n",
    "        \n",
    "    return df\n",
    "\n",
    "\n",
    "def aggregate_info(df, user_d, items_d):\n",
    "    \n",
    "    added = 0\n",
    "    updated = 0\n",
    "    \n",
    "    print(\"Aggregating User Stats..\")\n",
    "    for u, group in tqdm(df.groupby('reviewerID')):\n",
    "        \n",
    "        if u not in user_d:\n",
    "            user_d[u] = {}\n",
    "            user_d[u]['n_reviews'] = group['itemID'].count()\n",
    "            user_d[u]['m_rating'] = group['overall'].mean()\n",
    "            user_d[u]['m_words'] = group['reviewWords'].mean()\n",
    "            added+=1\n",
    "        else:\n",
    "            user_d[u]['n_reviews'] += group['itemID'].count()\n",
    "            user_d[u]['m_rating'] = np.mean([user_d[u]['m_rating'], group['overall'].mean()])\n",
    "            user_d[u]['m_words'] = np.mean([user_d[u]['m_words'], group['reviewWords'].mean()])\n",
    "            updated+=1\n",
    "\n",
    "    print(\"Total users: %.0f\" % len(user_d.keys()))\n",
    "    print(\"Added: %.0f\" % added)\n",
    "    print(\"Updated: %.0f\" % updated)\n",
    "     \n",
    "                \n",
    "    #count reviews per item\n",
    "    added = 0\n",
    "    updated = 0\n",
    "    \n",
    "    print(\"Aggregating Item Stats..\")\n",
    "    for item, group in tqdm(df.groupby('itemID')):\n",
    "    \n",
    "        if item not in items_d:\n",
    "            items_d[item] = {}\n",
    "            items_d[item]['n_reviews'] = group['reviewerID'].count()\n",
    "            items_d[item]['m_rating'] = group['overall'].mean()\n",
    "            items_d[item]['m_words'] = group['reviewWords'].mean()\n",
    "            added+=1\n",
    "        else:\n",
    "            items_d[item]['n_reviews'] += group['reviewerID'].count()\n",
    "            items_d[item]['m_rating'] = np.mean([items_d[item]['m_rating'], group['overall'].mean()])\n",
    "            items_d[item]['m_words'] = np.mean([items_d[item]['m_words'], group['reviewWords'].mean()])\n",
    "            updated+=1\n",
    "    \n",
    "    print(\"Total items: %.0f\" % len(items_d.keys()))\n",
    "    print(\"Added: %.0f\" % added)\n",
    "    print(\"Updated: %.0f\" % updated)  \n",
    "    \n",
    "    return user_d, items_d\n",
    "\n",
    "\n",
    "def preprocessDF_chunks(path, chunk_size, pkl_path, drop_org_reviews=False, max_chunks=4):\n",
    "    i = 0\n",
    "    data = {}\n",
    "    n_chunks = 0\n",
    "    \n",
    "    #aggreated info\n",
    "    user_dict = {}\n",
    "    item_dict = {}\n",
    "    \n",
    "    with gzip.open(path, 'rb') as f:\n",
    "        print(\"Start reading: {}\".format(path))\n",
    "        for d in parse2(f):\n",
    "            data[i] = d\n",
    "            i+=1\n",
    "            \n",
    "            #if i == 10:\n",
    "            #    print(d)\n",
    "            \n",
    "            if i == chunk_size:\n",
    "                print(\"Processing Chunk {}\".format(n_chunks))\n",
    "                \n",
    "                #print(list(data.items())[:2])\n",
    "                \n",
    "                df = pd.DataFrame.from_dict(data, orient='index')\n",
    "                #preprocessing\n",
    "                df = clean_df(df, drop_org_reviews)\n",
    "                \n",
    "                #aggregate info\n",
    "                user_dict, item_dict = aggregate_info(df, user_dict, item_dict)\n",
    "                \n",
    "                #save cleaned dataframe\n",
    "                df.to_pickle(pkl_path + \"df\" + str(n_chunks) +\".pkl\")\n",
    "                \n",
    "                #save stats\n",
    "                with open(pkl_path + \"user_stats.pkl\", 'wb') as fout:\n",
    "                    pickle.dump(user_dict, fout)\n",
    "                with open(pkl_path + \"item_stats.pkl\", 'wb') as fout:\n",
    "                    pickle.dump(item_dict, fout)\n",
    "                \n",
    "                i = 0\n",
    "                data = {}\n",
    "                n_chunks +=1\n",
    "                print(\"\\n\")\n",
    "                \n",
    "            if max_chunks < n_chunks:\n",
    "                break\n",
    "                \n",
    "    return n_chunks, i, user_dict, item_dict"
   ]
  },
  {
   "cell_type": "code",
   "execution_count": 8,
   "metadata": {},
   "outputs": [
    {
     "data": {
      "text/plain": [
       "['df.json',\n",
       " 'item_stats.pkl',\n",
       " 'pytorch_model.bin',\n",
       " 'df.csv',\n",
       " 'user_stats.pkl',\n",
       " 'df.pkl',\n",
       " 'config.json',\n",
       " 'encoded_text.pkl']"
      ]
     },
     "execution_count": 8,
     "metadata": {},
     "output_type": "execute_result"
    }
   ],
   "source": [
    "(dirpath, dirnames, filenames) = next(os.walk('../datasets/books-pickle/'), (None, None, []))\n",
    "filenames"
   ]
  },
  {
   "cell_type": "code",
   "execution_count": 9,
   "metadata": {},
   "outputs": [
    {
     "data": {
      "text/plain": [
       "10000"
      ]
     },
     "execution_count": 9,
     "metadata": {},
     "output_type": "execute_result"
    }
   ],
   "source": [
    "#df=pd.read_pickle('../datasets/books-pickle/df.pkl')\n",
    "#len(df)"
   ]
  },
  {
   "cell_type": "code",
   "execution_count": 14,
   "metadata": {},
   "outputs": [],
   "source": [
    "books_path = '../datasets/Books_5.json.gz'\n",
    "chunk_size=10000\n",
    "pkl_path = '../datasets/books-pickle/'"
   ]
  },
  {
   "cell_type": "code",
   "execution_count": 15,
   "metadata": {},
   "outputs": [
    {
     "name": "stdout",
     "output_type": "stream",
     "text": [
      "Cleaning Text..\n",
      "Aggregating User Stats..\n"
     ]
    },
    {
     "name": "stderr",
     "output_type": "stream",
     "text": [
      "100%|██████████| 8908/8908 [00:06<00:00, 1315.57it/s]\n",
      "100%|██████████| 88/88 [00:00<00:00, 1291.99it/s]\n"
     ]
    },
    {
     "name": "stdout",
     "output_type": "stream",
     "text": [
      "Total users: 8908\n",
      "Added: 8908\n",
      "Updated: 0\n",
      "Aggregating Item Stats..\n",
      "Total items: 88\n",
      "Added: 88\n",
      "Updated: 0\n",
      "Saving ..\n",
      "###############\n",
      "10000\n"
     ]
    }
   ],
   "source": [
    "user_dict = {}\n",
    "item_dict = {}\n",
    "\n",
    "dev=True\n",
    "\n",
    "if dev:\n",
    "    df = getDF(books_path, chunk_size)\n",
    "    df = clean_df(df)\n",
    "    user_dict, item_dict = aggregate_info(df, user_dict, item_dict)\n",
    "    \n",
    "    # save cleaned dataframe & encoded text\n",
    "    print(\"Saving ..\")\n",
    "    df.to_pickle(pkl_path + \"df.pkl\")\n",
    "\n",
    "    # save stats\n",
    "    with open(pkl_path + \"user_stats.pkl\", 'wb') as fout:\n",
    "        pickle.dump(user_dict, fout)\n",
    "    with open(pkl_path + \"item_stats.pkl\", 'wb') as fout:\n",
    "        pickle.dump(item_dict, fout)\n",
    "    \n",
    "else:\n",
    "    n_chunks, i, user_dict, item_dict = preprocessDF_chunks(books_path, chunk_size, pkl_path, drop_org_reviews=True, max_chunks=5)\n",
    "    df = pickle.load(pkl_path + \"df1.pkl\")\n",
    "    \n",
    "print(\"###############\")\n",
    "print(len(df))"
   ]
  },
  {
   "cell_type": "code",
   "execution_count": 16,
   "metadata": {},
   "outputs": [
    {
     "data": {
      "text/plain": [
       "8908"
      ]
     },
     "execution_count": 16,
     "metadata": {},
     "output_type": "execute_result"
    }
   ],
   "source": [
    "len(user_dict.keys())"
   ]
  },
  {
   "cell_type": "code",
   "execution_count": null,
   "metadata": {},
   "outputs": [],
   "source": []
  },
  {
   "cell_type": "code",
   "execution_count": null,
   "metadata": {},
   "outputs": [],
   "source": []
  },
  {
   "cell_type": "code",
   "execution_count": 13,
   "metadata": {},
   "outputs": [],
   "source": [
    "import itertools\n",
    "import json\n",
    "\n",
    "import pandas as pd\n",
    "from pandas.io.json._json import JsonReader\n",
    "\n",
    "\n",
    "class JsonChunkReader(JsonReader):\n",
    "    \"\"\"JsonReader provides an interface for reading in a JSON file.\n",
    "    \"\"\"\n",
    "\n",
    "    @classmethod\n",
    "    def chunk_reader(cls, filepath_or_buffer, chunksize):\n",
    "        return cls(\n",
    "            filepath_or_buffer,\n",
    "            orient=None,\n",
    "            typ='frame',\n",
    "            dtype=None,\n",
    "            convert_axes=None,\n",
    "            convert_dates=True,\n",
    "            keep_default_dates=True,\n",
    "            numpy=False,\n",
    "            precise_float=False,\n",
    "            date_unit=None,\n",
    "            encoding=None,\n",
    "            lines=True,\n",
    "            chunksize=chunksize,\n",
    "            compression=None,\n",
    "        )\n",
    "\n",
    "    def __next__(self):\n",
    "        lines = list(itertools.islice(self.data, self.chunksize))\n",
    "        if lines:\n",
    "            obj = pd.DataFrame([\n",
    "                json.loads(line)\n",
    "                for line in lines\n",
    "            ])\n",
    "            return obj\n",
    "\n",
    "        self.close()\n",
    "        raise StopIteration\n"
   ]
  },
  {
   "cell_type": "code",
   "execution_count": 14,
   "metadata": {},
   "outputs": [],
   "source": [
    "reader = pd.read_json(\"./Books_5.json\",orient='index', chunksize=10000, lines=True)"
   ]
  },
  {
   "cell_type": "code",
   "execution_count": 15,
   "metadata": {},
   "outputs": [],
   "source": [
    "#for chunk in reader:\n",
    "#    print(1)"
   ]
  },
  {
   "cell_type": "code",
   "execution_count": 16,
   "metadata": {},
   "outputs": [],
   "source": [
    "#df = pd.concat(reader, ignore_index=True)"
   ]
  },
  {
   "cell_type": "code",
   "execution_count": 15,
   "metadata": {},
   "outputs": [],
   "source": [
    "#df = pd.read_json(pkl_path + \"df.json\", orient='index')"
   ]
  },
  {
   "cell_type": "markdown",
   "metadata": {},
   "source": [
    "## User"
   ]
  },
  {
   "cell_type": "code",
   "execution_count": 17,
   "metadata": {},
   "outputs": [
    {
     "name": "stdout",
     "output_type": "stream",
     "text": [
      "Number of unique reviewers: 8908\n"
     ]
    }
   ],
   "source": [
    "print(\"Number of unique reviewers: {}\".format(len(user_dict.keys())))"
   ]
  },
  {
   "cell_type": "code",
   "execution_count": 18,
   "metadata": {},
   "outputs": [
    {
     "data": {
      "text/plain": [
       "1"
      ]
     },
     "execution_count": 18,
     "metadata": {},
     "output_type": "execute_result"
    }
   ],
   "source": [
    "df[df[\"reviewerID\"] == 'A1SDAYRVRR62ZH']['itemID'].count()"
   ]
  },
  {
   "cell_type": "markdown",
   "metadata": {},
   "source": [
    "## Content"
   ]
  },
  {
   "cell_type": "code",
   "execution_count": 19,
   "metadata": {},
   "outputs": [],
   "source": [
    "# tokenise content"
   ]
  },
  {
   "cell_type": "code",
   "execution_count": 20,
   "metadata": {},
   "outputs": [
    {
     "name": "stdout",
     "output_type": "stream",
     "text": [
      "477\n",
      "Maybe It's Not As Bad As You Think So, you think you have problems? Things could be worse and this clever book can prove it. The king starts out with a problem. The mice are eating his cheese. The more he tries to fix the problem, the worse it gets. The king finally arranges to bring back the mice when he comes to the realization that his original dilemma  wasn't so intolerable after all. The solution requires cooperation from the king and the mice. It involves the cheese.\n"
     ]
    }
   ],
   "source": [
    "row = 10 \n",
    "\n",
    "sent = df['reviewText'].iloc[row]\n",
    "\n",
    "print(len(sent))\n",
    "print(sent)"
   ]
  },
  {
   "cell_type": "code",
   "execution_count": 21,
   "metadata": {},
   "outputs": [
    {
     "data": {
      "text/plain": [
       "[\"Maybe It's Not As Bad As You Think So, you think you have problems?\",\n",
       " 'Things could be worse and this clever book can prove it.',\n",
       " 'The king starts out with a problem.',\n",
       " 'The mice are eating his cheese.',\n",
       " 'The more he tries to fix the problem, the worse it gets.',\n",
       " \"The king finally arranges to bring back the mice when he comes to the realization that his original dilemma  wasn't so intolerable after all.\",\n",
       " 'The solution requires cooperation from the king and the mice.',\n",
       " 'It involves the cheese.']"
      ]
     },
     "execution_count": 21,
     "metadata": {},
     "output_type": "execute_result"
    }
   ],
   "source": [
    "stop_words = list(set(stopwords.words('english')))\n",
    "sent_tokenize(sent)"
   ]
  },
  {
   "cell_type": "code",
   "execution_count": 23,
   "metadata": {},
   "outputs": [
    {
     "name": "stdout",
     "output_type": "stream",
     "text": [
      "90\n"
     ]
    }
   ],
   "source": [
    "tokens = [word for word in bert_tokenizer.tokenize(sent) if word.isalpha()]\n",
    "print(len(tokens))"
   ]
  },
  {
   "cell_type": "code",
   "execution_count": 24,
   "metadata": {},
   "outputs": [
    {
     "name": "stdout",
     "output_type": "stream",
     "text": [
      "88\n"
     ]
    }
   ],
   "source": [
    "#tokenise, punctuation, lower-case\n",
    "tokens = [word.lower() for sent in sent_tokenize(sent) for word in word_tokenize(sent) if word.isalpha()]\n",
    "\n",
    "#filter stop words\n",
    "#tokens = [word for word in tokens if word not in stop_words]\n",
    "\n",
    "print(len(tokens))"
   ]
  },
  {
   "cell_type": "code",
   "execution_count": 25,
   "metadata": {},
   "outputs": [
    {
     "data": {
      "text/plain": [
       "overall        5\n",
       "verified       5\n",
       "reviewTime     5\n",
       "reviewerID     5\n",
       "itemID         5\n",
       "reviewText     5\n",
       "reviewWords    5\n",
       "dtype: int64"
      ]
     },
     "execution_count": 25,
     "metadata": {},
     "output_type": "execute_result"
    }
   ],
   "source": [
    "review_length = df['reviewText'].apply(lambda x: len(x))\n",
    "df[df['reviewText'].apply(lambda x: len(x)) < 10].count()\n",
    "\n",
    "#plt.hist(review_length)"
   ]
  },
  {
   "cell_type": "code",
   "execution_count": 26,
   "metadata": {},
   "outputs": [],
   "source": [
    "def clean_text_bert(text, tokenizer):\n",
    "    return tokenizer.tokenize(text)"
   ]
  },
  {
   "cell_type": "code",
   "execution_count": 27,
   "metadata": {},
   "outputs": [
    {
     "name": "stdout",
     "output_type": "stream",
     "text": [
      "['let', \"'\", 's', 'see', 'how', 'text', 'is', 'handled', 'if', 'there', \"'\", 're', 'errors', '!', '!']\n",
      "[2292, 1005, 1055, 2156, 2129, 3793, 2003, 8971, 2065, 2045, 1005, 2128, 10697, 999, 999]\n",
      "['let', \"'\", 's', 'see', 'how', 'tx', '##et', 'is', 'han', '##led', 'if', 'there', \"'\", 're', 'errors', '!', '!']\n",
      "[2292, 1005, 1055, 2156, 2129, 19067, 3388, 2003, 7658, 3709, 2065, 2045, 1005, 2128, 10697, 999, 999]\n",
      "[101, 2292, 1005, 1055, 2156, 2129, 19067, 3388, 2003, 7658, 3709, 2065, 2045, 1005, 2128, 10697, 999, 999, 102, 0, 0, 0, 0, 0, 0, 0, 0, 0, 0, 0]\n"
     ]
    }
   ],
   "source": [
    "sent = \"Let's see how text is handled if there're errors!!\"\n",
    "print(clean_text_bert(sent, bert_tokenizer))\n",
    "print(bert_tokenizer.convert_tokens_to_ids(clean_text_bert(sent, bert_tokenizer)))\n",
    "\n",
    "sent = \"Let's see how txet is hanled if there're errors!!\"\n",
    "print(clean_text_bert(sent, bert_tokenizer))\n",
    "print(bert_tokenizer.convert_tokens_to_ids(clean_text_bert(sent, bert_tokenizer)))\n",
    "\n",
    "print(bert_tokenizer.encode(sent, max_length=30, add_special_tokens=True, pad_to_max_length=True))"
   ]
  },
  {
   "cell_type": "code",
   "execution_count": 28,
   "metadata": {},
   "outputs": [
    {
     "name": "stdout",
     "output_type": "stream",
     "text": [
      "477\n",
      "Maybe It's Not As Bad As You Think So, you think you have problems? Things could be worse and this clever book can prove it. The king starts out with a problem. The mice are eating his cheese. The more he tries to fix the problem, the worse it gets. The king finally arranges to bring back the mice when he comes to the realization that his original dilemma  wasn't so intolerable after all. The solution requires cooperation from the king and the mice. It involves the cheese.\n"
     ]
    }
   ],
   "source": [
    "row = 10 \n",
    "\n",
    "sent = df['reviewText'].iloc[row]\n",
    "\n",
    "print(len(sent))\n",
    "print(sent)"
   ]
  },
  {
   "cell_type": "code",
   "execution_count": 27,
   "metadata": {},
   "outputs": [
    {
     "data": {
      "text/plain": [
       "[\"Maybe It's Not As Bad As You Think So, you think you have problems?\",\n",
       " 'Things could be worse and this clever book can prove it.',\n",
       " 'The king starts out with a problem.',\n",
       " 'The mice are eating his cheese.',\n",
       " 'The more he tries to fix the problem, the worse it gets.',\n",
       " \"The king finally arranges to bring back the mice when he comes to the realization that his original dilemma  wasn't so intolerable after all.\",\n",
       " 'The solution requires cooperation from the king and the mice.',\n",
       " 'It involves the cheese.']"
      ]
     },
     "execution_count": 27,
     "metadata": {},
     "output_type": "execute_result"
    }
   ],
   "source": [
    "sent_tokenize(sent)"
   ]
  },
  {
   "cell_type": "code",
   "execution_count": 33,
   "metadata": {},
   "outputs": [
    {
     "data": {
      "text/plain": [
       "102"
      ]
     },
     "execution_count": 33,
     "metadata": {},
     "output_type": "execute_result"
    }
   ],
   "source": [
    "bert_tokenizer.sep_token_id"
   ]
  },
  {
   "cell_type": "code",
   "execution_count": 35,
   "metadata": {},
   "outputs": [
    {
     "data": {
      "text/plain": [
       "[101,\n",
       " 2672,\n",
       " 2009,\n",
       " 1005,\n",
       " 1055,\n",
       " 2025,\n",
       " 2004,\n",
       " 2919,\n",
       " 2004,\n",
       " 2017,\n",
       " 2228,\n",
       " 2061,\n",
       " 1010,\n",
       " 2017,\n",
       " 2228,\n",
       " 2017,\n",
       " 2031,\n",
       " 3471,\n",
       " 1029,\n",
       " 2477,\n",
       " 2071,\n",
       " 2022,\n",
       " 4788,\n",
       " 1998,\n",
       " 2023,\n",
       " 12266,\n",
       " 2338,\n",
       " 2064,\n",
       " 6011,\n",
       " 2009,\n",
       " 1012,\n",
       " 1996,\n",
       " 2332,\n",
       " 4627,\n",
       " 2041,\n",
       " 2007,\n",
       " 1037,\n",
       " 3291,\n",
       " 1012,\n",
       " 1996,\n",
       " 12328,\n",
       " 2024,\n",
       " 5983,\n",
       " 2010,\n",
       " 8808,\n",
       " 1012,\n",
       " 1996,\n",
       " 2062,\n",
       " 2002,\n",
       " 5363,\n",
       " 2000,\n",
       " 8081,\n",
       " 1996,\n",
       " 3291,\n",
       " 1010,\n",
       " 1996,\n",
       " 4788,\n",
       " 2009,\n",
       " 4152,\n",
       " 1012,\n",
       " 1996,\n",
       " 2332,\n",
       " 2633,\n",
       " 13621,\n",
       " 2015,\n",
       " 2000,\n",
       " 3288,\n",
       " 2067,\n",
       " 1996,\n",
       " 12328,\n",
       " 2043,\n",
       " 2002,\n",
       " 3310,\n",
       " 2000,\n",
       " 1996,\n",
       " 12393,\n",
       " 2008,\n",
       " 2010,\n",
       " 2434,\n",
       " 21883,\n",
       " 2347,\n",
       " 1005,\n",
       " 1056,\n",
       " 2061,\n",
       " 2046,\n",
       " 3917,\n",
       " 3085,\n",
       " 2044,\n",
       " 2035,\n",
       " 1012,\n",
       " 1996,\n",
       " 5576,\n",
       " 5942,\n",
       " 6792,\n",
       " 2013,\n",
       " 1996,\n",
       " 2332,\n",
       " 1998,\n",
       " 1996,\n",
       " 12328,\n",
       " 1012,\n",
       " 2009,\n",
       " 7336,\n",
       " 1996,\n",
       " 8808,\n",
       " 1012,\n",
       " 102]"
      ]
     },
     "execution_count": 35,
     "metadata": {},
     "output_type": "execute_result"
    }
   ],
   "source": [
    "bert_tokenizer.encode(sent)"
   ]
  },
  {
   "cell_type": "code",
   "execution_count": 29,
   "metadata": {},
   "outputs": [],
   "source": [
    "def truncate_seq(tokens, tokenizer, max_len=512):\n",
    "    if len(tokens) < max_len:\n",
    "        tokens=tokens[:-1]\n",
    "        n = max_len - len(tokens) - 1\n",
    "        tokens += n * [tokenizer.pad_token]\n",
    "    elif len(tokens) > max_len:\n",
    "        tokens=tokens[:max_len-1]\n",
    "    else:\n",
    "        return tokens\n",
    "    \n",
    "    tokens.append(tokenizer.sep_token)\n",
    "    \n",
    "    return tokens\n",
    "\n",
    "def tokenize_text_to_ids(text, tokenizer, sent_tokenize, max_len=512):\n",
    "    sents = sent_tokenize(text)\n",
    "    tokens = []\n",
    "    tokens.append(bert_tokenizer.cls_token)\n",
    "    for s in sents:\n",
    "        tokens.extend(bert_tokenizer.tokenize(s))\n",
    "        tokens.append(bert_tokenizer.sep_token)\n",
    "    \n",
    "    tokens = truncate_seq(tokens, tokenizer, max_len)\n",
    "    \n",
    "    assert len(tokens) == max_len\n",
    "    \n",
    "    return bert_tokenizer.convert_tokens_to_ids(tokens)\n",
    "#tokens[:-1]"
   ]
  },
  {
   "cell_type": "code",
   "execution_count": null,
   "metadata": {},
   "outputs": [],
   "source": []
  },
  {
   "cell_type": "code",
   "execution_count": 27,
   "metadata": {},
   "outputs": [
    {
     "data": {
      "text/plain": [
       "['this', 'is', 'a', 'test', '.', '[PAD]', '[PAD]', '[PAD]', '[PAD]', '[SEP]']"
      ]
     },
     "execution_count": 27,
     "metadata": {},
     "output_type": "execute_result"
    }
   ],
   "source": [
    "tokens = bert_tokenizer.tokenize(\"This is a test.\")\n",
    "tokens.append(bert_tokenizer.sep_token)\n",
    "truncate_seq(tokens, bert_tokenizer, max_len=10)"
   ]
  },
  {
   "cell_type": "code",
   "execution_count": 28,
   "metadata": {},
   "outputs": [
    {
     "data": {
      "text/plain": [
       "[101, 2023, 2003, 1037, 3231, 1012, 0, 0, 0, 102]"
      ]
     },
     "execution_count": 28,
     "metadata": {},
     "output_type": "execute_result"
    }
   ],
   "source": [
    "tokenize_text_to_ids(\"This is a test.\", bert_tokenizer, sent_tokenize, max_len=10)"
   ]
  },
  {
   "cell_type": "code",
   "execution_count": 23,
   "metadata": {},
   "outputs": [],
   "source": [
    "def truncate_seq(tokens, tokenizer, max_len=512):\n",
    "    if len(tokens) < max_len:\n",
    "        tokens=tokens[:-1]\n",
    "        n = max_len - len(tokens) - 1\n",
    "        tokens += n * [tokenizer.pad_token]\n",
    "    elif len(tokens) > max_len:\n",
    "        tokens=tokens[:max_len-1]\n",
    "    else:\n",
    "        return tokens\n",
    "    \n",
    "    tokens.append(tokenizer.sep_token)\n",
    "    \n",
    "    return tokens\n",
    "\n",
    "def tokenize_text_to_ids(text, tokenizer, sent_tokenize, max_len=512):\n",
    "    sents = sent_tokenize(text)\n",
    "    tokens = []\n",
    "    n_words = 0\n",
    "\n",
    "    tokens.append(tokenizer.cls_token)\n",
    "    added_tokens = 1\n",
    "\n",
    "    for s in sents:\n",
    "        # tokenise & punctuation\n",
    "        #tokens.extend(tokenizer.tokenize(s))\n",
    "        tokens.extend([word for word in tokenizer.tokenize(s) if word.isalpha()])\n",
    "        tokens.append(tokenizer.sep_token)\n",
    "        added_tokens += 1\n",
    "    \n",
    "    n_words = len(tokens) - added_tokens\n",
    "    tokens = truncate_seq(tokens, tokenizer, max_len)\n",
    "    \n",
    "    assert len(tokens) == max_len\n",
    "    \n",
    "    return tokenizer.convert_tokens_to_ids(tokens), n_words"
   ]
  },
  {
   "cell_type": "code",
   "execution_count": 115,
   "metadata": {},
   "outputs": [],
   "source": [
    "def prep_text(df, bert_tokenizer, bert_model, batch_size, max_len, device, drop_org_reviews=False):\n",
    "\n",
    "    print(\"Encoding Text..\")\n",
    "\n",
    "    bert_model.to(device)\n",
    "\n",
    "    encoded_text = {}\n",
    "    start_idx = 0\n",
    "    stop_idx = batch_size\n",
    "\n",
    "    df[\"n_words\"] = 0\n",
    "\n",
    "    while(start_idx < len(df)):\n",
    "\n",
    "        if stop_idx > len(df):\n",
    "            stop_idx = len(df)\n",
    "\n",
    "        encoded_in, n_words = zip(*[tokenize_text_to_ids(text, bert_tokenizer, sent_tokenize, max_len) for text\n",
    "                  in list(df['reviewText'])[start_idx:stop_idx]])\n",
    "        \n",
    "        #encoded_in = out[:][0]\n",
    "        #print(encoded_in)\n",
    "        #print((start_idx, stop_idx))\n",
    "        #print(len(n_words))       \n",
    "        \n",
    "        #assert batch_size == len(n_words)\n",
    "        \n",
    "        encoded_in = torch.tensor(encoded_in, requires_grad=False, device=device).long()\n",
    "\n",
    "        #with torch.no_grad():\n",
    "        #    last_hidden, pooled_out = bert_model(encoded_in)\n",
    "\n",
    "        #assert last_hidden.shape[0] == batch_size\n",
    "\n",
    "        #save tensor of encoded text into separate dictionary\n",
    "        keys = range(start_idx, stop_idx)\n",
    "        \n",
    "        #encoded_text = {**encoded_text, **dict(zip(keys, last_hidden))}\n",
    "\n",
    "        df.loc[keys, \"n_words\"] = n_words\n",
    "\n",
    "        start_idx += (batch_size+1)\n",
    "        stop_idx += (batch_size+1)\n",
    "\n",
    "    print(\"done\")\n",
    "    if drop_org_reviews:\n",
    "        df = df.drop('reviewText', axis=1)\n",
    "\n",
    "    df.astype({\"n_words\":'int32'})\n",
    "        \n",
    "    return df, encoded_text"
   ]
  },
  {
   "cell_type": "code",
   "execution_count": 116,
   "metadata": {},
   "outputs": [
    {
     "name": "stdout",
     "output_type": "stream",
     "text": [
      "Encoding Text..\n",
      "done\n"
     ]
    }
   ],
   "source": [
    "batch_size=2\n",
    "max_len=100\n",
    "device='cpu'\n",
    "\n",
    "df, encoded_text = prep_text(df[:100], bert_tokenizer, bert_model, batch_size, \n",
    "                             max_len=max_len, drop_org_reviews=False, device=device)"
   ]
  },
  {
   "cell_type": "markdown",
   "metadata": {},
   "source": [
    "## Analysis"
   ]
  },
  {
   "cell_type": "code",
   "execution_count": 26,
   "metadata": {},
   "outputs": [
    {
     "name": "stdout",
     "output_type": "stream",
     "text": [
      "Number of unique reviewers: 8908\n",
      "Number of unique items: 88\n"
     ]
    }
   ],
   "source": [
    "print(\"Number of unique reviewers: {}\".format(len(user_dict.keys())))\n",
    "print(\"Number of unique items: {}\".format(len(item_dict.keys())))"
   ]
  },
  {
   "cell_type": "code",
   "execution_count": 27,
   "metadata": {},
   "outputs": [
    {
     "data": {
      "text/plain": [
       "'A0334855HN6E38CXWXZR'"
      ]
     },
     "execution_count": 27,
     "metadata": {},
     "output_type": "execute_result"
    }
   ],
   "source": [
    "list(user_dict.keys())[0]"
   ]
  },
  {
   "cell_type": "code",
   "execution_count": 28,
   "metadata": {},
   "outputs": [
    {
     "data": {
      "text/plain": [
       "dict_keys(['n_reviews', 'm_rating', 'm_words'])"
      ]
     },
     "execution_count": 28,
     "metadata": {},
     "output_type": "execute_result"
    }
   ],
   "source": [
    "user_dict['A0334855HN6E38CXWXZR'].keys()"
   ]
  },
  {
   "cell_type": "code",
   "execution_count": 29,
   "metadata": {},
   "outputs": [
    {
     "name": "stdout",
     "output_type": "stream",
     "text": [
      "8908\n"
     ]
    },
    {
     "data": {
      "text/html": [
       "<div>\n",
       "<style scoped>\n",
       "    .dataframe tbody tr th:only-of-type {\n",
       "        vertical-align: middle;\n",
       "    }\n",
       "\n",
       "    .dataframe tbody tr th {\n",
       "        vertical-align: top;\n",
       "    }\n",
       "\n",
       "    .dataframe thead th {\n",
       "        text-align: right;\n",
       "    }\n",
       "</style>\n",
       "<table border=\"1\" class=\"dataframe\">\n",
       "  <thead>\n",
       "    <tr style=\"text-align: right;\">\n",
       "      <th></th>\n",
       "      <th>n_reviews</th>\n",
       "      <th>m_rating</th>\n",
       "      <th>m_words</th>\n",
       "    </tr>\n",
       "  </thead>\n",
       "  <tbody>\n",
       "    <tr>\n",
       "      <th>A0334855HN6E38CXWXZR</th>\n",
       "      <td>1</td>\n",
       "      <td>5.0</td>\n",
       "      <td>12.0</td>\n",
       "    </tr>\n",
       "    <tr>\n",
       "      <th>A0790722OCX87RKL2J3T</th>\n",
       "      <td>1</td>\n",
       "      <td>5.0</td>\n",
       "      <td>71.0</td>\n",
       "    </tr>\n",
       "    <tr>\n",
       "      <th>A100JBBLCC0NUC</th>\n",
       "      <td>1</td>\n",
       "      <td>5.0</td>\n",
       "      <td>27.0</td>\n",
       "    </tr>\n",
       "    <tr>\n",
       "      <th>A101OKMJFCIWYH</th>\n",
       "      <td>2</td>\n",
       "      <td>5.0</td>\n",
       "      <td>26.0</td>\n",
       "    </tr>\n",
       "    <tr>\n",
       "      <th>A1022R52JDJVMA</th>\n",
       "      <td>1</td>\n",
       "      <td>5.0</td>\n",
       "      <td>58.0</td>\n",
       "    </tr>\n",
       "  </tbody>\n",
       "</table>\n",
       "</div>"
      ],
      "text/plain": [
       "                      n_reviews  m_rating  m_words\n",
       "A0334855HN6E38CXWXZR          1       5.0     12.0\n",
       "A0790722OCX87RKL2J3T          1       5.0     71.0\n",
       "A100JBBLCC0NUC                1       5.0     27.0\n",
       "A101OKMJFCIWYH                2       5.0     26.0\n",
       "A1022R52JDJVMA                1       5.0     58.0"
      ]
     },
     "execution_count": 29,
     "metadata": {},
     "output_type": "execute_result"
    }
   ],
   "source": [
    "df_user = pd.DataFrame.from_dict(user_dict, orient='index')\n",
    "print(len(df_user))\n",
    "df_user.head()"
   ]
  },
  {
   "cell_type": "code",
   "execution_count": 30,
   "metadata": {},
   "outputs": [],
   "source": [
    "df_items = pd.DataFrame.from_dict(item_dict, orient='index')"
   ]
  },
  {
   "cell_type": "code",
   "execution_count": 105,
   "metadata": {},
   "outputs": [
    {
     "name": "stdout",
     "output_type": "stream",
     "text": [
      "Mean: 1.12\n",
      "Median: 1.0\n",
      "Std: 0.61\n"
     ]
    },
    {
     "data": {
      "text/plain": [
       "<matplotlib.legend.Legend at 0x7f734d25b278>"
      ]
     },
     "execution_count": 105,
     "metadata": {},
     "output_type": "execute_result"
    },
    {
     "data": {
      "image/png": "[encoded data removed]",
      "text/plain": [
       "<Figure size 432x288 with 1 Axes>"
      ]
     },
     "metadata": {
      "needs_background": "light"
     },
     "output_type": "display_data"
    }
   ],
   "source": [
    "#reviews per user\n",
    "plt.hist(df_user['n_reviews'], bins=[1,2,3,4,6,10], density=True)\n",
    "plt.axvline(df_user['n_reviews'].mean(), color='orange', linestyle='--', label='mean')\n",
    "print(\"Mean: %.2f\" % df_user['n_reviews'].mean())\n",
    "print(\"Median: %.1f\" % df_user['n_reviews'].median())\n",
    "print(\"Std: %.2f\" % df_user['n_reviews'].std())\n",
    "plt.xlabel('# reviews per user')\n",
    "plt.ylabel('Proportion')\n",
    "plt.title('Distribution of # reviews per user')\n",
    "\n",
    "plt.legend()"
   ]
  },
  {
   "cell_type": "code",
   "execution_count": 43,
   "metadata": {},
   "outputs": [
    {
     "name": "stdout",
     "output_type": "stream",
     "text": [
      "Users with more than 3 reviews: 94\n",
      "That's only 1.055231252806466 %\n"
     ]
    }
   ],
   "source": [
    "min_reviews = 3\n",
    "print(\"Users with more than {} reviews: {}\".format(min_reviews, df_user[df_user['n_reviews'] > min_reviews]['n_reviews'].count()))\n",
    "print(\"That's only {} %\".format(df_user[df_user['n_reviews'] > min_reviews]['n_reviews'].count() / len(df_user)*100))"
   ]
  },
  {
   "cell_type": "code",
   "execution_count": null,
   "metadata": {},
   "outputs": [],
   "source": [
    "plt.hist(df_user['m_words'], bins=[10, 20, 50, 100, 150, 200, 300, 350], density=True)\n",
    "plt.axvline(df_user['m_words'].mean(), color='orange', linestyle='--', label='mean')\n",
    "plt.axvline(df_user['m_words'].median(), color='green', linestyle='--', label='median')\n",
    "\n",
    "\n",
    "print(\"Mean: %.2f\" % df_user['m_words'].mean())\n",
    "print(\"Std: %.2f\" % df_user['m_words'].std())\n",
    "print(\"Median: %.1f\" % df_user['m_words'].median())\n",
    "print(\"Min: %.1f\" % df_user['m_words'].min())\n",
    "\n",
    "plt.xlabel('average # words per User')\n",
    "plt.ylabel('Proportion')\n",
    "plt.title('Distribution of # words per User')\n",
    "plt.legend()"
   ]
  },
  {
   "cell_type": "code",
   "execution_count": 90,
   "metadata": {},
   "outputs": [],
   "source": [
    "#m_words per user\n",
    "def plot_words_per_user(df_user, bins=[10, 20, 50, 100, 150, 200, 300, 350]):\n",
    "    plt.hist(df_user['m_words'], bins=bins, density=True)\n",
    "    plt.axvline(df_user['m_words'].mean(), color='orange', linestyle='--', label='mean')\n",
    "    plt.axvline(df_user['m_words'].median(), color='green', linestyle='--', label='median')\n",
    "\n",
    "\n",
    "    print(\"Mean: %.2f\" % df_user['m_words'].mean())\n",
    "    print(\"Std: %.2f\" % df_user['m_words'].std())\n",
    "    print(\"Median: %.1f\" % df_user['m_words'].median())\n",
    "    print(\"Min: %.1f\" % df_user['m_words'].min())\n",
    "    print(\"Max: %.1f\" % df_user['m_words'].max())\n",
    "\n",
    "    plt.xlabel('average # words per User')\n",
    "    plt.ylabel('Proportion')\n",
    "    plt.title('Distribution of # words per User')\n",
    "    plt.legend()"
   ]
  },
  {
   "cell_type": "code",
   "execution_count": 91,
   "metadata": {},
   "outputs": [
    {
     "name": "stdout",
     "output_type": "stream",
     "text": [
      "Users with more than 90 average words per review: 2395\n",
      "That's 26.88594521778177% of all users\n"
     ]
    }
   ],
   "source": [
    "min_words = 90\n",
    "print(\"Users with more than {} average words per review: {}\".format(min_words, df_user[df_user['m_words'] > min_words]['n_reviews'].count()))\n",
    "print(\"That's {}% of all users\".format(df_user[df_user['m_words'] > min_words]['n_reviews'].count() / len(df_user)*100))"
   ]
  },
  {
   "cell_type": "code",
   "execution_count": 95,
   "metadata": {},
   "outputs": [
    {
     "data": {
      "text/plain": [
       "array([  90.        ,  141.29886531,  221.83743708,  348.28197936,\n",
       "        546.79831656,  858.46646313, 1347.78152383, 2116.        ])"
      ]
     },
     "execution_count": 95,
     "metadata": {},
     "output_type": "execute_result"
    }
   ],
   "source": [
    "np.geomspace(min_words, int(user_subset['m_words'].max()), 8)"
   ]
  },
  {
   "cell_type": "code",
   "execution_count": 102,
   "metadata": {},
   "outputs": [
    {
     "name": "stdout",
     "output_type": "stream",
     "text": [
      "2395\n",
      "Mean: 241.89\n",
      "Std: 187.95\n",
      "Median: 183.0\n",
      "Min: 91.0\n",
      "Max: 2116.0\n"
     ]
    },
    {
     "data": {
      "image/png": "[encoded data removed]",
      "text/plain": [
       "<Figure size 432x288 with 1 Axes>"
      ]
     },
     "metadata": {
      "needs_background": "light"
     },
     "output_type": "display_data"
    }
   ],
   "source": [
    "min_words = 90\n",
    "user_subset = df_user[df_user['m_words'] > min_words]\n",
    "print(len(user_subset))\n",
    "plot_words_per_user(user_subset, bins=np.geomspace(min_words, int(user_subset['m_words'].max()), 7))"
   ]
  },
  {
   "cell_type": "code",
   "execution_count": 124,
   "metadata": {},
   "outputs": [],
   "source": [
    "user_subset = df_user[df_user['n_reviews'] > min_reviews]"
   ]
  },
  {
   "cell_type": "markdown",
   "metadata": {},
   "source": [
    "### Items"
   ]
  },
  {
   "cell_type": "code",
   "execution_count": 59,
   "metadata": {},
   "outputs": [
    {
     "name": "stdout",
     "output_type": "stream",
     "text": [
      "Mean: 113.64\n",
      "Std: 328.94\n",
      "Median: 26.5\n",
      "Min: 1.0\n"
     ]
    },
    {
     "data": {
      "text/plain": [
       "<matplotlib.legend.Legend at 0x7f734de19278>"
      ]
     },
     "execution_count": 59,
     "metadata": {},
     "output_type": "execute_result"
    },
    {
     "data": {
      "image/png": "[encoded data removed]",
      "text/plain": [
       "<Figure size 432x288 with 1 Axes>"
      ]
     },
     "metadata": {
      "needs_background": "light"
     },
     "output_type": "display_data"
    }
   ],
   "source": [
    "#reviews per item\n",
    "plt.hist(df_items['n_reviews'], bins=[2,5,10, 20, 50, 150, 250], density=True)\n",
    "plt.axvline(df_items['n_reviews'].mean(), color='orange', linestyle='--', label='mean')\n",
    "plt.axvline(df_items['n_reviews'].median(), color='green', linestyle='--', label='median')\n",
    "print(\"Mean: %.2f\" % df_items['n_reviews'].mean())\n",
    "print(\"Std: %.2f\" % df_items['n_reviews'].std())\n",
    "print(\"Median: %.1f\" % df_items['n_reviews'].median())\n",
    "print(\"Min: %.1f\" % df_items['n_reviews'].min())\n",
    "\n",
    "plt.xlabel('# reviews per item')\n",
    "plt.ylabel('Proportion')\n",
    "plt.title('Distribution of # reviews per Item')\n",
    "plt.legend()"
   ]
  },
  {
   "cell_type": "code",
   "execution_count": 106,
   "metadata": {},
   "outputs": [
    {
     "name": "stdout",
     "output_type": "stream",
     "text": [
      "Mean: 103.33\n",
      "Std: 69.10\n",
      "Median: 82.0\n",
      "Min: 21.7\n"
     ]
    },
    {
     "data": {
      "text/plain": [
       "<matplotlib.legend.Legend at 0x7f734d22cf98>"
      ]
     },
     "execution_count": 106,
     "metadata": {},
     "output_type": "execute_result"
    },
    {
     "data": {
      "image/png": "[encoded data removed]",
      "text/plain": [
       "<Figure size 432x288 with 1 Axes>"
      ]
     },
     "metadata": {
      "needs_background": "light"
     },
     "output_type": "display_data"
    }
   ],
   "source": [
    "#m_words per item\n",
    "plt.hist(df_items['m_words'], bins=[20, 50, 75, 100, 150, 200, 300, 350], density=True)\n",
    "plt.axvline(df_items['m_words'].mean(), color='orange', linestyle='--', label='mean')\n",
    "plt.axvline(df_items['m_words'].median(), color='green', linestyle='--', label='median')\n",
    "\n",
    "\n",
    "print(\"Mean: %.2f\" % df_items['m_words'].mean())\n",
    "print(\"Std: %.2f\" % df_items['m_words'].std())\n",
    "print(\"Median: %.1f\" % df_items['m_words'].median())\n",
    "print(\"Min: %.1f\" % df_items['m_words'].min())\n",
    "\n",
    "plt.xlabel('# words per review')\n",
    "plt.ylabel('Proportion')\n",
    "plt.title('Distribution of # words per review')\n",
    "plt.legend()"
   ]
  },
  {
   "cell_type": "code",
   "execution_count": 96,
   "metadata": {},
   "outputs": [],
   "source": [
    "# TODO: plot distributions in with meaningful bin sizes/intervals, e.g. 1-2, 3-4, 5-7, >8"
   ]
  },
  {
   "cell_type": "code",
   "execution_count": null,
   "metadata": {},
   "outputs": [],
   "source": []
  },
  {
   "cell_type": "markdown",
   "metadata": {},
   "source": [
    "## Bert Stuff"
   ]
  },
  {
   "cell_type": "code",
   "execution_count": 36,
   "metadata": {},
   "outputs": [
    {
     "name": "stdout",
     "output_type": "stream",
     "text": [
      "[2292, 1005, 1055, 2156, 2035, 5023, 1011, 2163, 1998, 3086, 2015, 2006, 2023, 3793]\n"
     ]
    }
   ],
   "source": [
    "#bert_tokenizer = BertTokenizer.from_pretrained('bert-base-uncased')\n",
    "print(bert_tokenizer.convert_tokens_to_ids(bert_tokenizer.tokenize(\"Let's see all hidden-states and attentions on this text\")))\n",
    "#print(bert_tokenizer.convert_tokens_to_ids(bert_tokenizer.tokenize(\"Let's see all hidden-states? and attentions on this text\")))"
   ]
  },
  {
   "cell_type": "code",
   "execution_count": 37,
   "metadata": {},
   "outputs": [],
   "source": [
    "word_embeddings = bert_model.get_input_embeddings()"
   ]
  },
  {
   "cell_type": "code",
   "execution_count": null,
   "metadata": {},
   "outputs": [],
   "source": []
  },
  {
   "cell_type": "code",
   "execution_count": 38,
   "metadata": {},
   "outputs": [
    {
     "data": {
      "text/plain": [
       "[101,\n",
       " 2023,\n",
       " 2003,\n",
       " 1037,\n",
       " 3231,\n",
       " 1011,\n",
       " 6251,\n",
       " 1010,\n",
       " 2061,\n",
       " 2292,\n",
       " 1005,\n",
       " 1055,\n",
       " 2156,\n",
       " 2054,\n",
       " 6433,\n",
       " 102,\n",
       " 0,\n",
       " 0,\n",
       " 0,\n",
       " 0,\n",
       " 0,\n",
       " 0,\n",
       " 0,\n",
       " 0,\n",
       " 0,\n",
       " 0,\n",
       " 0,\n",
       " 0,\n",
       " 0,\n",
       " 0]"
      ]
     },
     "execution_count": 38,
     "metadata": {},
     "output_type": "execute_result"
    }
   ],
   "source": [
    "sent = \"This is a test-sentence, so let's see what happens\"\n",
    "#tokens = bert_tokenizer.tokenize(sent)\n",
    "#tokens = ['[CLS]'] + list(tokens) + ['[SEP]']\n",
    "#tokens = bert_tokenizer.convert_tokens_to_ids(tokens)\n",
    "\n",
    "tokens = bert_tokenizer.encode(sent, max_length=30, add_special_tokens=True, pad_to_max_length=True)\n",
    "x = torch.tensor(tokens, requires_grad=False).long()\n",
    "tokens"
   ]
  },
  {
   "cell_type": "code",
   "execution_count": 39,
   "metadata": {},
   "outputs": [
    {
     "name": "stdout",
     "output_type": "stream",
     "text": [
      "CPU times: user 3 µs, sys: 0 ns, total: 3 µs\n",
      "Wall time: 5.72 µs\n"
     ]
    }
   ],
   "source": [
    "%%time\n",
    "if not bert_loaded:\n",
    "    bert_model = BertModel.from_pretrained('bert-base-uncased', output_hidden_states=True,\n",
    "                                            output_attentions=True)\n",
    "    \n",
    "    bert_model.resize_token_embeddings(len(bert_tokenizer))"
   ]
  },
  {
   "cell_type": "code",
   "execution_count": 40,
   "metadata": {},
   "outputs": [
    {
     "data": {
      "text/plain": [
       "torch.Size([2, 30])"
      ]
     },
     "execution_count": 40,
     "metadata": {},
     "output_type": "execute_result"
    }
   ],
   "source": [
    "x_in = torch.stack([x, x], dim=0)\n",
    "x_in.shape"
   ]
  },
  {
   "cell_type": "code",
   "execution_count": 41,
   "metadata": {},
   "outputs": [
    {
     "name": "stdout",
     "output_type": "stream",
     "text": [
      "4\n"
     ]
    }
   ],
   "source": [
    "outputs = bert_model(x_in)\n",
    "print(len(outputs))"
   ]
  },
  {
   "cell_type": "code",
   "execution_count": 42,
   "metadata": {},
   "outputs": [
    {
     "data": {
      "text/plain": [
       "torch.Size([2, 30, 768])"
      ]
     },
     "execution_count": 42,
     "metadata": {},
     "output_type": "execute_result"
    }
   ],
   "source": [
    "#last hidden state\n",
    "outputs[0].shape #batchsize x seq_length x hidden_units"
   ]
  },
  {
   "cell_type": "code",
   "execution_count": 43,
   "metadata": {},
   "outputs": [
    {
     "data": {
      "text/plain": [
       "torch.Size([2, 768])"
      ]
     },
     "execution_count": 43,
     "metadata": {},
     "output_type": "execute_result"
    }
   ],
   "source": [
    "outputs[1].shape #pooled output"
   ]
  },
  {
   "cell_type": "markdown",
   "metadata": {},
   "source": [
    "From the documentation: \n",
    "\"This output is usually NOT a good summary of the semantic content of the input, \n",
    "you’re often better with averaging or pooling the sequence of hidden-states for the whole input sequence.\""
   ]
  },
  {
   "cell_type": "code",
   "execution_count": 44,
   "metadata": {},
   "outputs": [
    {
     "data": {
      "text/plain": [
       "13"
      ]
     },
     "execution_count": 44,
     "metadata": {},
     "output_type": "execute_result"
    }
   ],
   "source": [
    "len(outputs[2]) #hidden_states at each output layer"
   ]
  },
  {
   "cell_type": "code",
   "execution_count": 45,
   "metadata": {},
   "outputs": [
    {
     "data": {
      "text/plain": [
       "torch.Size([2, 30, 768])"
      ]
     },
     "execution_count": 45,
     "metadata": {},
     "output_type": "execute_result"
    }
   ],
   "source": [
    "outputs[2][-2].shape"
   ]
  },
  {
   "cell_type": "code",
   "execution_count": 46,
   "metadata": {},
   "outputs": [
    {
     "data": {
      "text/plain": [
       "12"
      ]
     },
     "execution_count": 46,
     "metadata": {},
     "output_type": "execute_result"
    }
   ],
   "source": [
    "len(outputs[3]) #attentions"
   ]
  },
  {
   "cell_type": "markdown",
   "metadata": {},
   "source": [
    "## Playground"
   ]
  },
  {
   "cell_type": "code",
   "execution_count": 49,
   "metadata": {},
   "outputs": [
    {
     "data": {
      "text/plain": [
       "tensor([ 101, 2023, 2003, 1037, 3231, 1011, 6251, 1010, 2061, 2292, 1005, 1055,\n",
       "        2156, 2054, 6433,  102,    0,    0,    0,    0,    0,    0,    0,    0,\n",
       "           0,    0,    0,    0,    0,    0])"
      ]
     },
     "execution_count": 49,
     "metadata": {},
     "output_type": "execute_result"
    }
   ],
   "source": [
    "x #tensor of shape seq_len containing word IDs"
   ]
  },
  {
   "cell_type": "code",
   "execution_count": 51,
   "metadata": {},
   "outputs": [
    {
     "data": {
      "text/plain": [
       "torch.Size([30, 768])"
      ]
     },
     "execution_count": 51,
     "metadata": {},
     "output_type": "execute_result"
    }
   ],
   "source": [
    "tokens_embedded = word_embeddings(x)\n",
    "tokens_embedded.shape #seq_len x word_e"
   ]
  },
  {
   "cell_type": "code",
   "execution_count": 55,
   "metadata": {},
   "outputs": [],
   "source": [
    "#word_embeddings(x_in)"
   ]
  },
  {
   "cell_type": "code",
   "execution_count": 56,
   "metadata": {},
   "outputs": [
    {
     "data": {
      "text/plain": [
       "torch.Size([30, 768])"
      ]
     },
     "execution_count": 56,
     "metadata": {},
     "output_type": "execute_result"
    }
   ],
   "source": [
    "last_hidden = outputs[0][0,:,:].squeeze()\n",
    "last_hidden.shape"
   ]
  },
  {
   "cell_type": "code",
   "execution_count": 57,
   "metadata": {},
   "outputs": [
    {
     "data": {
      "text/plain": [
       "False"
      ]
     },
     "execution_count": 57,
     "metadata": {},
     "output_type": "execute_result"
    }
   ],
   "source": [
    "torch.equal(last_hidden, tokens_embedded)"
   ]
  },
  {
   "cell_type": "code",
   "execution_count": 58,
   "metadata": {},
   "outputs": [
    {
     "data": {
      "text/plain": [
       "torch.Size([1, 30, 768])"
      ]
     },
     "execution_count": 58,
     "metadata": {},
     "output_type": "execute_result"
    }
   ],
   "source": [
    "last_hidden = last_hidden.view(1, last_hidden.shape[0], last_hidden.shape[1])\n",
    "last_hidden.shape"
   ]
  },
  {
   "cell_type": "code",
   "execution_count": 59,
   "metadata": {},
   "outputs": [],
   "source": [
    "def output_size(l_in, pad, kernel, stride):\n",
    "    l_out = l_in + 2*pad - kernel\n",
    "    l_out /= stride\n",
    "    l_out += 1\n",
    "    return l_out"
   ]
  },
  {
   "cell_type": "code",
   "execution_count": 60,
   "metadata": {},
   "outputs": [
    {
     "data": {
      "text/plain": [
       "torch.Size([1, 768])"
      ]
     },
     "execution_count": 60,
     "metadata": {},
     "output_type": "execute_result"
    }
   ],
   "source": [
    "x = torch.sum(last_hidden, dim=1)\n",
    "x.shape"
   ]
  },
  {
   "cell_type": "code",
   "execution_count": 61,
   "metadata": {},
   "outputs": [
    {
     "data": {
      "text/plain": [
       "torch.Size([1, 768])"
      ]
     },
     "execution_count": 61,
     "metadata": {},
     "output_type": "execute_result"
    }
   ],
   "source": [
    "x2 = torch.mean(last_hidden, dim=1)\n",
    "x2.shape"
   ]
  },
  {
   "cell_type": "code",
   "execution_count": 62,
   "metadata": {},
   "outputs": [],
   "source": [
    "text = {}"
   ]
  },
  {
   "cell_type": "code",
   "execution_count": 63,
   "metadata": {},
   "outputs": [
    {
     "data": {
      "text/plain": [
       "dict_keys([0, 1, 2, 3, 4, 5, 6, 7, 8, 9, 10])"
      ]
     },
     "execution_count": 63,
     "metadata": {},
     "output_type": "execute_result"
    }
   ],
   "source": [
    "\n",
    "#text[0:10] = torch.zeros([10,10])\n",
    "keys = range(0,11)\n",
    "values = torch.zeros([len(keys), 10, 10])\n",
    "text = {**text, **dict(zip(keys, values))}\n",
    "text.keys()"
   ]
  },
  {
   "cell_type": "code",
   "execution_count": 64,
   "metadata": {},
   "outputs": [],
   "source": [
    "keys = range(10,21)\n",
    "values = torch.zeros([len(keys), 10, 10])\n",
    "text = {**text, **dict(zip(keys, values))}"
   ]
  },
  {
   "cell_type": "code",
   "execution_count": 65,
   "metadata": {},
   "outputs": [
    {
     "name": "stdout",
     "output_type": "stream",
     "text": [
      "torch.Size([1, 768, 30])\n"
     ]
    }
   ],
   "source": [
    "print(last_hidden.permute(0,2,1).size())"
   ]
  },
  {
   "cell_type": "code",
   "execution_count": 66,
   "metadata": {},
   "outputs": [
    {
     "data": {
      "text/plain": [
       "torch.Size([1, 768, 10])"
      ]
     },
     "execution_count": 66,
     "metadata": {},
     "output_type": "execute_result"
    }
   ],
   "source": [
    "avg_pool = torch.nn.AvgPool1d(2, stride=3)\n",
    "\n",
    "avg_pool(last_hidden.permute(0,2,1)).shape"
   ]
  },
  {
   "cell_type": "code",
   "execution_count": 67,
   "metadata": {},
   "outputs": [
    {
     "data": {
      "text/plain": [
       "tensor([[0., 0., 0.,  ..., 0., 0., 0.],\n",
       "        [0., 0., 0.,  ..., 0., 0., 0.],\n",
       "        [0., 0., 0.,  ..., 0., 0., 0.],\n",
       "        ...,\n",
       "        [0., 0., 0.,  ..., 0., 0., 0.],\n",
       "        [0., 0., 0.,  ..., 0., 0., 0.],\n",
       "        [0., 0., 0.,  ..., 0., 0., 0.]])"
      ]
     },
     "execution_count": 67,
     "metadata": {},
     "output_type": "execute_result"
    }
   ],
   "source": [
    "torch.zeros(tokens_embedded.shape)"
   ]
  },
  {
   "cell_type": "markdown",
   "metadata": {},
   "source": [
    "Options for Encoding Sentences: \n",
    "1. Bert Embeddings (Raw): tokenise text and apply Bert Embeddings, no further processing [batch_size x seq_len x dim_e] => subsequent (sophisticated) Encoder should produce sentence representation [batch_size x dim_s]\n",
    "2. Last Hidden States: sequence encoded by Bert, powerful processing [batch_size x seq_len x dim_e] => subsequent (simple) Encoder produce sentence representation [batch_size x dim_s]\n",
    "3. Average over Last Hidden States: seq. encoded by Bert and average in the end to yield sentence representation [batch_size x dim_s]"
   ]
  },
  {
   "cell_type": "code",
   "execution_count": 69,
   "metadata": {},
   "outputs": [
    {
     "name": "stdout",
     "output_type": "stream",
     "text": [
      "CPU times: user 7.24 ms, sys: 148 µs, total: 7.39 ms\n",
      "Wall time: 7.34 ms\n"
     ]
    }
   ],
   "source": [
    "%%time\n",
    "max_elems=2\n",
    "encoded_in = [bert_tokenizer.encode(sent, max_length=30, add_special_tokens=True, pad_to_max_length=True) for sent in list(df['reviewText'])[:3]] "
   ]
  },
  {
   "cell_type": "code",
   "execution_count": 70,
   "metadata": {},
   "outputs": [
    {
     "data": {
      "text/plain": [
       "3"
      ]
     },
     "execution_count": 70,
     "metadata": {},
     "output_type": "execute_result"
    }
   ],
   "source": [
    "len(encoded_in)"
   ]
  },
  {
   "cell_type": "code",
   "execution_count": 284,
   "metadata": {},
   "outputs": [],
   "source": [
    "x_in = torch.tensor(encoded_in, requires_grad=False).long()"
   ]
  },
  {
   "cell_type": "code",
   "execution_count": 72,
   "metadata": {},
   "outputs": [],
   "source": [
    "outputs = bert_model(x_in)[:2]"
   ]
  },
  {
   "cell_type": "markdown",
   "metadata": {},
   "source": [
    "Options for Sentence Encoding\n",
    "\n",
    "1. Use last hidden state of CLS \n",
    "2. Use average of last hidden states of all tokens \n",
    "3. Use average over multiple hidden layers (A) for CLS or (B) for all tokens"
   ]
  },
  {
   "cell_type": "code",
   "execution_count": 13,
   "metadata": {},
   "outputs": [],
   "source": [
    "def clean_df(df):\n",
    "    ### remove rows with unformatted title (i.e. some 'title' may still contain html style content)\n",
    "\n",
    "    df = df.fillna('')\n",
    "    df = df.drop(['reviewerName', 'style', 'vote'], axis=1)\n",
    "    #df = df.drop('reviewerName', axis=1)\n",
    "    #df = df.drop('style', axis=1)\n",
    "    #df = df.drop('vote', axis=1)\n",
    "    #df = df.drop('image', axis=1)\n",
    "\n",
    "    # reformat timestamp\n",
    "    df['reviewTime'] = df['unixReviewTime'].apply(lambda x: pd.Timestamp(x, unit='s'))\n",
    "    df = df.drop('unixReviewTime', axis=1)\n",
    "\n",
    "    # rename columns\n",
    "    df = df.rename(columns={'asin': 'itemID'})\n",
    "\n",
    "    # aggregate text\n",
    "    df['reviewText'] = df['summary'] + \" \" + df['reviewText']\n",
    "    df = df.drop('summary', axis=1)\n",
    "\n",
    "    ## convert to other (smaller) datatype\n",
    "    df['overall'] = df['overall'].astype('int32')\n",
    "\n",
    "    return df\n",
    "\n",
    "\n",
    "def prep_text(df, bert_tokenizer, bert_model, batch_size, max_len, device, drop_org_reviews=False):\n",
    "\n",
    "    print(\"Cleaning Text..\")\n",
    "    #df['cleanedText'] = df['reviewText'].apply(lambda x: clean_text(x))\n",
    "    df['reviewWords'] = df['reviewText'].apply(lambda x: len(clean_text(x, bert_tokenizer)))\n",
    "\n",
    "    print(\"Encoding Text..\")\n",
    "\n",
    "    bert_model.to(device)\n",
    "\n",
    "    encoded_text = {}\n",
    "    start_idx = 0\n",
    "    stop_idx = batch_size\n",
    "\n",
    "    while(start_idx < len(df)):\n",
    "\n",
    "        if stop_idx > len(df):\n",
    "            stop_idx = len(df)\n",
    "\n",
    "        encoded_in = [tokenize_text_to_ids(text, bert_tokenizer, sent_tokenize, max_len) for text\n",
    "                  in list(df['reviewText'])[start_idx:stop_idx]]\n",
    "\n",
    "        encoded_in = torch.tensor(encoded_in, requires_grad=False, device=device).long()\n",
    "\n",
    "        with torch.no_grad():\n",
    "            last_hidden, pooled_out = bert_model(encoded_in)\n",
    "\n",
    "        assert last_hidden.shape[0] == batch_size\n",
    "\n",
    "        #save tensor of encoded text into separate dictionary\n",
    "        keys = range(start_idx, stop_idx+1)\n",
    "        encoded_text = {**encoded_text, **dict(zip(keys, last_hidden))}\n",
    "\n",
    "        start_idx += batch_size\n",
    "        stop_idx += batch_size\n",
    "\n",
    "    if drop_org_reviews:\n",
    "        df = df.drop('reviewText', axis=1)\n",
    "\n",
    "    return df, encoded_text\n",
    "\n",
    "def preprocessDF_lisa(path, pkl_path, bert_tokenizer, bert_model, device, batch_size, max_len=200, drop_org_reviews=False):\n",
    "    i = 0\n",
    "    data = {}\n",
    "\n",
    "    # aggreated info\n",
    "    user_dict = {}\n",
    "    item_dict = {}\n",
    "\n",
    "    with gzip.open(path, 'rb') as f:\n",
    "        print(\"Start reading: {}\".format(path))\n",
    "        for d in parse2(f):\n",
    "            data[i] = d\n",
    "            i += 1\n",
    "\n",
    "            if not i % 100000:\n",
    "                print(i)\n",
    "\n",
    "    print(\"Lines read {}\".format(i+1))\n",
    "    print(\"Constructing DataFrame\")\n",
    "    df = pd.DataFrame.from_dict(data, orient='index')\n",
    "\n",
    "    # preprocessing\n",
    "    df = clean_df(df)\n",
    "\n",
    "    # encode review text with Bert\n",
    "    df, encoded_text = prep_text(df, bert_tokenizer, bert_model, batch_size, max_len=max_len, drop_org_reviews=True, device=device)\n",
    "\n",
    "    # aggregate info\n",
    "    user_dict, item_dict = aggregate_info(df, user_dict, item_dict)\n",
    "\n",
    "    # save cleaned dataframe & encoded text\n",
    "    print(\"Saving ..\")\n",
    "    df.to_pickle(pkl_path + \"df.pkl\")\n",
    "    with open(pkl_path + \"encoded_text.pkl\", 'wb') as fout:\n",
    "        pickle.dump(encoded_text, fout)\n",
    "\n",
    "    # save stats\n",
    "    with open(pkl_path + \"user_stats.pkl\", 'wb') as fout:\n",
    "        pickle.dump(user_dict, fout)\n",
    "    with open(pkl_path + \"item_stats.pkl\", 'wb') as fout:\n",
    "        pickle.dump(item_dict, fout)\n",
    "\n",
    "    print(\"\\n\")\n",
    "    print(\"DONE\")\n",
    "\n",
    "    return user_dict, item_dict"
   ]
  },
  {
   "cell_type": "markdown",
   "metadata": {},
   "source": [
    "### Creating Item Representation\n",
    "\n",
    "1. Simple: Average pooling of all encoded reviews per Item\n",
    "\n",
    "Considerations: \n",
    "- Variable number of reviews per item => avg + pooling\n",
    "- Each review has same shape seq_emb\n",
    "- Recurrency? \n",
    "- weighted importance of reviews -> attention\n",
    "- try KimCNN"
   ]
  },
  {
   "cell_type": "code",
   "execution_count": 104,
   "metadata": {},
   "outputs": [],
   "source": [
    "seq_emb = 64\n",
    "item_ids = range(100)"
   ]
  },
  {
   "cell_type": "code",
   "execution_count": 105,
   "metadata": {},
   "outputs": [
    {
     "data": {
      "text/plain": [
       "tensor([-0.7788, -0.1752, -1.4187, -1.2129, -1.5625, -0.6949, -0.0978,  1.9925,\n",
       "        -0.8614, -0.2063, -0.6790, -0.0678,  0.5948, -0.6848,  2.0358,  1.2600,\n",
       "         0.4632,  0.0183,  1.2962,  0.5226, -0.5426,  0.3172,  1.3800,  0.4215,\n",
       "        -0.6946, -0.4134, -0.5079, -0.5923, -1.0295, -1.5446, -0.7742,  0.5573,\n",
       "         0.0765, -1.3517, -1.4776, -0.7013, -1.9214,  0.4102, -0.3102,  0.6824,\n",
       "        -1.0152,  0.6538, -0.0822,  0.7231, -2.4424, -0.2108, -1.9107,  0.0956,\n",
       "        -0.0101, -0.6765, -1.4137,  0.8374, -0.2575,  0.1501,  0.0115,  1.6809,\n",
       "         0.6018, -0.2314,  0.9818, -0.6832, -0.5440,  0.8054, -0.2465,  0.7479])"
      ]
     },
     "execution_count": 105,
     "metadata": {},
     "output_type": "execute_result"
    }
   ],
   "source": [
    "torch.randn(seq_emb)"
   ]
  },
  {
   "cell_type": "code",
   "execution_count": 138,
   "metadata": {},
   "outputs": [],
   "source": [
    "item_reviews = {}\n",
    "\n",
    "for i in item_ids:\n",
    "    item_reviews[i] = torch.stack([torch.randn(seq_emb)] * random.randint(5,10), dim=0)\n",
    "    item_reviews[i] = torch.mean(item_reviews[i], dim=0)"
   ]
  },
  {
   "cell_type": "code",
   "execution_count": 139,
   "metadata": {},
   "outputs": [
    {
     "data": {
      "text/plain": [
       "torch.Size([64])"
      ]
     },
     "execution_count": 139,
     "metadata": {},
     "output_type": "execute_result"
    }
   ],
   "source": [
    "item_reviews[0].shape"
   ]
  },
  {
   "cell_type": "code",
   "execution_count": 174,
   "metadata": {},
   "outputs": [],
   "source": [
    "user_reviews = {}\n",
    "user_ids = range(20)\n",
    "\n",
    "for i in user_ids:\n",
    "    user_reviews[i] = {}\n",
    "    for r in random.sample(list(item_reviews.keys()), random.randint(5,10)):\n",
    "    #user_reviews[i] = dict(zip(random.sample(list(item_reviews.keys()), random.randint(5,10)), torch.randn(seq_emb)))\n",
    "        user_reviews[i][r] = torch.randn(seq_emb)"
   ]
  },
  {
   "cell_type": "code",
   "execution_count": 209,
   "metadata": {},
   "outputs": [
    {
     "data": {
      "text/plain": [
       "dict_keys([0, 1, 2, 3, 4, 5, 6, 7, 8, 9, 10, 11, 12, 13, 14, 15, 16, 17, 18, 19])"
      ]
     },
     "execution_count": 209,
     "metadata": {},
     "output_type": "execute_result"
    }
   ],
   "source": [
    "user_reviews[0]\n",
    "user_reviews.keys()"
   ]
  },
  {
   "cell_type": "code",
   "execution_count": 222,
   "metadata": {},
   "outputs": [
    {
     "data": {
      "text/plain": [
       "torch.Size([6, 64])"
      ]
     },
     "execution_count": 222,
     "metadata": {},
     "output_type": "execute_result"
    }
   ],
   "source": [
    "stacked_reviews_user = torch.stack([user_reviews[2][r] for r in user_reviews[2]])\n",
    "stacked_reviews_user.shape"
   ]
  },
  {
   "cell_type": "code",
   "execution_count": 223,
   "metadata": {},
   "outputs": [
    {
     "data": {
      "text/plain": [
       "torch.Size([6, 64])"
      ]
     },
     "execution_count": 223,
     "metadata": {},
     "output_type": "execute_result"
    }
   ],
   "source": [
    "torch.stack([item_reviews[i] for i in user_reviews[2].keys()]).shape"
   ]
  },
  {
   "cell_type": "code",
   "execution_count": 258,
   "metadata": {},
   "outputs": [],
   "source": [
    "def create_user_representations(user_reviews, item_reviews, method='avg_items'):\n",
    "    user_repr = {}\n",
    "    for u in user_reviews.keys():\n",
    "        \n",
    "        if 'avg_items' == method:\n",
    "            stacked_reviews = torch.stack([item_reviews[i] for i in user_reviews[u].keys()])\n",
    "            #print(stacked_user_reviews.shape)\n",
    "            user_repr[u] = torch.mean(stacked_reviews, dim=0)\n",
    "        elif 'avg_items_user' == method:\n",
    "            stacked_reviews = torch.stack([item_reviews[i] for i in user_reviews[u].keys()])\n",
    "            stacked_reviews_user = torch.stack([user_reviews[u][r] for r in user_reviews[u].keys()])\n",
    "            user_repr[u] = torch.mean(stacked_reviews+stacked_reviews_user, dim=0)\n",
    "    \n",
    "    return user_repr"
   ]
  },
  {
   "cell_type": "code",
   "execution_count": 245,
   "metadata": {},
   "outputs": [],
   "source": [
    "user_repr_avg = create_user_representations(user_reviews, item_reviews, method='avg_items')"
   ]
  },
  {
   "cell_type": "code",
   "execution_count": 246,
   "metadata": {},
   "outputs": [
    {
     "data": {
      "text/plain": [
       "torch.Size([64])"
      ]
     },
     "execution_count": 246,
     "metadata": {},
     "output_type": "execute_result"
    }
   ],
   "source": [
    "user_repr_avg[0].shape"
   ]
  },
  {
   "cell_type": "code",
   "execution_count": 256,
   "metadata": {},
   "outputs": [
    {
     "data": {
      "text/plain": [
       "tensor([False, False, False, False, False, False, False, False, False, False,\n",
       "        False, False, False, False, False, False, False, False, False, False,\n",
       "        False, False, False, False, False, False, False, False, False, False,\n",
       "        False, False, False, False, False, False, False, False, False, False,\n",
       "        False, False, False, False, False, False, False, False, False, False,\n",
       "        False, False, False, False, False, False, False, False, False, False,\n",
       "        False, False, False, False])"
      ]
     },
     "execution_count": 256,
     "metadata": {},
     "output_type": "execute_result"
    }
   ],
   "source": [
    "user_repr_ui = create_user_representations(user_reviews, item_reviews, method='avg_items_user')\n",
    "user_repr_ui[0] == user_repr_avg[0]"
   ]
  },
  {
   "cell_type": "code",
   "execution_count": 248,
   "metadata": {},
   "outputs": [
    {
     "data": {
      "text/plain": [
       "torch.Size([1, 64])"
      ]
     },
     "execution_count": 248,
     "metadata": {},
     "output_type": "execute_result"
    }
   ],
   "source": [
    "user_repr_avg[0].unsqueeze(0).shape"
   ]
  },
  {
   "cell_type": "code",
   "execution_count": 249,
   "metadata": {},
   "outputs": [
    {
     "data": {
      "text/plain": [
       "86"
      ]
     },
     "execution_count": 249,
     "metadata": {},
     "output_type": "execute_result"
    }
   ],
   "source": [
    "random.choice(list(user_reviews[0].keys()))"
   ]
  },
  {
   "cell_type": "code",
   "execution_count": 250,
   "metadata": {},
   "outputs": [
    {
     "data": {
      "text/plain": [
       "array([[0.32955277]], dtype=float32)"
      ]
     },
     "execution_count": 250,
     "metadata": {},
     "output_type": "execute_result"
    }
   ],
   "source": [
    "# test similarity between user and 1 item his items\n",
    "cosine_similarity(user_repr_avg[0].unsqueeze(0), item_reviews[random.choice(list(user_reviews[0].keys()))].unsqueeze(0))"
   ]
  },
  {
   "cell_type": "code",
   "execution_count": 254,
   "metadata": {},
   "outputs": [
    {
     "name": "stdout",
     "output_type": "stream",
     "text": [
      "0.46191112995147704\n",
      "0.07365378449664024\n"
     ]
    }
   ],
   "source": [
    "cos = []\n",
    "for k in list(user_reviews[0].keys()):\n",
    "    cos.append(cosine_similarity(user_repr_avg[0].unsqueeze(0), item_reviews[k].unsqueeze(0)).item())\n",
    "    \n",
    "print(np.mean(cos))\n",
    "print(np.std(cos))"
   ]
  },
  {
   "cell_type": "code",
   "execution_count": 257,
   "metadata": {},
   "outputs": [
    {
     "name": "stdout",
     "output_type": "stream",
     "text": [
      "0.2634460687637329\n",
      "0.0592251264411033\n"
     ]
    }
   ],
   "source": [
    "cos = []\n",
    "for k in list(user_reviews[0].keys()):\n",
    "    cos.append(cosine_similarity(user_repr_ui[0].unsqueeze(0), item_reviews[k].unsqueeze(0)).item())\n",
    "    \n",
    "print(np.mean(cos))\n",
    "print(np.std(cos))"
   ]
  },
  {
   "cell_type": "code",
   "execution_count": 243,
   "metadata": {},
   "outputs": [
    {
     "data": {
      "text/plain": [
       "1.0"
      ]
     },
     "execution_count": 243,
     "metadata": {},
     "output_type": "execute_result"
    }
   ],
   "source": [
    "cosine_similarity(user_repr_ui[0].unsqueeze(0), user_repr_ui[0].unsqueeze(0)).item()"
   ]
  },
  {
   "cell_type": "code",
   "execution_count": null,
   "metadata": {},
   "outputs": [],
   "source": []
  },
  {
   "cell_type": "code",
   "execution_count": 288,
   "metadata": {},
   "outputs": [],
   "source": [
    "class GRUNet(nn.Module):\n",
    "    def __init__(self, input_dim, hidden_dim, output_dim, n_layers, device, drop_prob=0.2):\n",
    "        super(GRUNet, self).__init__()\n",
    "        self.device = device\n",
    "        self.hidden_dim = hidden_dim\n",
    "        self.n_layers = n_layers\n",
    "        \n",
    "        self.gru = nn.GRU(input_dim, hidden_dim, n_layers, batch_first=True, dropout=drop_prob)\n",
    "        self.fc = nn.Linear(hidden_dim, output_dim)\n",
    "        self.relu = nn.ReLU()\n",
    "        \n",
    "    def forward(self, x, h):\n",
    "        out, h = self.gru(x, h)\n",
    "        out = self.fc(self.relu(out[:,-1]))\n",
    "        return out, h\n",
    "    \n",
    "    def init_hidden(self, batch_size):\n",
    "        weight = next(self.parameters()).data\n",
    "        hidden = weight.new(self.n_layers, batch_size, self.hidden_dim).zero_().to(self.device)\n",
    "        return hidden\n",
    "\n",
    "class LSTMNet(nn.Module):\n",
    "    def __init__(self, input_dim, hidden_dim, output_dim, n_layers, device, drop_prob=0.2, bi=True):\n",
    "        super(LSTMNet, self).__init__()\n",
    "        self.device = device\n",
    "        self.hidden_dim = hidden_dim\n",
    "        self.n_layers = n_layers\n",
    "        \n",
    "        self.lstm = nn.LSTM(input_dim, hidden_dim, n_layers, batch_first=True, dropout=drop_prob, bidirectional=bi)\n",
    "        self.fc = nn.Linear(hidden_dim, output_dim)\n",
    "        self.relu = nn.ReLU()\n",
    "        \n",
    "    def forward(self, x, h):\n",
    "        out, h = self.lstm(x, h)\n",
    "        out = self.fc(self.relu(out[:,-1]))\n",
    "        return out, h\n",
    "    \n",
    "    def init_hidden(self, batch_size):\n",
    "        weight = next(self.parameters()).data\n",
    "        hidden = (weight.new(self.n_layers, batch_size, self.hidden_dim).zero_().to(self.device),\n",
    "                  weight.new(self.n_layers, batch_size, self.hidden_dim).zero_().to(self.device))\n",
    "        return hidden\n"
   ]
  },
  {
   "cell_type": "code",
   "execution_count": null,
   "metadata": {},
   "outputs": [],
   "source": [
    "\n"
   ]
  },
  {
   "cell_type": "code",
   "execution_count": 269,
   "metadata": {},
   "outputs": [],
   "source": [
    "#encode user with GRU\n",
    "\n",
    "input_dim = seq_emb\n",
    "hidden_dim = seq_emb\n",
    "output_dim = seq_emb\n",
    "\n",
    "stacked_reviews = torch.stack([item_reviews[i] for i in user_reviews[0].keys()])\n",
    "n_layers = stacked_reviews.shape[0]\n",
    "batch_size = 1\n",
    "device = 'cpu'\n",
    "\n",
    "\n",
    "model = GRUNet(input_dim, hidden_dim, output_dim, n_layers, device)\n",
    "h = model.init_hidden(batch_size)\n",
    "#if model_type == \"GRU\":\n",
    "h = h.data\n",
    "        \n",
    "out, h = model(stacked_reviews.unsqueeze(0).float(), h)"
   ]
  },
  {
   "cell_type": "code",
   "execution_count": 274,
   "metadata": {},
   "outputs": [
    {
     "data": {
      "text/plain": [
       "torch.Size([1, 64])"
      ]
     },
     "execution_count": 274,
     "metadata": {},
     "output_type": "execute_result"
    }
   ],
   "source": [
    "h[-1].shape\n",
    "#out.shape"
   ]
  },
  {
   "cell_type": "code",
   "execution_count": 281,
   "metadata": {},
   "outputs": [],
   "source": [
    "user_repr_gru = h[-1].detach()"
   ]
  },
  {
   "cell_type": "code",
   "execution_count": 282,
   "metadata": {},
   "outputs": [
    {
     "name": "stdout",
     "output_type": "stream",
     "text": [
      "[-0.0432269349694252, -0.07433795183897018, -0.08851823955774307, -0.1463300883769989, 0.10461973398923874]\n",
      "-0.04955869615077972\n",
      "0.08403289761568239\n"
     ]
    }
   ],
   "source": [
    "cos = []\n",
    "for k in list(user_reviews[0].keys()):\n",
    "    cos.append(cosine_similarity(user_repr_gru, item_reviews[k].unsqueeze(0)).item())\n",
    "\n",
    "print(cos)\n",
    "print(np.mean(cos))\n",
    "print(np.std(cos))"
   ]
  },
  {
   "cell_type": "code",
   "execution_count": 293,
   "metadata": {},
   "outputs": [],
   "source": [
    "#tokenize_text_to_ids(\"This is a test.\", bert_tokenizer, sent_tokenize, max_len=max_seq_len)"
   ]
  },
  {
   "cell_type": "code",
   "execution_count": null,
   "metadata": {},
   "outputs": [],
   "source": [
    "out, h = model(stacked_reviews.unsqueeze(0).float(), h)"
   ]
  }
 ],
 "metadata": {
  "kernelspec": {
   "display_name": ".venv-mt",
   "language": "python",
   "name": ".venv-mt"
  },
  "language_info": {
   "codemirror_mode": {
    "name": "ipython",
    "version": 3
   },
   "file_extension": ".py",
   "mimetype": "text/x-python",
   "name": "python",
   "nbconvert_exporter": "python",
   "pygments_lexer": "ipython3",
   "version": "3.7.3"
  }
 },
 "nbformat": 4,
 "nbformat_minor": 2
}
